{
 "cells": [
  {
   "cell_type": "code",
   "execution_count": 1,
   "id": "42711f5f",
   "metadata": {
    "_cell_guid": "b1076dfc-b9ad-4769-8c92-a6c4dae69d19",
    "_uuid": "8f2839f25d086af736a60e9eeb907d3b93b6e0e5",
    "execution": {
     "iopub.execute_input": "2025-09-19T14:29:49.985144Z",
     "iopub.status.busy": "2025-09-19T14:29:49.984254Z",
     "iopub.status.idle": "2025-09-19T14:29:51.805918Z",
     "shell.execute_reply": "2025-09-19T14:29:51.804938Z"
    },
    "papermill": {
     "duration": 1.830743,
     "end_time": "2025-09-19T14:29:51.807432",
     "exception": false,
     "start_time": "2025-09-19T14:29:49.976689",
     "status": "completed"
    },
    "tags": []
   },
   "outputs": [
    {
     "name": "stdout",
     "output_type": "stream",
     "text": [
      "/kaggle/input/gdp-per-country-20202025/2020-2025.csv\n"
     ]
    }
   ],
   "source": [
    "# This Python 3 environment comes with many helpful analytics libraries installed\n",
    "# It is defined by the kaggle/python Docker image: https://github.com/kaggle/docker-python\n",
    "# For example, here's several helpful packages to load\n",
    "\n",
    "import numpy as np # linear algebra\n",
    "import pandas as pd # data processing, CSV file I/O (e.g. pd.read_csv)\n",
    "\n",
    "# Input data files are available in the read-only \"../input/\" directory\n",
    "# For example, running this (by clicking run or pressing Shift+Enter) will list all files under the input directory\n",
    "\n",
    "import os\n",
    "for dirname, _, filenames in os.walk('/kaggle/input'):\n",
    "    for filename in filenames:\n",
    "        print(os.path.join(dirname, filename))\n",
    "\n",
    "# You can write up to 20GB to the current directory (/kaggle/working/) that gets preserved as output when you create a version using \"Save & Run All\" \n",
    "# You can also write temporary files to /kaggle/temp/, but they won't be saved outside of the current session"
   ]
  },
  {
   "cell_type": "code",
   "execution_count": 2,
   "id": "d3e18b3e",
   "metadata": {
    "execution": {
     "iopub.execute_input": "2025-09-19T14:29:51.820379Z",
     "iopub.status.busy": "2025-09-19T14:29:51.819512Z",
     "iopub.status.idle": "2025-09-19T14:29:55.416937Z",
     "shell.execute_reply": "2025-09-19T14:29:55.415896Z"
    },
    "papermill": {
     "duration": 3.605172,
     "end_time": "2025-09-19T14:29:55.418488",
     "exception": false,
     "start_time": "2025-09-19T14:29:51.813316",
     "status": "completed"
    },
    "tags": []
   },
   "outputs": [],
   "source": [
    "import numpy as np\n",
    "import pandas as pd\n",
    "import matplotlib.pyplot as plt\n",
    "import seaborn as sns\n",
    "import plotly.express as px\n",
    "from sklearn.linear_model import LinearRegression\n",
    "import warnings\n",
    "from sklearn.preprocessing import StandardScaler, MinMaxScaler, LabelEncoder\n",
    "from sklearn.impute import SimpleImputer\n",
    "from sklearn.pipeline import Pipeline\n",
    "from sklearn.compose import ColumnTransformer\n",
    "from sklearn.model_selection import train_test_split\n",
    "from sklearn.ensemble import RandomForestRegressor\n",
    "from sklearn.metrics import mean_absolute_error, mean_squared_error, r2_score"
   ]
  },
  {
   "cell_type": "code",
   "execution_count": 3,
   "id": "a68f21bf",
   "metadata": {
    "execution": {
     "iopub.execute_input": "2025-09-19T14:29:55.431240Z",
     "iopub.status.busy": "2025-09-19T14:29:55.430752Z",
     "iopub.status.idle": "2025-09-19T14:29:55.472664Z",
     "shell.execute_reply": "2025-09-19T14:29:55.471603Z"
    },
    "papermill": {
     "duration": 0.049909,
     "end_time": "2025-09-19T14:29:55.474227",
     "exception": false,
     "start_time": "2025-09-19T14:29:55.424318",
     "status": "completed"
    },
    "tags": []
   },
   "outputs": [
    {
     "name": "stderr",
     "output_type": "stream",
     "text": [
      "/usr/local/lib/python3.11/dist-packages/pandas/io/formats/format.py:1458: RuntimeWarning: invalid value encountered in greater\n",
      "  has_large_values = (abs_vals > 1e6).any()\n",
      "/usr/local/lib/python3.11/dist-packages/pandas/io/formats/format.py:1459: RuntimeWarning: invalid value encountered in less\n",
      "  has_small_values = ((abs_vals < 10 ** (-self.digits)) & (abs_vals > 0)).any()\n",
      "/usr/local/lib/python3.11/dist-packages/pandas/io/formats/format.py:1459: RuntimeWarning: invalid value encountered in greater\n",
      "  has_small_values = ((abs_vals < 10 ** (-self.digits)) & (abs_vals > 0)).any()\n"
     ]
    },
    {
     "data": {
      "text/html": [
       "<div>\n",
       "<style scoped>\n",
       "    .dataframe tbody tr th:only-of-type {\n",
       "        vertical-align: middle;\n",
       "    }\n",
       "\n",
       "    .dataframe tbody tr th {\n",
       "        vertical-align: top;\n",
       "    }\n",
       "\n",
       "    .dataframe thead th {\n",
       "        text-align: right;\n",
       "    }\n",
       "</style>\n",
       "<table border=\"1\" class=\"dataframe\">\n",
       "  <thead>\n",
       "    <tr style=\"text-align: right;\">\n",
       "      <th></th>\n",
       "      <th>Country</th>\n",
       "      <th>2020</th>\n",
       "      <th>2021</th>\n",
       "      <th>2022</th>\n",
       "      <th>2023</th>\n",
       "      <th>2024</th>\n",
       "      <th>2025</th>\n",
       "    </tr>\n",
       "  </thead>\n",
       "  <tbody>\n",
       "    <tr>\n",
       "      <th>0</th>\n",
       "      <td>Afghanistan</td>\n",
       "      <td>20136</td>\n",
       "      <td>14278.0</td>\n",
       "      <td>14501.0</td>\n",
       "      <td>17248.0</td>\n",
       "      <td>NaN</td>\n",
       "      <td>NaN</td>\n",
       "    </tr>\n",
       "    <tr>\n",
       "      <th>1</th>\n",
       "      <td>Albania</td>\n",
       "      <td>15271</td>\n",
       "      <td>18086.0</td>\n",
       "      <td>19185.0</td>\n",
       "      <td>23388.0</td>\n",
       "      <td>27259.0</td>\n",
       "      <td>28372.0</td>\n",
       "    </tr>\n",
       "    <tr>\n",
       "      <th>2</th>\n",
       "      <td>Algeria</td>\n",
       "      <td>164774</td>\n",
       "      <td>185850.0</td>\n",
       "      <td>225709.0</td>\n",
       "      <td>247789.0</td>\n",
       "      <td>264913.0</td>\n",
       "      <td>268885.0</td>\n",
       "    </tr>\n",
       "    <tr>\n",
       "      <th>3</th>\n",
       "      <td>Andorra</td>\n",
       "      <td>2885</td>\n",
       "      <td>3325.0</td>\n",
       "      <td>3376.0</td>\n",
       "      <td>3786.0</td>\n",
       "      <td>4038.0</td>\n",
       "      <td>4035.0</td>\n",
       "    </tr>\n",
       "    <tr>\n",
       "      <th>4</th>\n",
       "      <td>Angola</td>\n",
       "      <td>66521</td>\n",
       "      <td>84375.0</td>\n",
       "      <td>142442.0</td>\n",
       "      <td>109764.0</td>\n",
       "      <td>115946.0</td>\n",
       "      <td>113343.0</td>\n",
       "    </tr>\n",
       "    <tr>\n",
       "      <th>5</th>\n",
       "      <td>Antigua and Barbuda</td>\n",
       "      <td>1412</td>\n",
       "      <td>1602.0</td>\n",
       "      <td>1867.0</td>\n",
       "      <td>2006.0</td>\n",
       "      <td>2225.0</td>\n",
       "      <td>2373.0</td>\n",
       "    </tr>\n",
       "    <tr>\n",
       "      <th>6</th>\n",
       "      <td>Argentina</td>\n",
       "      <td>385218</td>\n",
       "      <td>486040.0</td>\n",
       "      <td>632318.0</td>\n",
       "      <td>645511.0</td>\n",
       "      <td>632145.0</td>\n",
       "      <td>683533.0</td>\n",
       "    </tr>\n",
       "    <tr>\n",
       "      <th>7</th>\n",
       "      <td>Armenia</td>\n",
       "      <td>12642</td>\n",
       "      <td>13879.0</td>\n",
       "      <td>19514.0</td>\n",
       "      <td>24086.0</td>\n",
       "      <td>25533.0</td>\n",
       "      <td>26258.0</td>\n",
       "    </tr>\n",
       "    <tr>\n",
       "      <th>8</th>\n",
       "      <td>Aruba</td>\n",
       "      <td>2486</td>\n",
       "      <td>2929.0</td>\n",
       "      <td>3279.0</td>\n",
       "      <td>3649.0</td>\n",
       "      <td>3952.0</td>\n",
       "      <td>4100.0</td>\n",
       "    </tr>\n",
       "    <tr>\n",
       "      <th>9</th>\n",
       "      <td>Australia</td>\n",
       "      <td>1362613</td>\n",
       "      <td>1655843.0</td>\n",
       "      <td>1725461.0</td>\n",
       "      <td>1742461.0</td>\n",
       "      <td>1796805.0</td>\n",
       "      <td>1771681.0</td>\n",
       "    </tr>\n",
       "  </tbody>\n",
       "</table>\n",
       "</div>"
      ],
      "text/plain": [
       "               Country     2020       2021       2022       2023       2024  \\\n",
       "0          Afghanistan    20136    14278.0    14501.0    17248.0        NaN   \n",
       "1              Albania    15271    18086.0    19185.0    23388.0    27259.0   \n",
       "2              Algeria   164774   185850.0   225709.0   247789.0   264913.0   \n",
       "3              Andorra     2885     3325.0     3376.0     3786.0     4038.0   \n",
       "4               Angola    66521    84375.0   142442.0   109764.0   115946.0   \n",
       "5  Antigua and Barbuda     1412     1602.0     1867.0     2006.0     2225.0   \n",
       "6            Argentina   385218   486040.0   632318.0   645511.0   632145.0   \n",
       "7              Armenia    12642    13879.0    19514.0    24086.0    25533.0   \n",
       "8                Aruba     2486     2929.0     3279.0     3649.0     3952.0   \n",
       "9            Australia  1362613  1655843.0  1725461.0  1742461.0  1796805.0   \n",
       "\n",
       "        2025  \n",
       "0        NaN  \n",
       "1    28372.0  \n",
       "2   268885.0  \n",
       "3     4035.0  \n",
       "4   113343.0  \n",
       "5     2373.0  \n",
       "6   683533.0  \n",
       "7    26258.0  \n",
       "8     4100.0  \n",
       "9  1771681.0  "
      ]
     },
     "execution_count": 3,
     "metadata": {},
     "output_type": "execute_result"
    }
   ],
   "source": [
    "df=pd.read_csv('/kaggle/input/gdp-per-country-20202025/2020-2025.csv')\n",
    "df.head(10)"
   ]
  },
  {
   "cell_type": "markdown",
   "id": "aeee8c57",
   "metadata": {
    "papermill": {
     "duration": 0.005341,
     "end_time": "2025-09-19T14:29:55.485527",
     "exception": false,
     "start_time": "2025-09-19T14:29:55.480186",
     "status": "completed"
    },
    "tags": []
   },
   "source": [
    "# Basic Information of Dataset"
   ]
  },
  {
   "cell_type": "code",
   "execution_count": 4,
   "id": "b7b7c198",
   "metadata": {
    "execution": {
     "iopub.execute_input": "2025-09-19T14:29:55.497861Z",
     "iopub.status.busy": "2025-09-19T14:29:55.497509Z",
     "iopub.status.idle": "2025-09-19T14:29:55.503006Z",
     "shell.execute_reply": "2025-09-19T14:29:55.502244Z"
    },
    "papermill": {
     "duration": 0.013256,
     "end_time": "2025-09-19T14:29:55.504375",
     "exception": false,
     "start_time": "2025-09-19T14:29:55.491119",
     "status": "completed"
    },
    "tags": []
   },
   "outputs": [
    {
     "data": {
      "text/plain": [
       "(196, 7)"
      ]
     },
     "execution_count": 4,
     "metadata": {},
     "output_type": "execute_result"
    }
   ],
   "source": [
    "df.shape"
   ]
  },
  {
   "cell_type": "code",
   "execution_count": 5,
   "id": "9db56efa",
   "metadata": {
    "execution": {
     "iopub.execute_input": "2025-09-19T14:29:55.517685Z",
     "iopub.status.busy": "2025-09-19T14:29:55.517384Z",
     "iopub.status.idle": "2025-09-19T14:29:55.543595Z",
     "shell.execute_reply": "2025-09-19T14:29:55.542553Z"
    },
    "papermill": {
     "duration": 0.034662,
     "end_time": "2025-09-19T14:29:55.545143",
     "exception": false,
     "start_time": "2025-09-19T14:29:55.510481",
     "status": "completed"
    },
    "tags": []
   },
   "outputs": [
    {
     "name": "stdout",
     "output_type": "stream",
     "text": [
      "RangeIndex(start=0, stop=196, step=1)\n",
      "Index(['Country', '2020', '2021', '2022', '2023', '2024', '2025'], dtype='object')\n",
      "<class 'pandas.core.frame.DataFrame'>\n",
      "RangeIndex: 196 entries, 0 to 195\n",
      "Data columns (total 7 columns):\n",
      " #   Column   Non-Null Count  Dtype  \n",
      "---  ------   --------------  -----  \n",
      " 0   Country  196 non-null    object \n",
      " 1   2020     196 non-null    int64  \n",
      " 2   2021     194 non-null    float64\n",
      " 3   2022     194 non-null    float64\n",
      " 4   2023     194 non-null    float64\n",
      " 5   2024     192 non-null    float64\n",
      " 6   2025     189 non-null    float64\n",
      "dtypes: float64(5), int64(1), object(1)\n",
      "memory usage: 10.8+ KB\n",
      "None\n"
     ]
    }
   ],
   "source": [
    "print(df.index)\n",
    "print(df.columns)\n",
    "print(df.info())"
   ]
  },
  {
   "cell_type": "code",
   "execution_count": 6,
   "id": "5456edcc",
   "metadata": {
    "execution": {
     "iopub.execute_input": "2025-09-19T14:29:55.559684Z",
     "iopub.status.busy": "2025-09-19T14:29:55.559139Z",
     "iopub.status.idle": "2025-09-19T14:29:55.595117Z",
     "shell.execute_reply": "2025-09-19T14:29:55.594256Z"
    },
    "papermill": {
     "duration": 0.044403,
     "end_time": "2025-09-19T14:29:55.596496",
     "exception": false,
     "start_time": "2025-09-19T14:29:55.552093",
     "status": "completed"
    },
    "tags": []
   },
   "outputs": [
    {
     "data": {
      "text/html": [
       "<div>\n",
       "<style scoped>\n",
       "    .dataframe tbody tr th:only-of-type {\n",
       "        vertical-align: middle;\n",
       "    }\n",
       "\n",
       "    .dataframe tbody tr th {\n",
       "        vertical-align: top;\n",
       "    }\n",
       "\n",
       "    .dataframe thead th {\n",
       "        text-align: right;\n",
       "    }\n",
       "</style>\n",
       "<table border=\"1\" class=\"dataframe\">\n",
       "  <thead>\n",
       "    <tr style=\"text-align: right;\">\n",
       "      <th></th>\n",
       "      <th>count</th>\n",
       "      <th>mean</th>\n",
       "      <th>std</th>\n",
       "      <th>min</th>\n",
       "      <th>25%</th>\n",
       "      <th>50%</th>\n",
       "      <th>75%</th>\n",
       "      <th>max</th>\n",
       "    </tr>\n",
       "  </thead>\n",
       "  <tbody>\n",
       "    <tr>\n",
       "      <th>2020</th>\n",
       "      <td>196.0</td>\n",
       "      <td>437888.637755</td>\n",
       "      <td>1.942936e+06</td>\n",
       "      <td>52.0</td>\n",
       "      <td>9588.00</td>\n",
       "      <td>35334.5</td>\n",
       "      <td>207481.00</td>\n",
       "      <td>21354125.0</td>\n",
       "    </tr>\n",
       "    <tr>\n",
       "      <th>2021</th>\n",
       "      <td>194.0</td>\n",
       "      <td>504350.438144</td>\n",
       "      <td>2.220864e+06</td>\n",
       "      <td>62.0</td>\n",
       "      <td>11141.75</td>\n",
       "      <td>37719.0</td>\n",
       "      <td>254613.25</td>\n",
       "      <td>23681175.0</td>\n",
       "    </tr>\n",
       "    <tr>\n",
       "      <th>2022</th>\n",
       "      <td>194.0</td>\n",
       "      <td>525506.381443</td>\n",
       "      <td>2.347886e+06</td>\n",
       "      <td>61.0</td>\n",
       "      <td>12650.00</td>\n",
       "      <td>41568.0</td>\n",
       "      <td>274630.75</td>\n",
       "      <td>26006900.0</td>\n",
       "    </tr>\n",
       "    <tr>\n",
       "      <th>2023</th>\n",
       "      <td>194.0</td>\n",
       "      <td>548617.283505</td>\n",
       "      <td>2.453040e+06</td>\n",
       "      <td>63.0</td>\n",
       "      <td>13604.50</td>\n",
       "      <td>43631.0</td>\n",
       "      <td>285035.50</td>\n",
       "      <td>27720725.0</td>\n",
       "    </tr>\n",
       "    <tr>\n",
       "      <th>2024</th>\n",
       "      <td>192.0</td>\n",
       "      <td>575687.072917</td>\n",
       "      <td>2.573189e+06</td>\n",
       "      <td>65.0</td>\n",
       "      <td>13500.50</td>\n",
       "      <td>47135.5</td>\n",
       "      <td>291510.75</td>\n",
       "      <td>29184900.0</td>\n",
       "    </tr>\n",
       "    <tr>\n",
       "      <th>2025</th>\n",
       "      <td>189.0</td>\n",
       "      <td>599141.449735</td>\n",
       "      <td>2.693421e+06</td>\n",
       "      <td>65.0</td>\n",
       "      <td>14214.00</td>\n",
       "      <td>47829.0</td>\n",
       "      <td>303293.00</td>\n",
       "      <td>30507217.0</td>\n",
       "    </tr>\n",
       "  </tbody>\n",
       "</table>\n",
       "</div>"
      ],
      "text/plain": [
       "      count           mean           std   min       25%      50%        75%  \\\n",
       "2020  196.0  437888.637755  1.942936e+06  52.0   9588.00  35334.5  207481.00   \n",
       "2021  194.0  504350.438144  2.220864e+06  62.0  11141.75  37719.0  254613.25   \n",
       "2022  194.0  525506.381443  2.347886e+06  61.0  12650.00  41568.0  274630.75   \n",
       "2023  194.0  548617.283505  2.453040e+06  63.0  13604.50  43631.0  285035.50   \n",
       "2024  192.0  575687.072917  2.573189e+06  65.0  13500.50  47135.5  291510.75   \n",
       "2025  189.0  599141.449735  2.693421e+06  65.0  14214.00  47829.0  303293.00   \n",
       "\n",
       "             max  \n",
       "2020  21354125.0  \n",
       "2021  23681175.0  \n",
       "2022  26006900.0  \n",
       "2023  27720725.0  \n",
       "2024  29184900.0  \n",
       "2025  30507217.0  "
      ]
     },
     "execution_count": 6,
     "metadata": {},
     "output_type": "execute_result"
    }
   ],
   "source": [
    "df.describe().T"
   ]
  },
  {
   "cell_type": "markdown",
   "id": "536cf9f4",
   "metadata": {
    "papermill": {
     "duration": 0.005858,
     "end_time": "2025-09-19T14:29:55.608559",
     "exception": false,
     "start_time": "2025-09-19T14:29:55.602701",
     "status": "completed"
    },
    "tags": []
   },
   "source": [
    "# Data Cleaning Process"
   ]
  },
  {
   "cell_type": "code",
   "execution_count": 7,
   "id": "34dd0515",
   "metadata": {
    "execution": {
     "iopub.execute_input": "2025-09-19T14:29:55.622051Z",
     "iopub.status.busy": "2025-09-19T14:29:55.621761Z",
     "iopub.status.idle": "2025-09-19T14:29:55.628957Z",
     "shell.execute_reply": "2025-09-19T14:29:55.628103Z"
    },
    "papermill": {
     "duration": 0.015434,
     "end_time": "2025-09-19T14:29:55.630332",
     "exception": false,
     "start_time": "2025-09-19T14:29:55.614898",
     "status": "completed"
    },
    "tags": []
   },
   "outputs": [
    {
     "data": {
      "text/plain": [
       "Country    0\n",
       "2020       0\n",
       "2021       2\n",
       "2022       2\n",
       "2023       2\n",
       "2024       4\n",
       "2025       7\n",
       "dtype: int64"
      ]
     },
     "execution_count": 7,
     "metadata": {},
     "output_type": "execute_result"
    }
   ],
   "source": [
    "df.isnull().sum()"
   ]
  },
  {
   "cell_type": "code",
   "execution_count": 8,
   "id": "36acdbfd",
   "metadata": {
    "execution": {
     "iopub.execute_input": "2025-09-19T14:29:55.644373Z",
     "iopub.status.busy": "2025-09-19T14:29:55.643836Z",
     "iopub.status.idle": "2025-09-19T14:29:55.649188Z",
     "shell.execute_reply": "2025-09-19T14:29:55.648359Z"
    },
    "papermill": {
     "duration": 0.013697,
     "end_time": "2025-09-19T14:29:55.650489",
     "exception": false,
     "start_time": "2025-09-19T14:29:55.636792",
     "status": "completed"
    },
    "tags": []
   },
   "outputs": [],
   "source": [
    "mean_21=df['2021'].mean()\n",
    "mean_22=df['2022'].mean()\n",
    "mean_23=df['2023'].mean()\n",
    "mean_24=df['2024'].mean()\n",
    "mean_25=df['2025'].mean()\n"
   ]
  },
  {
   "cell_type": "code",
   "execution_count": 9,
   "id": "a31ff48e",
   "metadata": {
    "execution": {
     "iopub.execute_input": "2025-09-19T14:29:55.664653Z",
     "iopub.status.busy": "2025-09-19T14:29:55.664379Z",
     "iopub.status.idle": "2025-09-19T14:29:55.679815Z",
     "shell.execute_reply": "2025-09-19T14:29:55.679030Z"
    },
    "papermill": {
     "duration": 0.024366,
     "end_time": "2025-09-19T14:29:55.681334",
     "exception": false,
     "start_time": "2025-09-19T14:29:55.656968",
     "status": "completed"
    },
    "tags": []
   },
   "outputs": [
    {
     "data": {
      "text/html": [
       "<div>\n",
       "<style scoped>\n",
       "    .dataframe tbody tr th:only-of-type {\n",
       "        vertical-align: middle;\n",
       "    }\n",
       "\n",
       "    .dataframe tbody tr th {\n",
       "        vertical-align: top;\n",
       "    }\n",
       "\n",
       "    .dataframe thead th {\n",
       "        text-align: right;\n",
       "    }\n",
       "</style>\n",
       "<table border=\"1\" class=\"dataframe\">\n",
       "  <thead>\n",
       "    <tr style=\"text-align: right;\">\n",
       "      <th></th>\n",
       "      <th>Country</th>\n",
       "      <th>2020</th>\n",
       "      <th>2021</th>\n",
       "      <th>2022</th>\n",
       "      <th>2023</th>\n",
       "      <th>2024</th>\n",
       "      <th>2025</th>\n",
       "    </tr>\n",
       "  </thead>\n",
       "  <tbody>\n",
       "    <tr>\n",
       "      <th>0</th>\n",
       "      <td>Afghanistan</td>\n",
       "      <td>20136</td>\n",
       "      <td>14278.0</td>\n",
       "      <td>14501.0</td>\n",
       "      <td>17248.0</td>\n",
       "      <td>575687.072917</td>\n",
       "      <td>599141.449735</td>\n",
       "    </tr>\n",
       "    <tr>\n",
       "      <th>1</th>\n",
       "      <td>Albania</td>\n",
       "      <td>15271</td>\n",
       "      <td>18086.0</td>\n",
       "      <td>19185.0</td>\n",
       "      <td>23388.0</td>\n",
       "      <td>27259.000000</td>\n",
       "      <td>28372.000000</td>\n",
       "    </tr>\n",
       "    <tr>\n",
       "      <th>2</th>\n",
       "      <td>Algeria</td>\n",
       "      <td>164774</td>\n",
       "      <td>185850.0</td>\n",
       "      <td>225709.0</td>\n",
       "      <td>247789.0</td>\n",
       "      <td>264913.000000</td>\n",
       "      <td>268885.000000</td>\n",
       "    </tr>\n",
       "    <tr>\n",
       "      <th>3</th>\n",
       "      <td>Andorra</td>\n",
       "      <td>2885</td>\n",
       "      <td>3325.0</td>\n",
       "      <td>3376.0</td>\n",
       "      <td>3786.0</td>\n",
       "      <td>4038.000000</td>\n",
       "      <td>4035.000000</td>\n",
       "    </tr>\n",
       "    <tr>\n",
       "      <th>4</th>\n",
       "      <td>Angola</td>\n",
       "      <td>66521</td>\n",
       "      <td>84375.0</td>\n",
       "      <td>142442.0</td>\n",
       "      <td>109764.0</td>\n",
       "      <td>115946.000000</td>\n",
       "      <td>113343.000000</td>\n",
       "    </tr>\n",
       "  </tbody>\n",
       "</table>\n",
       "</div>"
      ],
      "text/plain": [
       "       Country    2020      2021      2022      2023           2024  \\\n",
       "0  Afghanistan   20136   14278.0   14501.0   17248.0  575687.072917   \n",
       "1      Albania   15271   18086.0   19185.0   23388.0   27259.000000   \n",
       "2      Algeria  164774  185850.0  225709.0  247789.0  264913.000000   \n",
       "3      Andorra    2885    3325.0    3376.0    3786.0    4038.000000   \n",
       "4       Angola   66521   84375.0  142442.0  109764.0  115946.000000   \n",
       "\n",
       "            2025  \n",
       "0  599141.449735  \n",
       "1   28372.000000  \n",
       "2  268885.000000  \n",
       "3    4035.000000  \n",
       "4  113343.000000  "
      ]
     },
     "execution_count": 9,
     "metadata": {},
     "output_type": "execute_result"
    }
   ],
   "source": [
    "#fill the null values with the mean\n",
    "df['2021']=df['2021'].fillna(mean_21,axis=0)\n",
    "df['2022']=df['2022'].fillna(mean_22,axis=0)\n",
    "df['2023']=df['2023'].fillna(mean_23,axis=0)\n",
    "df['2024']=df['2024'].fillna(mean_24,axis=0)\n",
    "df['2025']=df['2025'].fillna(mean_25,axis=0)\n",
    "df.head()"
   ]
  },
  {
   "cell_type": "code",
   "execution_count": 10,
   "id": "d9ba5128",
   "metadata": {
    "execution": {
     "iopub.execute_input": "2025-09-19T14:29:55.695430Z",
     "iopub.status.busy": "2025-09-19T14:29:55.695148Z",
     "iopub.status.idle": "2025-09-19T14:29:55.702338Z",
     "shell.execute_reply": "2025-09-19T14:29:55.701573Z"
    },
    "papermill": {
     "duration": 0.015702,
     "end_time": "2025-09-19T14:29:55.703663",
     "exception": false,
     "start_time": "2025-09-19T14:29:55.687961",
     "status": "completed"
    },
    "tags": []
   },
   "outputs": [
    {
     "data": {
      "text/plain": [
       "Country    0\n",
       "2020       0\n",
       "2021       0\n",
       "2022       0\n",
       "2023       0\n",
       "2024       0\n",
       "2025       0\n",
       "dtype: int64"
      ]
     },
     "execution_count": 10,
     "metadata": {},
     "output_type": "execute_result"
    }
   ],
   "source": [
    "df.isnull().sum()"
   ]
  },
  {
   "cell_type": "code",
   "execution_count": 11,
   "id": "0a15d7b2",
   "metadata": {
    "execution": {
     "iopub.execute_input": "2025-09-19T14:29:55.718370Z",
     "iopub.status.busy": "2025-09-19T14:29:55.718065Z",
     "iopub.status.idle": "2025-09-19T14:29:56.334695Z",
     "shell.execute_reply": "2025-09-19T14:29:56.333848Z"
    },
    "papermill": {
     "duration": 0.626417,
     "end_time": "2025-09-19T14:29:56.336968",
     "exception": false,
     "start_time": "2025-09-19T14:29:55.710551",
     "status": "completed"
    },
    "tags": []
   },
   "outputs": [
    {
     "data": {
      "text/plain": [
       "Text(116.24999999999999, 0.5, 'Years')"
      ]
     },
     "execution_count": 11,
     "metadata": {},
     "output_type": "execute_result"
    },
    {
     "data": {
      "image/png": "[encoded data removed]",
      "text/plain": [
       "<Figure size 1200x400 with 2 Axes>"
      ]
     },
     "metadata": {},
     "output_type": "display_data"
    }
   ],
   "source": [
    "sns.set_theme(style=\"white\")\n",
    "plt.figure(figsize=(12, 4))\n",
    "ax = sns.heatmap(\n",
    "    df.describe().T,\n",
    "    cmap=\"coolwarm\",              \n",
    "    linewidths=0.5,               \n",
    "    linecolor='white',\n",
    "    annot=True,                 \n",
    "    fmt=\".2f\",                 \n",
    "    annot_kws={\"size\": 8},        \n",
    "    cbar_kws={'label': 'Intensity'},\n",
    "    square=False\n",
    ")\n",
    "plt.title(\"Heatmap of GPD_Per Country Data\", fontsize=16, weight='bold')\n",
    "plt.xlabel(\"Statistical info\", fontsize=12)\n",
    "plt.ylabel(\"Years\", fontsize=12)"
   ]
  },
  {
   "cell_type": "markdown",
   "id": "cf2a9027",
   "metadata": {
    "papermill": {
     "duration": 0.008147,
     "end_time": "2025-09-19T14:29:56.353976",
     "exception": false,
     "start_time": "2025-09-19T14:29:56.345829",
     "status": "completed"
    },
    "tags": []
   },
   "source": [
    "# Data Visulaztion process"
   ]
  },
  {
   "cell_type": "code",
   "execution_count": 12,
   "id": "2744ba66",
   "metadata": {
    "execution": {
     "iopub.execute_input": "2025-09-19T14:29:56.372064Z",
     "iopub.status.busy": "2025-09-19T14:29:56.371737Z",
     "iopub.status.idle": "2025-09-19T14:29:58.289603Z",
     "shell.execute_reply": "2025-09-19T14:29:58.288754Z"
    },
    "papermill": {
     "duration": 1.928999,
     "end_time": "2025-09-19T14:29:58.291129",
     "exception": false,
     "start_time": "2025-09-19T14:29:56.362130",
     "status": "completed"
    },
    "tags": []
   },
   "outputs": [
    {
     "data": {
      "text/html": [
       "<html>\n",
       "<head><meta charset=\"utf-8\" /></head>\n",
       "<body>\n",
       "    <div>            <script src=\"https://cdnjs.cloudflare.com/ajax/libs/mathjax/2.7.5/MathJax.js?config=TeX-AMS-MML_SVG\"></script><script type=\"text/javascript\">if (window.MathJax && window.MathJax.Hub && window.MathJax.Hub.Config) {window.MathJax.Hub.Config({SVG: {font: \"STIX-Web\"}});}</script>                <script type=\"text/javascript\">window.PlotlyConfig = {MathJaxConfig: 'local'};</script>\n",
       "        <script charset=\"utf-8\" src=\"https://cdn.plot.ly/plotly-2.35.2.min.js\"></script>                <div id=\"9967a0e6-17c1-402d-ae9b-eb1d79d89176\" class=\"plotly-graph-div\" style=\"height:525px; width:100%;\"></div>            <script type=\"text/javascript\">                                    window.PLOTLYENV=window.PLOTLYENV || {};                                    if (document.getElementById(\"9967a0e6-17c1-402d-ae9b-eb1d79d89176\")) {                    Plotly.newPlot(                        \"9967a0e6-17c1-402d-ae9b-eb1d79d89176\",                        [{\"alignmentgroup\":\"True\",\"hovertemplate\":\"Country=%{x}\\u003cbr\\u003e2025=%{text}\\u003cextra\\u003e\\u003c\\u002fextra\\u003e\",\"legendgroup\":\"\",\"marker\":{\"color\":\"#636efa\",\"pattern\":{\"shape\":\"\"}},\"name\":\"\",\"offsetgroup\":\"\",\"orientation\":\"v\",\"showlegend\":false,\"text\":[30507217.0,19231705.0,4744804.0,4187017.0,4186431.0,3839180.0,3211292.0,2422855.0,2225341.0,2125958.0],\"textposition\":\"outside\",\"x\":[\"United States\",\"China\",\"Germany\",\"India\",\"Japan\",\"United Kingdom\",\"France\",\"Italy\",\"Canada\",\"Brazil\"],\"xaxis\":\"x\",\"y\":[30507217.0,19231705.0,4744804.0,4187017.0,4186431.0,3839180.0,3211292.0,2422855.0,2225341.0,2125958.0],\"yaxis\":\"y\",\"type\":\"bar\",\"texttemplate\":\"%{text:.2s}\"}],                        {\"template\":{\"data\":{\"histogram2dcontour\":[{\"type\":\"histogram2dcontour\",\"colorbar\":{\"outlinewidth\":0,\"ticks\":\"\"},\"colorscale\":[[0.0,\"#0d0887\"],[0.1111111111111111,\"#46039f\"],[0.2222222222222222,\"#7201a8\"],[0.3333333333333333,\"#9c179e\"],[0.4444444444444444,\"#bd3786\"],[0.5555555555555556,\"#d8576b\"],[0.6666666666666666,\"#ed7953\"],[0.7777777777777778,\"#fb9f3a\"],[0.8888888888888888,\"#fdca26\"],[1.0,\"#f0f921\"]]}],\"choropleth\":[{\"type\":\"choropleth\",\"colorbar\":{\"outlinewidth\":0,\"ticks\":\"\"}}],\"histogram2d\":[{\"type\":\"histogram2d\",\"colorbar\":{\"outlinewidth\":0,\"ticks\":\"\"},\"colorscale\":[[0.0,\"#0d0887\"],[0.1111111111111111,\"#46039f\"],[0.2222222222222222,\"#7201a8\"],[0.3333333333333333,\"#9c179e\"],[0.4444444444444444,\"#bd3786\"],[0.5555555555555556,\"#d8576b\"],[0.6666666666666666,\"#ed7953\"],[0.7777777777777778,\"#fb9f3a\"],[0.8888888888888888,\"#fdca26\"],[1.0,\"#f0f921\"]]}],\"heatmap\":[{\"type\":\"heatmap\",\"colorbar\":{\"outlinewidth\":0,\"ticks\":\"\"},\"colorscale\":[[0.0,\"#0d0887\"],[0.1111111111111111,\"#46039f\"],[0.2222222222222222,\"#7201a8\"],[0.3333333333333333,\"#9c179e\"],[0.4444444444444444,\"#bd3786\"],[0.5555555555555556,\"#d8576b\"],[0.6666666666666666,\"#ed7953\"],[0.7777777777777778,\"#fb9f3a\"],[0.8888888888888888,\"#fdca26\"],[1.0,\"#f0f921\"]]}],\"heatmapgl\":[{\"type\":\"heatmapgl\",\"colorbar\":{\"outlinewidth\":0,\"ticks\":\"\"},\"colorscale\":[[0.0,\"#0d0887\"],[0.1111111111111111,\"#46039f\"],[0.2222222222222222,\"#7201a8\"],[0.3333333333333333,\"#9c179e\"],[0.4444444444444444,\"#bd3786\"],[0.5555555555555556,\"#d8576b\"],[0.6666666666666666,\"#ed7953\"],[0.7777777777777778,\"#fb9f3a\"],[0.8888888888888888,\"#fdca26\"],[1.0,\"#f0f921\"]]}],\"contourcarpet\":[{\"type\":\"contourcarpet\",\"colorbar\":{\"outlinewidth\":0,\"ticks\":\"\"}}],\"contour\":[{\"type\":\"contour\",\"colorbar\":{\"outlinewidth\":0,\"ticks\":\"\"},\"colorscale\":[[0.0,\"#0d0887\"],[0.1111111111111111,\"#46039f\"],[0.2222222222222222,\"#7201a8\"],[0.3333333333333333,\"#9c179e\"],[0.4444444444444444,\"#bd3786\"],[0.5555555555555556,\"#d8576b\"],[0.6666666666666666,\"#ed7953\"],[0.7777777777777778,\"#fb9f3a\"],[0.8888888888888888,\"#fdca26\"],[1.0,\"#f0f921\"]]}],\"surface\":[{\"type\":\"surface\",\"colorbar\":{\"outlinewidth\":0,\"ticks\":\"\"},\"colorscale\":[[0.0,\"#0d0887\"],[0.1111111111111111,\"#46039f\"],[0.2222222222222222,\"#7201a8\"],[0.3333333333333333,\"#9c179e\"],[0.4444444444444444,\"#bd3786\"],[0.5555555555555556,\"#d8576b\"],[0.6666666666666666,\"#ed7953\"],[0.7777777777777778,\"#fb9f3a\"],[0.8888888888888888,\"#fdca26\"],[1.0,\"#f0f921\"]]}],\"mesh3d\":[{\"type\":\"mesh3d\",\"colorbar\":{\"outlinewidth\":0,\"ticks\":\"\"}}],\"scatter\":[{\"fillpattern\":{\"fillmode\":\"overlay\",\"size\":10,\"solidity\":0.2},\"type\":\"scatter\"}],\"parcoords\":[{\"type\":\"parcoords\",\"line\":{\"colorbar\":{\"outlinewidth\":0,\"ticks\":\"\"}}}],\"scatterpolargl\":[{\"type\":\"scatterpolargl\",\"marker\":{\"colorbar\":{\"outlinewidth\":0,\"ticks\":\"\"}}}],\"bar\":[{\"error_x\":{\"color\":\"#2a3f5f\"},\"error_y\":{\"color\":\"#2a3f5f\"},\"marker\":{\"line\":{\"color\":\"#E5ECF6\",\"width\":0.5},\"pattern\":{\"fillmode\":\"overlay\",\"size\":10,\"solidity\":0.2}},\"type\":\"bar\"}],\"scattergeo\":[{\"type\":\"scattergeo\",\"marker\":{\"colorbar\":{\"outlinewidth\":0,\"ticks\":\"\"}}}],\"scatterpolar\":[{\"type\":\"scatterpolar\",\"marker\":{\"colorbar\":{\"outlinewidth\":0,\"ticks\":\"\"}}}],\"histogram\":[{\"marker\":{\"pattern\":{\"fillmode\":\"overlay\",\"size\":10,\"solidity\":0.2}},\"type\":\"histogram\"}],\"scattergl\":[{\"type\":\"scattergl\",\"marker\":{\"colorbar\":{\"outlinewidth\":0,\"ticks\":\"\"}}}],\"scatter3d\":[{\"type\":\"scatter3d\",\"line\":{\"colorbar\":{\"outlinewidth\":0,\"ticks\":\"\"}},\"marker\":{\"colorbar\":{\"outlinewidth\":0,\"ticks\":\"\"}}}],\"scattermapbox\":[{\"type\":\"scattermapbox\",\"marker\":{\"colorbar\":{\"outlinewidth\":0,\"ticks\":\"\"}}}],\"scatterternary\":[{\"type\":\"scatterternary\",\"marker\":{\"colorbar\":{\"outlinewidth\":0,\"ticks\":\"\"}}}],\"scattercarpet\":[{\"type\":\"scattercarpet\",\"marker\":{\"colorbar\":{\"outlinewidth\":0,\"ticks\":\"\"}}}],\"carpet\":[{\"aaxis\":{\"endlinecolor\":\"#2a3f5f\",\"gridcolor\":\"white\",\"linecolor\":\"white\",\"minorgridcolor\":\"white\",\"startlinecolor\":\"#2a3f5f\"},\"baxis\":{\"endlinecolor\":\"#2a3f5f\",\"gridcolor\":\"white\",\"linecolor\":\"white\",\"minorgridcolor\":\"white\",\"startlinecolor\":\"#2a3f5f\"},\"type\":\"carpet\"}],\"table\":[{\"cells\":{\"fill\":{\"color\":\"#EBF0F8\"},\"line\":{\"color\":\"white\"}},\"header\":{\"fill\":{\"color\":\"#C8D4E3\"},\"line\":{\"color\":\"white\"}},\"type\":\"table\"}],\"barpolar\":[{\"marker\":{\"line\":{\"color\":\"#E5ECF6\",\"width\":0.5},\"pattern\":{\"fillmode\":\"overlay\",\"size\":10,\"solidity\":0.2}},\"type\":\"barpolar\"}],\"pie\":[{\"automargin\":true,\"type\":\"pie\"}]},\"layout\":{\"autotypenumbers\":\"strict\",\"colorway\":[\"#636efa\",\"#EF553B\",\"#00cc96\",\"#ab63fa\",\"#FFA15A\",\"#19d3f3\",\"#FF6692\",\"#B6E880\",\"#FF97FF\",\"#FECB52\"],\"font\":{\"color\":\"#2a3f5f\"},\"hovermode\":\"closest\",\"hoverlabel\":{\"align\":\"left\"},\"paper_bgcolor\":\"white\",\"plot_bgcolor\":\"#E5ECF6\",\"polar\":{\"bgcolor\":\"#E5ECF6\",\"angularaxis\":{\"gridcolor\":\"white\",\"linecolor\":\"white\",\"ticks\":\"\"},\"radialaxis\":{\"gridcolor\":\"white\",\"linecolor\":\"white\",\"ticks\":\"\"}},\"ternary\":{\"bgcolor\":\"#E5ECF6\",\"aaxis\":{\"gridcolor\":\"white\",\"linecolor\":\"white\",\"ticks\":\"\"},\"baxis\":{\"gridcolor\":\"white\",\"linecolor\":\"white\",\"ticks\":\"\"},\"caxis\":{\"gridcolor\":\"white\",\"linecolor\":\"white\",\"ticks\":\"\"}},\"coloraxis\":{\"colorbar\":{\"outlinewidth\":0,\"ticks\":\"\"}},\"colorscale\":{\"sequential\":[[0.0,\"#0d0887\"],[0.1111111111111111,\"#46039f\"],[0.2222222222222222,\"#7201a8\"],[0.3333333333333333,\"#9c179e\"],[0.4444444444444444,\"#bd3786\"],[0.5555555555555556,\"#d8576b\"],[0.6666666666666666,\"#ed7953\"],[0.7777777777777778,\"#fb9f3a\"],[0.8888888888888888,\"#fdca26\"],[1.0,\"#f0f921\"]],\"sequentialminus\":[[0.0,\"#0d0887\"],[0.1111111111111111,\"#46039f\"],[0.2222222222222222,\"#7201a8\"],[0.3333333333333333,\"#9c179e\"],[0.4444444444444444,\"#bd3786\"],[0.5555555555555556,\"#d8576b\"],[0.6666666666666666,\"#ed7953\"],[0.7777777777777778,\"#fb9f3a\"],[0.8888888888888888,\"#fdca26\"],[1.0,\"#f0f921\"]],\"diverging\":[[0,\"#8e0152\"],[0.1,\"#c51b7d\"],[0.2,\"#de77ae\"],[0.3,\"#f1b6da\"],[0.4,\"#fde0ef\"],[0.5,\"#f7f7f7\"],[0.6,\"#e6f5d0\"],[0.7,\"#b8e186\"],[0.8,\"#7fbc41\"],[0.9,\"#4d9221\"],[1,\"#276419\"]]},\"xaxis\":{\"gridcolor\":\"white\",\"linecolor\":\"white\",\"ticks\":\"\",\"title\":{\"standoff\":15},\"zerolinecolor\":\"white\",\"automargin\":true,\"zerolinewidth\":2},\"yaxis\":{\"gridcolor\":\"white\",\"linecolor\":\"white\",\"ticks\":\"\",\"title\":{\"standoff\":15},\"zerolinecolor\":\"white\",\"automargin\":true,\"zerolinewidth\":2},\"scene\":{\"xaxis\":{\"backgroundcolor\":\"#E5ECF6\",\"gridcolor\":\"white\",\"linecolor\":\"white\",\"showbackground\":true,\"ticks\":\"\",\"zerolinecolor\":\"white\",\"gridwidth\":2},\"yaxis\":{\"backgroundcolor\":\"#E5ECF6\",\"gridcolor\":\"white\",\"linecolor\":\"white\",\"showbackground\":true,\"ticks\":\"\",\"zerolinecolor\":\"white\",\"gridwidth\":2},\"zaxis\":{\"backgroundcolor\":\"#E5ECF6\",\"gridcolor\":\"white\",\"linecolor\":\"white\",\"showbackground\":true,\"ticks\":\"\",\"zerolinecolor\":\"white\",\"gridwidth\":2}},\"shapedefaults\":{\"line\":{\"color\":\"#2a3f5f\"}},\"annotationdefaults\":{\"arrowcolor\":\"#2a3f5f\",\"arrowhead\":0,\"arrowwidth\":1},\"geo\":{\"bgcolor\":\"white\",\"landcolor\":\"#E5ECF6\",\"subunitcolor\":\"white\",\"showland\":true,\"showlakes\":true,\"lakecolor\":\"white\"},\"title\":{\"x\":0.05},\"mapbox\":{\"style\":\"light\"}}},\"xaxis\":{\"anchor\":\"y\",\"domain\":[0.0,1.0],\"title\":{\"text\":\"Country\"}},\"yaxis\":{\"anchor\":\"x\",\"domain\":[0.0,1.0],\"title\":{\"text\":\"GDP\"}},\"legend\":{\"tracegroupgap\":0},\"title\":{\"text\":\"Top 10 Countries by GDP in 2025\"},\"barmode\":\"relative\"},                        {\"responsive\": true}                    ).then(function(){\n",
       "                            \n",
       "var gd = document.getElementById('9967a0e6-17c1-402d-ae9b-eb1d79d89176');\n",
       "var x = new MutationObserver(function (mutations, observer) {{\n",
       "        var display = window.getComputedStyle(gd).display;\n",
       "        if (!display || display === 'none') {{\n",
       "            console.log([gd, 'removed!']);\n",
       "            Plotly.purge(gd);\n",
       "            observer.disconnect();\n",
       "        }}\n",
       "}});\n",
       "\n",
       "// Listen for the removal of the full notebook cells\n",
       "var notebookContainer = gd.closest('#notebook-container');\n",
       "if (notebookContainer) {{\n",
       "    x.observe(notebookContainer, {childList: true});\n",
       "}}\n",
       "\n",
       "// Listen for the clearing of the current output cell\n",
       "var outputEl = gd.closest('.output');\n",
       "if (outputEl) {{\n",
       "    x.observe(outputEl, {childList: true});\n",
       "}}\n",
       "\n",
       "                        })                };                            </script>        </div>\n",
       "</body>\n",
       "</html>"
      ]
     },
     "metadata": {},
     "output_type": "display_data"
    }
   ],
   "source": [
    "#Bar Chart – Top 10 GDP (2025)\n",
    "df_2025 = df[['Country', '2025']].sort_values(by='2025', ascending=False)\n",
    "top_10 = df_2025.head(10)\n",
    "\n",
    "fig_bar_top = px.bar(top_10, x='Country', y='2025', title='Top 10 Countries by GDP in 2025', text='2025')\n",
    "fig_bar_top.update_traces(texttemplate='%{text:.2s}', textposition='outside')\n",
    "fig_bar_top.update_layout(yaxis_title='GDP', xaxis_title='Country')\n",
    "fig_bar_top.show()"
   ]
  },
  {
   "cell_type": "code",
   "execution_count": 13,
   "id": "f1bb8d40",
   "metadata": {
    "execution": {
     "iopub.execute_input": "2025-09-19T14:29:58.309191Z",
     "iopub.status.busy": "2025-09-19T14:29:58.308919Z",
     "iopub.status.idle": "2025-09-19T14:29:58.354963Z",
     "shell.execute_reply": "2025-09-19T14:29:58.354085Z"
    },
    "papermill": {
     "duration": 0.056534,
     "end_time": "2025-09-19T14:29:58.356281",
     "exception": false,
     "start_time": "2025-09-19T14:29:58.299747",
     "status": "completed"
    },
    "tags": []
   },
   "outputs": [
    {
     "data": {
      "text/html": [
       "<html>\n",
       "<head><meta charset=\"utf-8\" /></head>\n",
       "<body>\n",
       "    <div>            <script src=\"https://cdnjs.cloudflare.com/ajax/libs/mathjax/2.7.5/MathJax.js?config=TeX-AMS-MML_SVG\"></script><script type=\"text/javascript\">if (window.MathJax && window.MathJax.Hub && window.MathJax.Hub.Config) {window.MathJax.Hub.Config({SVG: {font: \"STIX-Web\"}});}</script>                <script type=\"text/javascript\">window.PlotlyConfig = {MathJaxConfig: 'local'};</script>\n",
       "        <script charset=\"utf-8\" src=\"https://cdn.plot.ly/plotly-2.35.2.min.js\"></script>                <div id=\"2986bf46-30ef-4dd0-b6b1-7585da84010e\" class=\"plotly-graph-div\" style=\"height:525px; width:100%;\"></div>            <script type=\"text/javascript\">                                    window.PLOTLYENV=window.PLOTLYENV || {};                                    if (document.getElementById(\"2986bf46-30ef-4dd0-b6b1-7585da84010e\")) {                    Plotly.newPlot(                        \"2986bf46-30ef-4dd0-b6b1-7585da84010e\",                        [{\"alignmentgroup\":\"True\",\"hovertemplate\":\"Country=%{x}\\u003cbr\\u003e2025=%{text}\\u003cextra\\u003e\\u003c\\u002fextra\\u003e\",\"legendgroup\":\"\",\"marker\":{\"color\":\"crimson\",\"pattern\":{\"shape\":\"\"}},\"name\":\"\",\"offsetgroup\":\"\",\"orientation\":\"v\",\"showlegend\":false,\"text\":[1129.0,864.0,742.0,568.0,500.0,333.0,312.0,297.0,169.0,65.0],\"textposition\":\"outside\",\"x\":[\"Saint Kitts and Nevis\",\"São Tomé and Príncipe\",\"Dominica\",\"Tonga\",\"Federated States of Micronesia\",\"Palau\",\"Kiribati\",\"Marshall Islands\",\"Nauru\",\"Tuvalu\"],\"xaxis\":\"x\",\"y\":[1129.0,864.0,742.0,568.0,500.0,333.0,312.0,297.0,169.0,65.0],\"yaxis\":\"y\",\"type\":\"bar\",\"texttemplate\":\"%{text:.2s}\"}],                        {\"template\":{\"data\":{\"histogram2dcontour\":[{\"type\":\"histogram2dcontour\",\"colorbar\":{\"outlinewidth\":0,\"ticks\":\"\"},\"colorscale\":[[0.0,\"#0d0887\"],[0.1111111111111111,\"#46039f\"],[0.2222222222222222,\"#7201a8\"],[0.3333333333333333,\"#9c179e\"],[0.4444444444444444,\"#bd3786\"],[0.5555555555555556,\"#d8576b\"],[0.6666666666666666,\"#ed7953\"],[0.7777777777777778,\"#fb9f3a\"],[0.8888888888888888,\"#fdca26\"],[1.0,\"#f0f921\"]]}],\"choropleth\":[{\"type\":\"choropleth\",\"colorbar\":{\"outlinewidth\":0,\"ticks\":\"\"}}],\"histogram2d\":[{\"type\":\"histogram2d\",\"colorbar\":{\"outlinewidth\":0,\"ticks\":\"\"},\"colorscale\":[[0.0,\"#0d0887\"],[0.1111111111111111,\"#46039f\"],[0.2222222222222222,\"#7201a8\"],[0.3333333333333333,\"#9c179e\"],[0.4444444444444444,\"#bd3786\"],[0.5555555555555556,\"#d8576b\"],[0.6666666666666666,\"#ed7953\"],[0.7777777777777778,\"#fb9f3a\"],[0.8888888888888888,\"#fdca26\"],[1.0,\"#f0f921\"]]}],\"heatmap\":[{\"type\":\"heatmap\",\"colorbar\":{\"outlinewidth\":0,\"ticks\":\"\"},\"colorscale\":[[0.0,\"#0d0887\"],[0.1111111111111111,\"#46039f\"],[0.2222222222222222,\"#7201a8\"],[0.3333333333333333,\"#9c179e\"],[0.4444444444444444,\"#bd3786\"],[0.5555555555555556,\"#d8576b\"],[0.6666666666666666,\"#ed7953\"],[0.7777777777777778,\"#fb9f3a\"],[0.8888888888888888,\"#fdca26\"],[1.0,\"#f0f921\"]]}],\"heatmapgl\":[{\"type\":\"heatmapgl\",\"colorbar\":{\"outlinewidth\":0,\"ticks\":\"\"},\"colorscale\":[[0.0,\"#0d0887\"],[0.1111111111111111,\"#46039f\"],[0.2222222222222222,\"#7201a8\"],[0.3333333333333333,\"#9c179e\"],[0.4444444444444444,\"#bd3786\"],[0.5555555555555556,\"#d8576b\"],[0.6666666666666666,\"#ed7953\"],[0.7777777777777778,\"#fb9f3a\"],[0.8888888888888888,\"#fdca26\"],[1.0,\"#f0f921\"]]}],\"contourcarpet\":[{\"type\":\"contourcarpet\",\"colorbar\":{\"outlinewidth\":0,\"ticks\":\"\"}}],\"contour\":[{\"type\":\"contour\",\"colorbar\":{\"outlinewidth\":0,\"ticks\":\"\"},\"colorscale\":[[0.0,\"#0d0887\"],[0.1111111111111111,\"#46039f\"],[0.2222222222222222,\"#7201a8\"],[0.3333333333333333,\"#9c179e\"],[0.4444444444444444,\"#bd3786\"],[0.5555555555555556,\"#d8576b\"],[0.6666666666666666,\"#ed7953\"],[0.7777777777777778,\"#fb9f3a\"],[0.8888888888888888,\"#fdca26\"],[1.0,\"#f0f921\"]]}],\"surface\":[{\"type\":\"surface\",\"colorbar\":{\"outlinewidth\":0,\"ticks\":\"\"},\"colorscale\":[[0.0,\"#0d0887\"],[0.1111111111111111,\"#46039f\"],[0.2222222222222222,\"#7201a8\"],[0.3333333333333333,\"#9c179e\"],[0.4444444444444444,\"#bd3786\"],[0.5555555555555556,\"#d8576b\"],[0.6666666666666666,\"#ed7953\"],[0.7777777777777778,\"#fb9f3a\"],[0.8888888888888888,\"#fdca26\"],[1.0,\"#f0f921\"]]}],\"mesh3d\":[{\"type\":\"mesh3d\",\"colorbar\":{\"outlinewidth\":0,\"ticks\":\"\"}}],\"scatter\":[{\"fillpattern\":{\"fillmode\":\"overlay\",\"size\":10,\"solidity\":0.2},\"type\":\"scatter\"}],\"parcoords\":[{\"type\":\"parcoords\",\"line\":{\"colorbar\":{\"outlinewidth\":0,\"ticks\":\"\"}}}],\"scatterpolargl\":[{\"type\":\"scatterpolargl\",\"marker\":{\"colorbar\":{\"outlinewidth\":0,\"ticks\":\"\"}}}],\"bar\":[{\"error_x\":{\"color\":\"#2a3f5f\"},\"error_y\":{\"color\":\"#2a3f5f\"},\"marker\":{\"line\":{\"color\":\"#E5ECF6\",\"width\":0.5},\"pattern\":{\"fillmode\":\"overlay\",\"size\":10,\"solidity\":0.2}},\"type\":\"bar\"}],\"scattergeo\":[{\"type\":\"scattergeo\",\"marker\":{\"colorbar\":{\"outlinewidth\":0,\"ticks\":\"\"}}}],\"scatterpolar\":[{\"type\":\"scatterpolar\",\"marker\":{\"colorbar\":{\"outlinewidth\":0,\"ticks\":\"\"}}}],\"histogram\":[{\"marker\":{\"pattern\":{\"fillmode\":\"overlay\",\"size\":10,\"solidity\":0.2}},\"type\":\"histogram\"}],\"scattergl\":[{\"type\":\"scattergl\",\"marker\":{\"colorbar\":{\"outlinewidth\":0,\"ticks\":\"\"}}}],\"scatter3d\":[{\"type\":\"scatter3d\",\"line\":{\"colorbar\":{\"outlinewidth\":0,\"ticks\":\"\"}},\"marker\":{\"colorbar\":{\"outlinewidth\":0,\"ticks\":\"\"}}}],\"scattermapbox\":[{\"type\":\"scattermapbox\",\"marker\":{\"colorbar\":{\"outlinewidth\":0,\"ticks\":\"\"}}}],\"scatterternary\":[{\"type\":\"scatterternary\",\"marker\":{\"colorbar\":{\"outlinewidth\":0,\"ticks\":\"\"}}}],\"scattercarpet\":[{\"type\":\"scattercarpet\",\"marker\":{\"colorbar\":{\"outlinewidth\":0,\"ticks\":\"\"}}}],\"carpet\":[{\"aaxis\":{\"endlinecolor\":\"#2a3f5f\",\"gridcolor\":\"white\",\"linecolor\":\"white\",\"minorgridcolor\":\"white\",\"startlinecolor\":\"#2a3f5f\"},\"baxis\":{\"endlinecolor\":\"#2a3f5f\",\"gridcolor\":\"white\",\"linecolor\":\"white\",\"minorgridcolor\":\"white\",\"startlinecolor\":\"#2a3f5f\"},\"type\":\"carpet\"}],\"table\":[{\"cells\":{\"fill\":{\"color\":\"#EBF0F8\"},\"line\":{\"color\":\"white\"}},\"header\":{\"fill\":{\"color\":\"#C8D4E3\"},\"line\":{\"color\":\"white\"}},\"type\":\"table\"}],\"barpolar\":[{\"marker\":{\"line\":{\"color\":\"#E5ECF6\",\"width\":0.5},\"pattern\":{\"fillmode\":\"overlay\",\"size\":10,\"solidity\":0.2}},\"type\":\"barpolar\"}],\"pie\":[{\"automargin\":true,\"type\":\"pie\"}]},\"layout\":{\"autotypenumbers\":\"strict\",\"colorway\":[\"#636efa\",\"#EF553B\",\"#00cc96\",\"#ab63fa\",\"#FFA15A\",\"#19d3f3\",\"#FF6692\",\"#B6E880\",\"#FF97FF\",\"#FECB52\"],\"font\":{\"color\":\"#2a3f5f\"},\"hovermode\":\"closest\",\"hoverlabel\":{\"align\":\"left\"},\"paper_bgcolor\":\"white\",\"plot_bgcolor\":\"#E5ECF6\",\"polar\":{\"bgcolor\":\"#E5ECF6\",\"angularaxis\":{\"gridcolor\":\"white\",\"linecolor\":\"white\",\"ticks\":\"\"},\"radialaxis\":{\"gridcolor\":\"white\",\"linecolor\":\"white\",\"ticks\":\"\"}},\"ternary\":{\"bgcolor\":\"#E5ECF6\",\"aaxis\":{\"gridcolor\":\"white\",\"linecolor\":\"white\",\"ticks\":\"\"},\"baxis\":{\"gridcolor\":\"white\",\"linecolor\":\"white\",\"ticks\":\"\"},\"caxis\":{\"gridcolor\":\"white\",\"linecolor\":\"white\",\"ticks\":\"\"}},\"coloraxis\":{\"colorbar\":{\"outlinewidth\":0,\"ticks\":\"\"}},\"colorscale\":{\"sequential\":[[0.0,\"#0d0887\"],[0.1111111111111111,\"#46039f\"],[0.2222222222222222,\"#7201a8\"],[0.3333333333333333,\"#9c179e\"],[0.4444444444444444,\"#bd3786\"],[0.5555555555555556,\"#d8576b\"],[0.6666666666666666,\"#ed7953\"],[0.7777777777777778,\"#fb9f3a\"],[0.8888888888888888,\"#fdca26\"],[1.0,\"#f0f921\"]],\"sequentialminus\":[[0.0,\"#0d0887\"],[0.1111111111111111,\"#46039f\"],[0.2222222222222222,\"#7201a8\"],[0.3333333333333333,\"#9c179e\"],[0.4444444444444444,\"#bd3786\"],[0.5555555555555556,\"#d8576b\"],[0.6666666666666666,\"#ed7953\"],[0.7777777777777778,\"#fb9f3a\"],[0.8888888888888888,\"#fdca26\"],[1.0,\"#f0f921\"]],\"diverging\":[[0,\"#8e0152\"],[0.1,\"#c51b7d\"],[0.2,\"#de77ae\"],[0.3,\"#f1b6da\"],[0.4,\"#fde0ef\"],[0.5,\"#f7f7f7\"],[0.6,\"#e6f5d0\"],[0.7,\"#b8e186\"],[0.8,\"#7fbc41\"],[0.9,\"#4d9221\"],[1,\"#276419\"]]},\"xaxis\":{\"gridcolor\":\"white\",\"linecolor\":\"white\",\"ticks\":\"\",\"title\":{\"standoff\":15},\"zerolinecolor\":\"white\",\"automargin\":true,\"zerolinewidth\":2},\"yaxis\":{\"gridcolor\":\"white\",\"linecolor\":\"white\",\"ticks\":\"\",\"title\":{\"standoff\":15},\"zerolinecolor\":\"white\",\"automargin\":true,\"zerolinewidth\":2},\"scene\":{\"xaxis\":{\"backgroundcolor\":\"#E5ECF6\",\"gridcolor\":\"white\",\"linecolor\":\"white\",\"showbackground\":true,\"ticks\":\"\",\"zerolinecolor\":\"white\",\"gridwidth\":2},\"yaxis\":{\"backgroundcolor\":\"#E5ECF6\",\"gridcolor\":\"white\",\"linecolor\":\"white\",\"showbackground\":true,\"ticks\":\"\",\"zerolinecolor\":\"white\",\"gridwidth\":2},\"zaxis\":{\"backgroundcolor\":\"#E5ECF6\",\"gridcolor\":\"white\",\"linecolor\":\"white\",\"showbackground\":true,\"ticks\":\"\",\"zerolinecolor\":\"white\",\"gridwidth\":2}},\"shapedefaults\":{\"line\":{\"color\":\"#2a3f5f\"}},\"annotationdefaults\":{\"arrowcolor\":\"#2a3f5f\",\"arrowhead\":0,\"arrowwidth\":1},\"geo\":{\"bgcolor\":\"white\",\"landcolor\":\"#E5ECF6\",\"subunitcolor\":\"white\",\"showland\":true,\"showlakes\":true,\"lakecolor\":\"white\"},\"title\":{\"x\":0.05},\"mapbox\":{\"style\":\"light\"}}},\"xaxis\":{\"anchor\":\"y\",\"domain\":[0.0,1.0],\"title\":{\"text\":\"Country\"}},\"yaxis\":{\"anchor\":\"x\",\"domain\":[0.0,1.0],\"title\":{\"text\":\"GDP\"}},\"legend\":{\"tracegroupgap\":0},\"title\":{\"text\":\"Bottom 10 Countries by GDP in 2025\"},\"barmode\":\"relative\"},                        {\"responsive\": true}                    ).then(function(){\n",
       "                            \n",
       "var gd = document.getElementById('2986bf46-30ef-4dd0-b6b1-7585da84010e');\n",
       "var x = new MutationObserver(function (mutations, observer) {{\n",
       "        var display = window.getComputedStyle(gd).display;\n",
       "        if (!display || display === 'none') {{\n",
       "            console.log([gd, 'removed!']);\n",
       "            Plotly.purge(gd);\n",
       "            observer.disconnect();\n",
       "        }}\n",
       "}});\n",
       "\n",
       "// Listen for the removal of the full notebook cells\n",
       "var notebookContainer = gd.closest('#notebook-container');\n",
       "if (notebookContainer) {{\n",
       "    x.observe(notebookContainer, {childList: true});\n",
       "}}\n",
       "\n",
       "// Listen for the clearing of the current output cell\n",
       "var outputEl = gd.closest('.output');\n",
       "if (outputEl) {{\n",
       "    x.observe(outputEl, {childList: true});\n",
       "}}\n",
       "\n",
       "                        })                };                            </script>        </div>\n",
       "</body>\n",
       "</html>"
      ]
     },
     "metadata": {},
     "output_type": "display_data"
    }
   ],
   "source": [
    "#  Bar Chart – Bottom 10 GDP (2025)\n",
    "bottom_10 = df_2025.tail(10)\n",
    "\n",
    "fig_bar_bottom = px.bar(bottom_10, x='Country', y='2025', title='Bottom 10 Countries by GDP in 2025', text='2025', color_discrete_sequence=[\"crimson\"])\n",
    "fig_bar_bottom.update_traces(texttemplate='%{text:.2s}', textposition='outside')\n",
    "fig_bar_bottom.update_layout(yaxis_title='GDP', xaxis_title='Country')\n",
    "fig_bar_bottom.show()"
   ]
  },
  {
   "cell_type": "code",
   "execution_count": 14,
   "id": "7bfcdedc",
   "metadata": {
    "execution": {
     "iopub.execute_input": "2025-09-19T14:29:58.376324Z",
     "iopub.status.busy": "2025-09-19T14:29:58.375543Z",
     "iopub.status.idle": "2025-09-19T14:29:58.994006Z",
     "shell.execute_reply": "2025-09-19T14:29:58.993157Z"
    },
    "papermill": {
     "duration": 0.630944,
     "end_time": "2025-09-19T14:29:58.996329",
     "exception": false,
     "start_time": "2025-09-19T14:29:58.365385",
     "status": "completed"
    },
    "tags": []
   },
   "outputs": [
    {
     "data": {
      "text/html": [
       "<html>\n",
       "<head><meta charset=\"utf-8\" /></head>\n",
       "<body>\n",
       "    <div>            <script src=\"https://cdnjs.cloudflare.com/ajax/libs/mathjax/2.7.5/MathJax.js?config=TeX-AMS-MML_SVG\"></script><script type=\"text/javascript\">if (window.MathJax && window.MathJax.Hub && window.MathJax.Hub.Config) {window.MathJax.Hub.Config({SVG: {font: \"STIX-Web\"}});}</script>                <script type=\"text/javascript\">window.PlotlyConfig = {MathJaxConfig: 'local'};</script>\n",
       "        <script charset=\"utf-8\" src=\"https://cdn.plot.ly/plotly-2.35.2.min.js\"></script>                <div id=\"9cc7686b-85b1-49d9-b48b-6abcb70dbc57\" class=\"plotly-graph-div\" style=\"height:525px; width:100%;\"></div>            <script type=\"text/javascript\">                                    window.PLOTLYENV=window.PLOTLYENV || {};                                    if (document.getElementById(\"9cc7686b-85b1-49d9-b48b-6abcb70dbc57\")) {                    Plotly.newPlot(                        \"9cc7686b-85b1-49d9-b48b-6abcb70dbc57\",                        [{\"hovertemplate\":\"Country=%{text}\\u003cbr\\u003e2020=%{x}\\u003cbr\\u003e2025=%{marker.size}\\u003cextra\\u003e\\u003c\\u002fextra\\u003e\",\"legendgroup\":\"Afghanistan\",\"marker\":{\"color\":\"#636efa\",\"size\":[599141.4497354497],\"sizemode\":\"area\",\"sizeref\":76268.0425,\"symbol\":\"circle\"},\"mode\":\"markers+text\",\"name\":\"Afghanistan\",\"orientation\":\"v\",\"showlegend\":true,\"text\":[\"Afghanistan\"],\"x\":[20136],\"xaxis\":\"x\",\"y\":[599141.4497354497],\"yaxis\":\"y\",\"type\":\"scatter\",\"textposition\":\"top center\"},{\"hovertemplate\":\"Country=%{text}\\u003cbr\\u003e2020=%{x}\\u003cbr\\u003e2025=%{marker.size}\\u003cextra\\u003e\\u003c\\u002fextra\\u003e\",\"legendgroup\":\"Albania\",\"marker\":{\"color\":\"#EF553B\",\"size\":[28372.0],\"sizemode\":\"area\",\"sizeref\":76268.0425,\"symbol\":\"circle\"},\"mode\":\"markers+text\",\"name\":\"Albania\",\"orientation\":\"v\",\"showlegend\":true,\"text\":[\"Albania\"],\"x\":[15271],\"xaxis\":\"x\",\"y\":[28372.0],\"yaxis\":\"y\",\"type\":\"scatter\",\"textposition\":\"top center\"},{\"hovertemplate\":\"Country=%{text}\\u003cbr\\u003e2020=%{x}\\u003cbr\\u003e2025=%{marker.size}\\u003cextra\\u003e\\u003c\\u002fextra\\u003e\",\"legendgroup\":\"Algeria\",\"marker\":{\"color\":\"#00cc96\",\"size\":[268885.0],\"sizemode\":\"area\",\"sizeref\":76268.0425,\"symbol\":\"circle\"},\"mode\":\"markers+text\",\"name\":\"Algeria\",\"orientation\":\"v\",\"showlegend\":true,\"text\":[\"Algeria\"],\"x\":[164774],\"xaxis\":\"x\",\"y\":[268885.0],\"yaxis\":\"y\",\"type\":\"scatter\",\"textposition\":\"top center\"},{\"hovertemplate\":\"Country=%{text}\\u003cbr\\u003e2020=%{x}\\u003cbr\\u003e2025=%{marker.size}\\u003cextra\\u003e\\u003c\\u002fextra\\u003e\",\"legendgroup\":\"Andorra\",\"marker\":{\"color\":\"#ab63fa\",\"size\":[4035.0],\"sizemode\":\"area\",\"sizeref\":76268.0425,\"symbol\":\"circle\"},\"mode\":\"markers+text\",\"name\":\"Andorra\",\"orientation\":\"v\",\"showlegend\":true,\"text\":[\"Andorra\"],\"x\":[2885],\"xaxis\":\"x\",\"y\":[4035.0],\"yaxis\":\"y\",\"type\":\"scatter\",\"textposition\":\"top center\"},{\"hovertemplate\":\"Country=%{text}\\u003cbr\\u003e2020=%{x}\\u003cbr\\u003e2025=%{marker.size}\\u003cextra\\u003e\\u003c\\u002fextra\\u003e\",\"legendgroup\":\"Angola\",\"marker\":{\"color\":\"#FFA15A\",\"size\":[113343.0],\"sizemode\":\"area\",\"sizeref\":76268.0425,\"symbol\":\"circle\"},\"mode\":\"markers+text\",\"name\":\"Angola\",\"orientation\":\"v\",\"showlegend\":true,\"text\":[\"Angola\"],\"x\":[66521],\"xaxis\":\"x\",\"y\":[113343.0],\"yaxis\":\"y\",\"type\":\"scatter\",\"textposition\":\"top center\"},{\"hovertemplate\":\"Country=%{text}\\u003cbr\\u003e2020=%{x}\\u003cbr\\u003e2025=%{marker.size}\\u003cextra\\u003e\\u003c\\u002fextra\\u003e\",\"legendgroup\":\"Antigua and Barbuda\",\"marker\":{\"color\":\"#19d3f3\",\"size\":[2373.0],\"sizemode\":\"area\",\"sizeref\":76268.0425,\"symbol\":\"circle\"},\"mode\":\"markers+text\",\"name\":\"Antigua and Barbuda\",\"orientation\":\"v\",\"showlegend\":true,\"text\":[\"Antigua and Barbuda\"],\"x\":[1412],\"xaxis\":\"x\",\"y\":[2373.0],\"yaxis\":\"y\",\"type\":\"scatter\",\"textposition\":\"top center\"},{\"hovertemplate\":\"Country=%{text}\\u003cbr\\u003e2020=%{x}\\u003cbr\\u003e2025=%{marker.size}\\u003cextra\\u003e\\u003c\\u002fextra\\u003e\",\"legendgroup\":\"Argentina\",\"marker\":{\"color\":\"#FF6692\",\"size\":[683533.0],\"sizemode\":\"area\",\"sizeref\":76268.0425,\"symbol\":\"circle\"},\"mode\":\"markers+text\",\"name\":\"Argentina\",\"orientation\":\"v\",\"showlegend\":true,\"text\":[\"Argentina\"],\"x\":[385218],\"xaxis\":\"x\",\"y\":[683533.0],\"yaxis\":\"y\",\"type\":\"scatter\",\"textposition\":\"top center\"},{\"hovertemplate\":\"Country=%{text}\\u003cbr\\u003e2020=%{x}\\u003cbr\\u003e2025=%{marker.size}\\u003cextra\\u003e\\u003c\\u002fextra\\u003e\",\"legendgroup\":\"Armenia\",\"marker\":{\"color\":\"#B6E880\",\"size\":[26258.0],\"sizemode\":\"area\",\"sizeref\":76268.0425,\"symbol\":\"circle\"},\"mode\":\"markers+text\",\"name\":\"Armenia\",\"orientation\":\"v\",\"showlegend\":true,\"text\":[\"Armenia\"],\"x\":[12642],\"xaxis\":\"x\",\"y\":[26258.0],\"yaxis\":\"y\",\"type\":\"scatter\",\"textposition\":\"top center\"},{\"hovertemplate\":\"Country=%{text}\\u003cbr\\u003e2020=%{x}\\u003cbr\\u003e2025=%{marker.size}\\u003cextra\\u003e\\u003c\\u002fextra\\u003e\",\"legendgroup\":\"Aruba\",\"marker\":{\"color\":\"#FF97FF\",\"size\":[4100.0],\"sizemode\":\"area\",\"sizeref\":76268.0425,\"symbol\":\"circle\"},\"mode\":\"markers+text\",\"name\":\"Aruba\",\"orientation\":\"v\",\"showlegend\":true,\"text\":[\"Aruba\"],\"x\":[2486],\"xaxis\":\"x\",\"y\":[4100.0],\"yaxis\":\"y\",\"type\":\"scatter\",\"textposition\":\"top center\"},{\"hovertemplate\":\"Country=%{text}\\u003cbr\\u003e2020=%{x}\\u003cbr\\u003e2025=%{marker.size}\\u003cextra\\u003e\\u003c\\u002fextra\\u003e\",\"legendgroup\":\"Australia\",\"marker\":{\"color\":\"#FECB52\",\"size\":[1771681.0],\"sizemode\":\"area\",\"sizeref\":76268.0425,\"symbol\":\"circle\"},\"mode\":\"markers+text\",\"name\":\"Australia\",\"orientation\":\"v\",\"showlegend\":true,\"text\":[\"Australia\"],\"x\":[1362613],\"xaxis\":\"x\",\"y\":[1771681.0],\"yaxis\":\"y\",\"type\":\"scatter\",\"textposition\":\"top center\"},{\"hovertemplate\":\"Country=%{text}\\u003cbr\\u003e2020=%{x}\\u003cbr\\u003e2025=%{marker.size}\\u003cextra\\u003e\\u003c\\u002fextra\\u003e\",\"legendgroup\":\"Austria\",\"marker\":{\"color\":\"#636efa\",\"size\":[534301.0],\"sizemode\":\"area\",\"sizeref\":76268.0425,\"symbol\":\"circle\"},\"mode\":\"markers+text\",\"name\":\"Austria\",\"orientation\":\"v\",\"showlegend\":true,\"text\":[\"Austria\"],\"x\":[434050],\"xaxis\":\"x\",\"y\":[534301.0],\"yaxis\":\"y\",\"type\":\"scatter\",\"textposition\":\"top center\"},{\"hovertemplate\":\"Country=%{text}\\u003cbr\\u003e2020=%{x}\\u003cbr\\u003e2025=%{marker.size}\\u003cextra\\u003e\\u003c\\u002fextra\\u003e\",\"legendgroup\":\"Azerbaijan\",\"marker\":{\"color\":\"#EF553B\",\"size\":[78870.0],\"sizemode\":\"area\",\"sizeref\":76268.0425,\"symbol\":\"circle\"},\"mode\":\"markers+text\",\"name\":\"Azerbaijan\",\"orientation\":\"v\",\"showlegend\":true,\"text\":[\"Azerbaijan\"],\"x\":[42693],\"xaxis\":\"x\",\"y\":[78870.0],\"yaxis\":\"y\",\"type\":\"scatter\",\"textposition\":\"top center\"},{\"hovertemplate\":\"Country=%{text}\\u003cbr\\u003e2020=%{x}\\u003cbr\\u003e2025=%{marker.size}\\u003cextra\\u003e\\u003c\\u002fextra\\u003e\",\"legendgroup\":\"Bahamas\",\"marker\":{\"color\":\"#00cc96\",\"size\":[15178.0],\"sizemode\":\"area\",\"sizeref\":76268.0425,\"symbol\":\"circle\"},\"mode\":\"markers+text\",\"name\":\"Bahamas\",\"orientation\":\"v\",\"showlegend\":true,\"text\":[\"Bahamas\"],\"x\":[9958],\"xaxis\":\"x\",\"y\":[15178.0],\"yaxis\":\"y\",\"type\":\"scatter\",\"textposition\":\"top center\"},{\"hovertemplate\":\"Country=%{text}\\u003cbr\\u003e2020=%{x}\\u003cbr\\u003e2025=%{marker.size}\\u003cextra\\u003e\\u003c\\u002fextra\\u003e\",\"legendgroup\":\"Bahrain\",\"marker\":{\"color\":\"#ab63fa\",\"size\":[47829.0],\"sizemode\":\"area\",\"sizeref\":76268.0425,\"symbol\":\"circle\"},\"mode\":\"markers+text\",\"name\":\"Bahrain\",\"orientation\":\"v\",\"showlegend\":true,\"text\":[\"Bahrain\"],\"x\":[35838],\"xaxis\":\"x\",\"y\":[47829.0],\"yaxis\":\"y\",\"type\":\"scatter\",\"textposition\":\"top center\"},{\"hovertemplate\":\"Country=%{text}\\u003cbr\\u003e2020=%{x}\\u003cbr\\u003e2025=%{marker.size}\\u003cextra\\u003e\\u003c\\u002fextra\\u003e\",\"legendgroup\":\"Bangladesh\",\"marker\":{\"color\":\"#FFA15A\",\"size\":[467218.0],\"sizemode\":\"area\",\"sizeref\":76268.0425,\"symbol\":\"circle\"},\"mode\":\"markers+text\",\"name\":\"Bangladesh\",\"orientation\":\"v\",\"showlegend\":true,\"text\":[\"Bangladesh\"],\"x\":[373902],\"xaxis\":\"x\",\"y\":[467218.0],\"yaxis\":\"y\",\"type\":\"scatter\",\"textposition\":\"top center\"},{\"hovertemplate\":\"Country=%{text}\\u003cbr\\u003e2020=%{x}\\u003cbr\\u003e2025=%{marker.size}\\u003cextra\\u003e\\u003c\\u002fextra\\u003e\",\"legendgroup\":\"Barbados\",\"marker\":{\"color\":\"#19d3f3\",\"size\":[7552.0],\"sizemode\":\"area\",\"sizeref\":76268.0425,\"symbol\":\"circle\"},\"mode\":\"markers+text\",\"name\":\"Barbados\",\"orientation\":\"v\",\"showlegend\":true,\"text\":[\"Barbados\"],\"x\":[5168],\"xaxis\":\"x\",\"y\":[7552.0],\"yaxis\":\"y\",\"type\":\"scatter\",\"textposition\":\"top center\"},{\"hovertemplate\":\"Country=%{text}\\u003cbr\\u003e2020=%{x}\\u003cbr\\u003e2025=%{marker.size}\\u003cextra\\u003e\\u003c\\u002fextra\\u003e\",\"legendgroup\":\"Belarus\",\"marker\":{\"color\":\"#FF6692\",\"size\":[71561.0],\"sizemode\":\"area\",\"sizeref\":76268.0425,\"symbol\":\"circle\"},\"mode\":\"markers+text\",\"name\":\"Belarus\",\"orientation\":\"v\",\"showlegend\":true,\"text\":[\"Belarus\"],\"x\":[61312],\"xaxis\":\"x\",\"y\":[71561.0],\"yaxis\":\"y\",\"type\":\"scatter\",\"textposition\":\"top center\"},{\"hovertemplate\":\"Country=%{text}\\u003cbr\\u003e2020=%{x}\\u003cbr\\u003e2025=%{marker.size}\\u003cextra\\u003e\\u003c\\u002fextra\\u003e\",\"legendgroup\":\"Belgium\",\"marker\":{\"color\":\"#B6E880\",\"size\":[684864.0],\"sizemode\":\"area\",\"sizeref\":76268.0425,\"symbol\":\"circle\"},\"mode\":\"markers+text\",\"name\":\"Belgium\",\"orientation\":\"v\",\"showlegend\":true,\"text\":[\"Belgium\"],\"x\":[529269],\"xaxis\":\"x\",\"y\":[684864.0],\"yaxis\":\"y\",\"type\":\"scatter\",\"textposition\":\"top center\"},{\"hovertemplate\":\"Country=%{text}\\u003cbr\\u003e2020=%{x}\\u003cbr\\u003e2025=%{marker.size}\\u003cextra\\u003e\\u003c\\u002fextra\\u003e\",\"legendgroup\":\"Belize\",\"marker\":{\"color\":\"#FF97FF\",\"size\":[3611.0],\"sizemode\":\"area\",\"sizeref\":76268.0425,\"symbol\":\"circle\"},\"mode\":\"markers+text\",\"name\":\"Belize\",\"orientation\":\"v\",\"showlegend\":true,\"text\":[\"Belize\"],\"x\":[2043],\"xaxis\":\"x\",\"y\":[3611.0],\"yaxis\":\"y\",\"type\":\"scatter\",\"textposition\":\"top center\"},{\"hovertemplate\":\"Country=%{text}\\u003cbr\\u003e2020=%{x}\\u003cbr\\u003e2025=%{marker.size}\\u003cextra\\u003e\\u003c\\u002fextra\\u003e\",\"legendgroup\":\"Benin\",\"marker\":{\"color\":\"#FECB52\",\"size\":[22236.0],\"sizemode\":\"area\",\"sizeref\":76268.0425,\"symbol\":\"circle\"},\"mode\":\"markers+text\",\"name\":\"Benin\",\"orientation\":\"v\",\"showlegend\":true,\"text\":[\"Benin\"],\"x\":[15674],\"xaxis\":\"x\",\"y\":[22236.0],\"yaxis\":\"y\",\"type\":\"scatter\",\"textposition\":\"top center\"},{\"hovertemplate\":\"Country=%{text}\\u003cbr\\u003e2020=%{x}\\u003cbr\\u003e2025=%{marker.size}\\u003cextra\\u003e\\u003c\\u002fextra\\u003e\",\"legendgroup\":\"Bhutan\",\"marker\":{\"color\":\"#636efa\",\"size\":[3422.0],\"sizemode\":\"area\",\"sizeref\":76268.0425,\"symbol\":\"circle\"},\"mode\":\"markers+text\",\"name\":\"Bhutan\",\"orientation\":\"v\",\"showlegend\":true,\"text\":[\"Bhutan\"],\"x\":[2586],\"xaxis\":\"x\",\"y\":[3422.0],\"yaxis\":\"y\",\"type\":\"scatter\",\"textposition\":\"top center\"},{\"hovertemplate\":\"Country=%{text}\\u003cbr\\u003e2020=%{x}\\u003cbr\\u003e2025=%{marker.size}\\u003cextra\\u003e\\u003c\\u002fextra\\u003e\",\"legendgroup\":\"Bolivia\",\"marker\":{\"color\":\"#EF553B\",\"size\":[56339.0],\"sizemode\":\"area\",\"sizeref\":76268.0425,\"symbol\":\"circle\"},\"mode\":\"markers+text\",\"name\":\"Bolivia\",\"orientation\":\"v\",\"showlegend\":true,\"text\":[\"Bolivia\"],\"x\":[36897],\"xaxis\":\"x\",\"y\":[56339.0],\"yaxis\":\"y\",\"type\":\"scatter\",\"textposition\":\"top center\"},{\"hovertemplate\":\"Country=%{text}\\u003cbr\\u003e2020=%{x}\\u003cbr\\u003e2025=%{marker.size}\\u003cextra\\u003e\\u003c\\u002fextra\\u003e\",\"legendgroup\":\"Bosnia and Herzegovina\",\"marker\":{\"color\":\"#00cc96\",\"size\":[28807.0],\"sizemode\":\"area\",\"sizeref\":76268.0425,\"symbol\":\"circle\"},\"mode\":\"markers+text\",\"name\":\"Bosnia and Herzegovina\",\"orientation\":\"v\",\"showlegend\":true,\"text\":[\"Bosnia and Herzegovina\"],\"x\":[20226],\"xaxis\":\"x\",\"y\":[28807.0],\"yaxis\":\"y\",\"type\":\"scatter\",\"textposition\":\"top center\"},{\"hovertemplate\":\"Country=%{text}\\u003cbr\\u003e2020=%{x}\\u003cbr\\u003e2025=%{marker.size}\\u003cextra\\u003e\\u003c\\u002fextra\\u003e\",\"legendgroup\":\"Botswana\",\"marker\":{\"color\":\"#ab63fa\",\"size\":[19400.0],\"sizemode\":\"area\",\"sizeref\":76268.0425,\"symbol\":\"circle\"},\"mode\":\"markers+text\",\"name\":\"Botswana\",\"orientation\":\"v\",\"showlegend\":true,\"text\":[\"Botswana\"],\"x\":[14930],\"xaxis\":\"x\",\"y\":[19400.0],\"yaxis\":\"y\",\"type\":\"scatter\",\"textposition\":\"top center\"},{\"hovertemplate\":\"Country=%{text}\\u003cbr\\u003e2020=%{x}\\u003cbr\\u003e2025=%{marker.size}\\u003cextra\\u003e\\u003c\\u002fextra\\u003e\",\"legendgroup\":\"Brazil\",\"marker\":{\"color\":\"#FFA15A\",\"size\":[2125958.0],\"sizemode\":\"area\",\"sizeref\":76268.0425,\"symbol\":\"circle\"},\"mode\":\"markers+text\",\"name\":\"Brazil\",\"orientation\":\"v\",\"showlegend\":true,\"text\":[\"Brazil\"],\"x\":[1476092],\"xaxis\":\"x\",\"y\":[2125958.0],\"yaxis\":\"y\",\"type\":\"scatter\",\"textposition\":\"top center\"},{\"hovertemplate\":\"Country=%{text}\\u003cbr\\u003e2020=%{x}\\u003cbr\\u003e2025=%{marker.size}\\u003cextra\\u003e\\u003c\\u002fextra\\u003e\",\"legendgroup\":\"Brunei\",\"marker\":{\"color\":\"#19d3f3\",\"size\":[16007.0],\"sizemode\":\"area\",\"sizeref\":76268.0425,\"symbol\":\"circle\"},\"mode\":\"markers+text\",\"name\":\"Brunei\",\"orientation\":\"v\",\"showlegend\":true,\"text\":[\"Brunei\"],\"x\":[12006],\"xaxis\":\"x\",\"y\":[16007.0],\"yaxis\":\"y\",\"type\":\"scatter\",\"textposition\":\"top center\"},{\"hovertemplate\":\"Country=%{text}\\u003cbr\\u003e2020=%{x}\\u003cbr\\u003e2025=%{marker.size}\\u003cextra\\u003e\\u003c\\u002fextra\\u003e\",\"legendgroup\":\"Bulgaria\",\"marker\":{\"color\":\"#FF6692\",\"size\":[117007.0],\"sizemode\":\"area\",\"sizeref\":76268.0425,\"symbol\":\"circle\"},\"mode\":\"markers+text\",\"name\":\"Bulgaria\",\"orientation\":\"v\",\"showlegend\":true,\"text\":[\"Bulgaria\"],\"x\":[70658],\"xaxis\":\"x\",\"y\":[117007.0],\"yaxis\":\"y\",\"type\":\"scatter\",\"textposition\":\"top center\"},{\"hovertemplate\":\"Country=%{text}\\u003cbr\\u003e2020=%{x}\\u003cbr\\u003e2025=%{marker.size}\\u003cextra\\u003e\\u003c\\u002fextra\\u003e\",\"legendgroup\":\"Burkina Faso\",\"marker\":{\"color\":\"#B6E880\",\"size\":[27056.0],\"sizemode\":\"area\",\"sizeref\":76268.0425,\"symbol\":\"circle\"},\"mode\":\"markers+text\",\"name\":\"Burkina Faso\",\"orientation\":\"v\",\"showlegend\":true,\"text\":[\"Burkina Faso\"],\"x\":[17837],\"xaxis\":\"x\",\"y\":[27056.0],\"yaxis\":\"y\",\"type\":\"scatter\",\"textposition\":\"top center\"},{\"hovertemplate\":\"Country=%{text}\\u003cbr\\u003e2020=%{x}\\u003cbr\\u003e2025=%{marker.size}\\u003cextra\\u003e\\u003c\\u002fextra\\u003e\",\"legendgroup\":\"Burundi\",\"marker\":{\"color\":\"#FF97FF\",\"size\":[6745.0],\"sizemode\":\"area\",\"sizeref\":76268.0425,\"symbol\":\"circle\"},\"mode\":\"markers+text\",\"name\":\"Burundi\",\"orientation\":\"v\",\"showlegend\":true,\"text\":[\"Burundi\"],\"x\":[3089],\"xaxis\":\"x\",\"y\":[6745.0],\"yaxis\":\"y\",\"type\":\"scatter\",\"textposition\":\"top center\"},{\"hovertemplate\":\"Country=%{text}\\u003cbr\\u003e2020=%{x}\\u003cbr\\u003e2025=%{marker.size}\\u003cextra\\u003e\\u003c\\u002fextra\\u003e\",\"legendgroup\":\"Cape Verde\",\"marker\":{\"color\":\"#FECB52\",\"size\":[2786.0],\"sizemode\":\"area\",\"sizeref\":76268.0425,\"symbol\":\"circle\"},\"mode\":\"markers+text\",\"name\":\"Cape Verde\",\"orientation\":\"v\",\"showlegend\":true,\"text\":[\"Cape Verde\"],\"x\":[1831],\"xaxis\":\"x\",\"y\":[2786.0],\"yaxis\":\"y\",\"type\":\"scatter\",\"textposition\":\"top center\"},{\"hovertemplate\":\"Country=%{text}\\u003cbr\\u003e2020=%{x}\\u003cbr\\u003e2025=%{marker.size}\\u003cextra\\u003e\\u003c\\u002fextra\\u003e\",\"legendgroup\":\"Cambodia\",\"marker\":{\"color\":\"#636efa\",\"size\":[49799.0],\"sizemode\":\"area\",\"sizeref\":76268.0425,\"symbol\":\"circle\"},\"mode\":\"markers+text\",\"name\":\"Cambodia\",\"orientation\":\"v\",\"showlegend\":true,\"text\":[\"Cambodia\"],\"x\":[34898],\"xaxis\":\"x\",\"y\":[49799.0],\"yaxis\":\"y\",\"type\":\"scatter\",\"textposition\":\"top center\"},{\"hovertemplate\":\"Country=%{text}\\u003cbr\\u003e2020=%{x}\\u003cbr\\u003e2025=%{marker.size}\\u003cextra\\u003e\\u003c\\u002fextra\\u003e\",\"legendgroup\":\"Cameroon\",\"marker\":{\"color\":\"#EF553B\",\"size\":[56011.0],\"sizemode\":\"area\",\"sizeref\":76268.0425,\"symbol\":\"circle\"},\"mode\":\"markers+text\",\"name\":\"Cameroon\",\"orientation\":\"v\",\"showlegend\":true,\"text\":[\"Cameroon\"],\"x\":[40863],\"xaxis\":\"x\",\"y\":[56011.0],\"yaxis\":\"y\",\"type\":\"scatter\",\"textposition\":\"top center\"},{\"hovertemplate\":\"Country=%{text}\\u003cbr\\u003e2020=%{x}\\u003cbr\\u003e2025=%{marker.size}\\u003cextra\\u003e\\u003c\\u002fextra\\u003e\",\"legendgroup\":\"Canada\",\"marker\":{\"color\":\"#00cc96\",\"size\":[2225341.0],\"sizemode\":\"area\",\"sizeref\":76268.0425,\"symbol\":\"circle\"},\"mode\":\"markers+text\",\"name\":\"Canada\",\"orientation\":\"v\",\"showlegend\":true,\"text\":[\"Canada\"],\"x\":[1655685],\"xaxis\":\"x\",\"y\":[2225341.0],\"yaxis\":\"y\",\"type\":\"scatter\",\"textposition\":\"top center\"},{\"hovertemplate\":\"Country=%{text}\\u003cbr\\u003e2020=%{x}\\u003cbr\\u003e2025=%{marker.size}\\u003cextra\\u003e\\u003c\\u002fextra\\u003e\",\"legendgroup\":\"Central African Republic\",\"marker\":{\"color\":\"#ab63fa\",\"size\":[2932.0],\"sizemode\":\"area\",\"sizeref\":76268.0425,\"symbol\":\"circle\"},\"mode\":\"markers+text\",\"name\":\"Central African Republic\",\"orientation\":\"v\",\"showlegend\":true,\"text\":[\"Central African Republic\"],\"x\":[2389],\"xaxis\":\"x\",\"y\":[2932.0],\"yaxis\":\"y\",\"type\":\"scatter\",\"textposition\":\"top center\"},{\"hovertemplate\":\"Country=%{text}\\u003cbr\\u003e2020=%{x}\\u003cbr\\u003e2025=%{marker.size}\\u003cextra\\u003e\\u003c\\u002fextra\\u003e\",\"legendgroup\":\"Chad\",\"marker\":{\"color\":\"#FFA15A\",\"size\":[18792.0],\"sizemode\":\"area\",\"sizeref\":76268.0425,\"symbol\":\"circle\"},\"mode\":\"markers+text\",\"name\":\"Chad\",\"orientation\":\"v\",\"showlegend\":true,\"text\":[\"Chad\"],\"x\":[14954],\"xaxis\":\"x\",\"y\":[18792.0],\"yaxis\":\"y\",\"type\":\"scatter\",\"textposition\":\"top center\"},{\"hovertemplate\":\"Country=%{text}\\u003cbr\\u003e2020=%{x}\\u003cbr\\u003e2025=%{marker.size}\\u003cextra\\u003e\\u003c\\u002fextra\\u003e\",\"legendgroup\":\"Chile\",\"marker\":{\"color\":\"#19d3f3\",\"size\":[343823.0],\"sizemode\":\"area\",\"sizeref\":76268.0425,\"symbol\":\"circle\"},\"mode\":\"markers+text\",\"name\":\"Chile\",\"orientation\":\"v\",\"showlegend\":true,\"text\":[\"Chile\"],\"x\":[254060],\"xaxis\":\"x\",\"y\":[343823.0],\"yaxis\":\"y\",\"type\":\"scatter\",\"textposition\":\"top center\"},{\"hovertemplate\":\"Country=%{text}\\u003cbr\\u003e2020=%{x}\\u003cbr\\u003e2025=%{marker.size}\\u003cextra\\u003e\\u003c\\u002fextra\\u003e\",\"legendgroup\":\"China\",\"marker\":{\"color\":\"#FF6692\",\"size\":[19231705.0],\"sizemode\":\"area\",\"sizeref\":76268.0425,\"symbol\":\"circle\"},\"mode\":\"markers+text\",\"name\":\"China\",\"orientation\":\"v\",\"showlegend\":true,\"text\":[\"China\"],\"x\":[15103357],\"xaxis\":\"x\",\"y\":[19231705.0],\"yaxis\":\"y\",\"type\":\"scatter\",\"textposition\":\"top center\"},{\"hovertemplate\":\"Country=%{text}\\u003cbr\\u003e2020=%{x}\\u003cbr\\u003e2025=%{marker.size}\\u003cextra\\u003e\\u003c\\u002fextra\\u003e\",\"legendgroup\":\"Colombia\",\"marker\":{\"color\":\"#B6E880\",\"size\":[427766.0],\"sizemode\":\"area\",\"sizeref\":76268.0425,\"symbol\":\"circle\"},\"mode\":\"markers+text\",\"name\":\"Colombia\",\"orientation\":\"v\",\"showlegend\":true,\"text\":[\"Colombia\"],\"x\":[270348],\"xaxis\":\"x\",\"y\":[427766.0],\"yaxis\":\"y\",\"type\":\"scatter\",\"textposition\":\"top center\"},{\"hovertemplate\":\"Country=%{text}\\u003cbr\\u003e2020=%{x}\\u003cbr\\u003e2025=%{marker.size}\\u003cextra\\u003e\\u003c\\u002fextra\\u003e\",\"legendgroup\":\"Comoros\",\"marker\":{\"color\":\"#FF97FF\",\"size\":[1548.0],\"sizemode\":\"area\",\"sizeref\":76268.0425,\"symbol\":\"circle\"},\"mode\":\"markers+text\",\"name\":\"Comoros\",\"orientation\":\"v\",\"showlegend\":true,\"text\":[\"Comoros\"],\"x\":[1218],\"xaxis\":\"x\",\"y\":[1548.0],\"yaxis\":\"y\",\"type\":\"scatter\",\"textposition\":\"top center\"},{\"hovertemplate\":\"Country=%{text}\\u003cbr\\u003e2020=%{x}\\u003cbr\\u003e2025=%{marker.size}\\u003cextra\\u003e\\u003c\\u002fextra\\u003e\",\"legendgroup\":\"Democratic Republic of the Congo\",\"marker\":{\"color\":\"#FECB52\",\"size\":[79119.0],\"sizemode\":\"area\",\"sizeref\":76268.0425,\"symbol\":\"circle\"},\"mode\":\"markers+text\",\"name\":\"Democratic Republic of the Congo\",\"orientation\":\"v\",\"showlegend\":true,\"text\":[\"Democratic Republic of the Congo\"],\"x\":[49613],\"xaxis\":\"x\",\"y\":[79119.0],\"yaxis\":\"y\",\"type\":\"scatter\",\"textposition\":\"top center\"},{\"hovertemplate\":\"Country=%{text}\\u003cbr\\u003e2020=%{x}\\u003cbr\\u003e2025=%{marker.size}\\u003cextra\\u003e\\u003c\\u002fextra\\u003e\",\"legendgroup\":\"Republic of the Congo\",\"marker\":{\"color\":\"#636efa\",\"size\":[15281.0],\"sizemode\":\"area\",\"sizeref\":76268.0425,\"symbol\":\"circle\"},\"mode\":\"markers+text\",\"name\":\"Republic of the Congo\",\"orientation\":\"v\",\"showlegend\":true,\"text\":[\"Republic of the Congo\"],\"x\":[11485],\"xaxis\":\"x\",\"y\":[15281.0],\"yaxis\":\"y\",\"type\":\"scatter\",\"textposition\":\"top center\"},{\"hovertemplate\":\"Country=%{text}\\u003cbr\\u003e2020=%{x}\\u003cbr\\u003e2025=%{marker.size}\\u003cextra\\u003e\\u003c\\u002fextra\\u003e\",\"legendgroup\":\"Costa Rica\",\"marker\":{\"color\":\"#EF553B\",\"size\":[102591.0],\"sizemode\":\"area\",\"sizeref\":76268.0425,\"symbol\":\"circle\"},\"mode\":\"markers+text\",\"name\":\"Costa Rica\",\"orientation\":\"v\",\"showlegend\":true,\"text\":[\"Costa Rica\"],\"x\":[62382],\"xaxis\":\"x\",\"y\":[102591.0],\"yaxis\":\"y\",\"type\":\"scatter\",\"textposition\":\"top center\"},{\"hovertemplate\":\"Country=%{text}\\u003cbr\\u003e2020=%{x}\\u003cbr\\u003e2025=%{marker.size}\\u003cextra\\u003e\\u003c\\u002fextra\\u003e\",\"legendgroup\":\"Ivory Coast\",\"marker\":{\"color\":\"#00cc96\",\"size\":[94483.0],\"sizemode\":\"area\",\"sizeref\":76268.0425,\"symbol\":\"circle\"},\"mode\":\"markers+text\",\"name\":\"Ivory Coast\",\"orientation\":\"v\",\"showlegend\":true,\"text\":[\"Ivory Coast\"],\"x\":[63119],\"xaxis\":\"x\",\"y\":[94483.0],\"yaxis\":\"y\",\"type\":\"scatter\",\"textposition\":\"top center\"},{\"hovertemplate\":\"Country=%{text}\\u003cbr\\u003e2020=%{x}\\u003cbr\\u003e2025=%{marker.size}\\u003cextra\\u003e\\u003c\\u002fextra\\u003e\",\"legendgroup\":\"Croatia\",\"marker\":{\"color\":\"#ab63fa\",\"size\":[98951.0],\"sizemode\":\"area\",\"sizeref\":76268.0425,\"symbol\":\"circle\"},\"mode\":\"markers+text\",\"name\":\"Croatia\",\"orientation\":\"v\",\"showlegend\":true,\"text\":[\"Croatia\"],\"x\":[57919],\"xaxis\":\"x\",\"y\":[98951.0],\"yaxis\":\"y\",\"type\":\"scatter\",\"textposition\":\"top center\"},{\"hovertemplate\":\"Country=%{text}\\u003cbr\\u003e2020=%{x}\\u003cbr\\u003e2025=%{marker.size}\\u003cextra\\u003e\\u003c\\u002fextra\\u003e\",\"legendgroup\":\"Cyprus\",\"marker\":{\"color\":\"#FFA15A\",\"size\":[38736.0],\"sizemode\":\"area\",\"sizeref\":76268.0425,\"symbol\":\"circle\"},\"mode\":\"markers+text\",\"name\":\"Cyprus\",\"orientation\":\"v\",\"showlegend\":true,\"text\":[\"Cyprus\"],\"x\":[25535],\"xaxis\":\"x\",\"y\":[38736.0],\"yaxis\":\"y\",\"type\":\"scatter\",\"textposition\":\"top center\"},{\"hovertemplate\":\"Country=%{text}\\u003cbr\\u003e2020=%{x}\\u003cbr\\u003e2025=%{marker.size}\\u003cextra\\u003e\\u003c\\u002fextra\\u003e\",\"legendgroup\":\"Czech Republic\",\"marker\":{\"color\":\"#19d3f3\",\"size\":[360244.0],\"sizemode\":\"area\",\"sizeref\":76268.0425,\"symbol\":\"circle\"},\"mode\":\"markers+text\",\"name\":\"Czech Republic\",\"orientation\":\"v\",\"showlegend\":true,\"text\":[\"Czech Republic\"],\"x\":[251110],\"xaxis\":\"x\",\"y\":[360244.0],\"yaxis\":\"y\",\"type\":\"scatter\",\"textposition\":\"top center\"},{\"hovertemplate\":\"Country=%{text}\\u003cbr\\u003e2020=%{x}\\u003cbr\\u003e2025=%{marker.size}\\u003cextra\\u003e\\u003c\\u002fextra\\u003e\",\"legendgroup\":\"Denmark\",\"marker\":{\"color\":\"#FF6692\",\"size\":[449940.0],\"sizemode\":\"area\",\"sizeref\":76268.0425,\"symbol\":\"circle\"},\"mode\":\"markers+text\",\"name\":\"Denmark\",\"orientation\":\"v\",\"showlegend\":true,\"text\":[\"Denmark\"],\"x\":[355631],\"xaxis\":\"x\",\"y\":[449940.0],\"yaxis\":\"y\",\"type\":\"scatter\",\"textposition\":\"top center\"},{\"hovertemplate\":\"Country=%{text}\\u003cbr\\u003e2020=%{x}\\u003cbr\\u003e2025=%{marker.size}\\u003cextra\\u003e\\u003c\\u002fextra\\u003e\",\"legendgroup\":\"Djibouti\",\"marker\":{\"color\":\"#B6E880\",\"size\":[4587.0],\"sizemode\":\"area\",\"sizeref\":76268.0425,\"symbol\":\"circle\"},\"mode\":\"markers+text\",\"name\":\"Djibouti\",\"orientation\":\"v\",\"showlegend\":true,\"text\":[\"Djibouti\"],\"x\":[3144],\"xaxis\":\"x\",\"y\":[4587.0],\"yaxis\":\"y\",\"type\":\"scatter\",\"textposition\":\"top center\"},{\"hovertemplate\":\"Country=%{text}\\u003cbr\\u003e2020=%{x}\\u003cbr\\u003e2025=%{marker.size}\\u003cextra\\u003e\\u003c\\u002fextra\\u003e\",\"legendgroup\":\"Dominica\",\"marker\":{\"color\":\"#FF97FF\",\"size\":[742.0],\"sizemode\":\"area\",\"sizeref\":76268.0425,\"symbol\":\"circle\"},\"mode\":\"markers+text\",\"name\":\"Dominica\",\"orientation\":\"v\",\"showlegend\":true,\"text\":[\"Dominica\"],\"x\":[504],\"xaxis\":\"x\",\"y\":[742.0],\"yaxis\":\"y\",\"type\":\"scatter\",\"textposition\":\"top center\"},{\"hovertemplate\":\"Country=%{text}\\u003cbr\\u003e2020=%{x}\\u003cbr\\u003e2025=%{marker.size}\\u003cextra\\u003e\\u003c\\u002fextra\\u003e\",\"legendgroup\":\"Dominican Republic\",\"marker\":{\"color\":\"#FECB52\",\"size\":[127828.0],\"sizemode\":\"area\",\"sizeref\":76268.0425,\"symbol\":\"circle\"},\"mode\":\"markers+text\",\"name\":\"Dominican Republic\",\"orientation\":\"v\",\"showlegend\":true,\"text\":[\"Dominican Republic\"],\"x\":[78625],\"xaxis\":\"x\",\"y\":[127828.0],\"yaxis\":\"y\",\"type\":\"scatter\",\"textposition\":\"top center\"},{\"hovertemplate\":\"Country=%{text}\\u003cbr\\u003e2020=%{x}\\u003cbr\\u003e2025=%{marker.size}\\u003cextra\\u003e\\u003c\\u002fextra\\u003e\",\"legendgroup\":\"Ecuador\",\"marker\":{\"color\":\"#636efa\",\"size\":[125677.0],\"sizemode\":\"area\",\"sizeref\":76268.0425,\"symbol\":\"circle\"},\"mode\":\"markers+text\",\"name\":\"Ecuador\",\"orientation\":\"v\",\"showlegend\":true,\"text\":[\"Ecuador\"],\"x\":[95865],\"xaxis\":\"x\",\"y\":[125677.0],\"yaxis\":\"y\",\"type\":\"scatter\",\"textposition\":\"top center\"},{\"hovertemplate\":\"Country=%{text}\\u003cbr\\u003e2020=%{x}\\u003cbr\\u003e2025=%{marker.size}\\u003cextra\\u003e\\u003c\\u002fextra\\u003e\",\"legendgroup\":\"Egypt\",\"marker\":{\"color\":\"#EF553B\",\"size\":[347342.0],\"sizemode\":\"area\",\"sizeref\":76268.0425,\"symbol\":\"circle\"},\"mode\":\"markers+text\",\"name\":\"Egypt\",\"orientation\":\"v\",\"showlegend\":true,\"text\":[\"Egypt\"],\"x\":[382525],\"xaxis\":\"x\",\"y\":[347342.0],\"yaxis\":\"y\",\"type\":\"scatter\",\"textposition\":\"top center\"},{\"hovertemplate\":\"Country=%{text}\\u003cbr\\u003e2020=%{x}\\u003cbr\\u003e2025=%{marker.size}\\u003cextra\\u003e\\u003c\\u002fextra\\u003e\",\"legendgroup\":\"El Salvador\",\"marker\":{\"color\":\"#00cc96\",\"size\":[36749.0],\"sizemode\":\"area\",\"sizeref\":76268.0425,\"symbol\":\"circle\"},\"mode\":\"markers+text\",\"name\":\"El Salvador\",\"orientation\":\"v\",\"showlegend\":true,\"text\":[\"El Salvador\"],\"x\":[24921],\"xaxis\":\"x\",\"y\":[36749.0],\"yaxis\":\"y\",\"type\":\"scatter\",\"textposition\":\"top center\"},{\"hovertemplate\":\"Country=%{text}\\u003cbr\\u003e2020=%{x}\\u003cbr\\u003e2025=%{marker.size}\\u003cextra\\u003e\\u003c\\u002fextra\\u003e\",\"legendgroup\":\"Equatorial Guinea\",\"marker\":{\"color\":\"#ab63fa\",\"size\":[12684.0],\"sizemode\":\"area\",\"sizeref\":76268.0425,\"symbol\":\"circle\"},\"mode\":\"markers+text\",\"name\":\"Equatorial Guinea\",\"orientation\":\"v\",\"showlegend\":true,\"text\":[\"Equatorial Guinea\"],\"x\":[9908],\"xaxis\":\"x\",\"y\":[12684.0],\"yaxis\":\"y\",\"type\":\"scatter\",\"textposition\":\"top center\"},{\"hovertemplate\":\"Country=%{text}\\u003cbr\\u003e2020=%{x}\\u003cbr\\u003e2025=%{marker.size}\\u003cextra\\u003e\\u003c\\u002fextra\\u003e\",\"legendgroup\":\"Eritrea\",\"marker\":{\"color\":\"#FFA15A\",\"size\":[599141.4497354497],\"sizemode\":\"area\",\"sizeref\":76268.0425,\"symbol\":\"circle\"},\"mode\":\"markers+text\",\"name\":\"Eritrea\",\"orientation\":\"v\",\"showlegend\":true,\"text\":[\"Eritrea\"],\"x\":[1982],\"xaxis\":\"x\",\"y\":[599141.4497354497],\"yaxis\":\"y\",\"type\":\"scatter\",\"textposition\":\"top center\"},{\"hovertemplate\":\"Country=%{text}\\u003cbr\\u003e2020=%{x}\\u003cbr\\u003e2025=%{marker.size}\\u003cextra\\u003e\\u003c\\u002fextra\\u003e\",\"legendgroup\":\"Estonia\",\"marker\":{\"color\":\"#19d3f3\",\"size\":[45004.0],\"sizemode\":\"area\",\"sizeref\":76268.0425,\"symbol\":\"circle\"},\"mode\":\"markers+text\",\"name\":\"Estonia\",\"orientation\":\"v\",\"showlegend\":true,\"text\":[\"Estonia\"],\"x\":[31795],\"xaxis\":\"x\",\"y\":[45004.0],\"yaxis\":\"y\",\"type\":\"scatter\",\"textposition\":\"top center\"},{\"hovertemplate\":\"Country=%{text}\\u003cbr\\u003e2020=%{x}\\u003cbr\\u003e2025=%{marker.size}\\u003cextra\\u003e\\u003c\\u002fextra\\u003e\",\"legendgroup\":\"Eswatini\",\"marker\":{\"color\":\"#FF6692\",\"size\":[5483.0],\"sizemode\":\"area\",\"sizeref\":76268.0425,\"symbol\":\"circle\"},\"mode\":\"markers+text\",\"name\":\"Eswatini\",\"orientation\":\"v\",\"showlegend\":true,\"text\":[\"Eswatini\"],\"x\":[3984],\"xaxis\":\"x\",\"y\":[5483.0],\"yaxis\":\"y\",\"type\":\"scatter\",\"textposition\":\"top center\"},{\"hovertemplate\":\"Country=%{text}\\u003cbr\\u003e2020=%{x}\\u003cbr\\u003e2025=%{marker.size}\\u003cextra\\u003e\\u003c\\u002fextra\\u003e\",\"legendgroup\":\"Ethiopia\",\"marker\":{\"color\":\"#B6E880\",\"size\":[117457.0],\"sizemode\":\"area\",\"sizeref\":76268.0425,\"symbol\":\"circle\"},\"mode\":\"markers+text\",\"name\":\"Ethiopia\",\"orientation\":\"v\",\"showlegend\":true,\"text\":[\"Ethiopia\"],\"x\":[96611],\"xaxis\":\"x\",\"y\":[117457.0],\"yaxis\":\"y\",\"type\":\"scatter\",\"textposition\":\"top center\"},{\"hovertemplate\":\"Country=%{text}\\u003cbr\\u003e2020=%{x}\\u003cbr\\u003e2025=%{marker.size}\\u003cextra\\u003e\\u003c\\u002fextra\\u003e\",\"legendgroup\":\"Fiji\",\"marker\":{\"color\":\"#FF97FF\",\"size\":[6257.0],\"sizemode\":\"area\",\"sizeref\":76268.0425,\"symbol\":\"circle\"},\"mode\":\"markers+text\",\"name\":\"Fiji\",\"orientation\":\"v\",\"showlegend\":true,\"text\":[\"Fiji\"],\"x\":[4432],\"xaxis\":\"x\",\"y\":[6257.0],\"yaxis\":\"y\",\"type\":\"scatter\",\"textposition\":\"top center\"},{\"hovertemplate\":\"Country=%{text}\\u003cbr\\u003e2020=%{x}\\u003cbr\\u003e2025=%{marker.size}\\u003cextra\\u003e\\u003c\\u002fextra\\u003e\",\"legendgroup\":\"Finland\",\"marker\":{\"color\":\"#FECB52\",\"size\":[303945.0],\"sizemode\":\"area\",\"sizeref\":76268.0425,\"symbol\":\"circle\"},\"mode\":\"markers+text\",\"name\":\"Finland\",\"orientation\":\"v\",\"showlegend\":true,\"text\":[\"Finland\"],\"x\":[269784],\"xaxis\":\"x\",\"y\":[303945.0],\"yaxis\":\"y\",\"type\":\"scatter\",\"textposition\":\"top center\"},{\"hovertemplate\":\"Country=%{text}\\u003cbr\\u003e2020=%{x}\\u003cbr\\u003e2025=%{marker.size}\\u003cextra\\u003e\\u003c\\u002fextra\\u003e\",\"legendgroup\":\"France\",\"marker\":{\"color\":\"#636efa\",\"size\":[3211292.0],\"sizemode\":\"area\",\"sizeref\":76268.0425,\"symbol\":\"circle\"},\"mode\":\"markers+text\",\"name\":\"France\",\"orientation\":\"v\",\"showlegend\":true,\"text\":[\"France\"],\"x\":[2645806],\"xaxis\":\"x\",\"y\":[3211292.0],\"yaxis\":\"y\",\"type\":\"scatter\",\"textposition\":\"top center\"},{\"hovertemplate\":\"Country=%{text}\\u003cbr\\u003e2020=%{x}\\u003cbr\\u003e2025=%{marker.size}\\u003cextra\\u003e\\u003c\\u002fextra\\u003e\",\"legendgroup\":\"Gabon\",\"marker\":{\"color\":\"#EF553B\",\"size\":[20391.0],\"sizemode\":\"area\",\"sizeref\":76268.0425,\"symbol\":\"circle\"},\"mode\":\"markers+text\",\"name\":\"Gabon\",\"orientation\":\"v\",\"showlegend\":true,\"text\":[\"Gabon\"],\"x\":[15364],\"xaxis\":\"x\",\"y\":[20391.0],\"yaxis\":\"y\",\"type\":\"scatter\",\"textposition\":\"top center\"},{\"hovertemplate\":\"Country=%{text}\\u003cbr\\u003e2020=%{x}\\u003cbr\\u003e2025=%{marker.size}\\u003cextra\\u003e\\u003c\\u002fextra\\u003e\",\"legendgroup\":\"Gambia\",\"marker\":{\"color\":\"#00cc96\",\"size\":[2771.0],\"sizemode\":\"area\",\"sizeref\":76268.0425,\"symbol\":\"circle\"},\"mode\":\"markers+text\",\"name\":\"Gambia\",\"orientation\":\"v\",\"showlegend\":true,\"text\":[\"Gambia\"],\"x\":[1809],\"xaxis\":\"x\",\"y\":[2771.0],\"yaxis\":\"y\",\"type\":\"scatter\",\"textposition\":\"top center\"},{\"hovertemplate\":\"Country=%{text}\\u003cbr\\u003e2020=%{x}\\u003cbr\\u003e2025=%{marker.size}\\u003cextra\\u003e\\u003c\\u002fextra\\u003e\",\"legendgroup\":\"Georgia\",\"marker\":{\"color\":\"#ab63fa\",\"size\":[35353.0],\"sizemode\":\"area\",\"sizeref\":76268.0425,\"symbol\":\"circle\"},\"mode\":\"markers+text\",\"name\":\"Georgia\",\"orientation\":\"v\",\"showlegend\":true,\"text\":[\"Georgia\"],\"x\":[16013],\"xaxis\":\"x\",\"y\":[35353.0],\"yaxis\":\"y\",\"type\":\"scatter\",\"textposition\":\"top center\"},{\"hovertemplate\":\"Country=%{text}\\u003cbr\\u003e2020=%{x}\\u003cbr\\u003e2025=%{marker.size}\\u003cextra\\u003e\\u003c\\u002fextra\\u003e\",\"legendgroup\":\"Germany\",\"marker\":{\"color\":\"#FFA15A\",\"size\":[4744804.0],\"sizemode\":\"area\",\"sizeref\":76268.0425,\"symbol\":\"circle\"},\"mode\":\"markers+text\",\"name\":\"Germany\",\"orientation\":\"v\",\"showlegend\":true,\"text\":[\"Germany\"],\"x\":[3936989],\"xaxis\":\"x\",\"y\":[4744804.0],\"yaxis\":\"y\",\"type\":\"scatter\",\"textposition\":\"top center\"},{\"hovertemplate\":\"Country=%{text}\\u003cbr\\u003e2020=%{x}\\u003cbr\\u003e2025=%{marker.size}\\u003cextra\\u003e\\u003c\\u002fextra\\u003e\",\"legendgroup\":\"Ghana\",\"marker\":{\"color\":\"#19d3f3\",\"size\":[88332.0],\"sizemode\":\"area\",\"sizeref\":76268.0425,\"symbol\":\"circle\"},\"mode\":\"markers+text\",\"name\":\"Ghana\",\"orientation\":\"v\",\"showlegend\":true,\"text\":[\"Ghana\"],\"x\":[70008],\"xaxis\":\"x\",\"y\":[88332.0],\"yaxis\":\"y\",\"type\":\"scatter\",\"textposition\":\"top center\"},{\"hovertemplate\":\"Country=%{text}\\u003cbr\\u003e2020=%{x}\\u003cbr\\u003e2025=%{marker.size}\\u003cextra\\u003e\\u003c\\u002fextra\\u003e\",\"legendgroup\":\"Greece\",\"marker\":{\"color\":\"#FF6692\",\"size\":[267348.0],\"sizemode\":\"area\",\"sizeref\":76268.0425,\"symbol\":\"circle\"},\"mode\":\"markers+text\",\"name\":\"Greece\",\"orientation\":\"v\",\"showlegend\":true,\"text\":[\"Greece\"],\"x\":[191210],\"xaxis\":\"x\",\"y\":[267348.0],\"yaxis\":\"y\",\"type\":\"scatter\",\"textposition\":\"top center\"},{\"hovertemplate\":\"Country=%{text}\\u003cbr\\u003e2020=%{x}\\u003cbr\\u003e2025=%{marker.size}\\u003cextra\\u003e\\u003c\\u002fextra\\u003e\",\"legendgroup\":\"Grenada\",\"marker\":{\"color\":\"#B6E880\",\"size\":[1464.0],\"sizemode\":\"area\",\"sizeref\":76268.0425,\"symbol\":\"circle\"},\"mode\":\"markers+text\",\"name\":\"Grenada\",\"orientation\":\"v\",\"showlegend\":true,\"text\":[\"Grenada\"],\"x\":[1043],\"xaxis\":\"x\",\"y\":[1464.0],\"yaxis\":\"y\",\"type\":\"scatter\",\"textposition\":\"top center\"},{\"hovertemplate\":\"Country=%{text}\\u003cbr\\u003e2020=%{x}\\u003cbr\\u003e2025=%{marker.size}\\u003cextra\\u003e\\u003c\\u002fextra\\u003e\",\"legendgroup\":\"Guatemala\",\"marker\":{\"color\":\"#FF97FF\",\"size\":[121177.0],\"sizemode\":\"area\",\"sizeref\":76268.0425,\"symbol\":\"circle\"},\"mode\":\"markers+text\",\"name\":\"Guatemala\",\"orientation\":\"v\",\"showlegend\":true,\"text\":[\"Guatemala\"],\"x\":[77718],\"xaxis\":\"x\",\"y\":[121177.0],\"yaxis\":\"y\",\"type\":\"scatter\",\"textposition\":\"top center\"},{\"hovertemplate\":\"Country=%{text}\\u003cbr\\u003e2020=%{x}\\u003cbr\\u003e2025=%{marker.size}\\u003cextra\\u003e\\u003c\\u002fextra\\u003e\",\"legendgroup\":\"Guinea\",\"marker\":{\"color\":\"#FECB52\",\"size\":[30094.0],\"sizemode\":\"area\",\"sizeref\":76268.0425,\"symbol\":\"circle\"},\"mode\":\"markers+text\",\"name\":\"Guinea\",\"orientation\":\"v\",\"showlegend\":true,\"text\":[\"Guinea\"],\"x\":[14089],\"xaxis\":\"x\",\"y\":[30094.0],\"yaxis\":\"y\",\"type\":\"scatter\",\"textposition\":\"top center\"},{\"hovertemplate\":\"Country=%{text}\\u003cbr\\u003e2020=%{x}\\u003cbr\\u003e2025=%{marker.size}\\u003cextra\\u003e\\u003c\\u002fextra\\u003e\",\"legendgroup\":\"Guinea-Bissau\",\"marker\":{\"color\":\"#636efa\",\"size\":[2274.0],\"sizemode\":\"area\",\"sizeref\":76268.0425,\"symbol\":\"circle\"},\"mode\":\"markers+text\",\"name\":\"Guinea-Bissau\",\"orientation\":\"v\",\"showlegend\":true,\"text\":[\"Guinea-Bissau\"],\"x\":[1523],\"xaxis\":\"x\",\"y\":[2274.0],\"yaxis\":\"y\",\"type\":\"scatter\",\"textposition\":\"top center\"},{\"hovertemplate\":\"Country=%{text}\\u003cbr\\u003e2020=%{x}\\u003cbr\\u003e2025=%{marker.size}\\u003cextra\\u003e\\u003c\\u002fextra\\u003e\",\"legendgroup\":\"Guyana\",\"marker\":{\"color\":\"#EF553B\",\"size\":[25822.0],\"sizemode\":\"area\",\"sizeref\":76268.0425,\"symbol\":\"circle\"},\"mode\":\"markers+text\",\"name\":\"Guyana\",\"orientation\":\"v\",\"showlegend\":true,\"text\":[\"Guyana\"],\"x\":[5471],\"xaxis\":\"x\",\"y\":[25822.0],\"yaxis\":\"y\",\"type\":\"scatter\",\"textposition\":\"top center\"},{\"hovertemplate\":\"Country=%{text}\\u003cbr\\u003e2020=%{x}\\u003cbr\\u003e2025=%{marker.size}\\u003cextra\\u003e\\u003c\\u002fextra\\u003e\",\"legendgroup\":\"Haiti\",\"marker\":{\"color\":\"#00cc96\",\"size\":[33548.0],\"sizemode\":\"area\",\"sizeref\":76268.0425,\"symbol\":\"circle\"},\"mode\":\"markers+text\",\"name\":\"Haiti\",\"orientation\":\"v\",\"showlegend\":true,\"text\":[\"Haiti\"],\"x\":[14508],\"xaxis\":\"x\",\"y\":[33548.0],\"yaxis\":\"y\",\"type\":\"scatter\",\"textposition\":\"top center\"},{\"hovertemplate\":\"Country=%{text}\\u003cbr\\u003e2020=%{x}\\u003cbr\\u003e2025=%{marker.size}\\u003cextra\\u003e\\u003c\\u002fextra\\u003e\",\"legendgroup\":\"Honduras\",\"marker\":{\"color\":\"#ab63fa\",\"size\":[38172.0],\"sizemode\":\"area\",\"sizeref\":76268.0425,\"symbol\":\"circle\"},\"mode\":\"markers+text\",\"name\":\"Honduras\",\"orientation\":\"v\",\"showlegend\":true,\"text\":[\"Honduras\"],\"x\":[23190],\"xaxis\":\"x\",\"y\":[38172.0],\"yaxis\":\"y\",\"type\":\"scatter\",\"textposition\":\"top center\"},{\"hovertemplate\":\"Country=%{text}\\u003cbr\\u003e2020=%{x}\\u003cbr\\u003e2025=%{marker.size}\\u003cextra\\u003e\\u003c\\u002fextra\\u003e\",\"legendgroup\":\"Hong Kong\",\"marker\":{\"color\":\"#FFA15A\",\"size\":[423999.0],\"sizemode\":\"area\",\"sizeref\":76268.0425,\"symbol\":\"circle\"},\"mode\":\"markers+text\",\"name\":\"Hong Kong\",\"orientation\":\"v\",\"showlegend\":true,\"text\":[\"Hong Kong\"],\"x\":[344941],\"xaxis\":\"x\",\"y\":[423999.0],\"yaxis\":\"y\",\"type\":\"scatter\",\"textposition\":\"top center\"},{\"hovertemplate\":\"Country=%{text}\\u003cbr\\u003e2020=%{x}\\u003cbr\\u003e2025=%{marker.size}\\u003cextra\\u003e\\u003c\\u002fextra\\u003e\",\"legendgroup\":\"Hungary\",\"marker\":{\"color\":\"#19d3f3\",\"size\":[237070.0],\"sizemode\":\"area\",\"sizeref\":76268.0425,\"symbol\":\"circle\"},\"mode\":\"markers+text\",\"name\":\"Hungary\",\"orientation\":\"v\",\"showlegend\":true,\"text\":[\"Hungary\"],\"x\":[158468],\"xaxis\":\"x\",\"y\":[237070.0],\"yaxis\":\"y\",\"type\":\"scatter\",\"textposition\":\"top center\"},{\"hovertemplate\":\"Country=%{text}\\u003cbr\\u003e2020=%{x}\\u003cbr\\u003e2025=%{marker.size}\\u003cextra\\u003e\\u003c\\u002fextra\\u003e\",\"legendgroup\":\"Iceland\",\"marker\":{\"color\":\"#FF6692\",\"size\":[35309.0],\"sizemode\":\"area\",\"sizeref\":76268.0425,\"symbol\":\"circle\"},\"mode\":\"markers+text\",\"name\":\"Iceland\",\"orientation\":\"v\",\"showlegend\":true,\"text\":[\"Iceland\"],\"x\":[21630],\"xaxis\":\"x\",\"y\":[35309.0],\"yaxis\":\"y\",\"type\":\"scatter\",\"textposition\":\"top center\"},{\"hovertemplate\":\"Country=%{text}\\u003cbr\\u003e2020=%{x}\\u003cbr\\u003e2025=%{marker.size}\\u003cextra\\u003e\\u003c\\u002fextra\\u003e\",\"legendgroup\":\"India\",\"marker\":{\"color\":\"#B6E880\",\"size\":[4187017.0],\"sizemode\":\"area\",\"sizeref\":76268.0425,\"symbol\":\"circle\"},\"mode\":\"markers+text\",\"name\":\"India\",\"orientation\":\"v\",\"showlegend\":true,\"text\":[\"India\"],\"x\":[2674852],\"xaxis\":\"x\",\"y\":[4187017.0],\"yaxis\":\"y\",\"type\":\"scatter\",\"textposition\":\"top center\"},{\"hovertemplate\":\"Country=%{text}\\u003cbr\\u003e2020=%{x}\\u003cbr\\u003e2025=%{marker.size}\\u003cextra\\u003e\\u003c\\u002fextra\\u003e\",\"legendgroup\":\"Indonesia\",\"marker\":{\"color\":\"#FF97FF\",\"size\":[1429743.0],\"sizemode\":\"area\",\"sizeref\":76268.0425,\"symbol\":\"circle\"},\"mode\":\"markers+text\",\"name\":\"Indonesia\",\"orientation\":\"v\",\"showlegend\":true,\"text\":[\"Indonesia\"],\"x\":[1059055],\"xaxis\":\"x\",\"y\":[1429743.0],\"yaxis\":\"y\",\"type\":\"scatter\",\"textposition\":\"top center\"},{\"hovertemplate\":\"Country=%{text}\\u003cbr\\u003e2020=%{x}\\u003cbr\\u003e2025=%{marker.size}\\u003cextra\\u003e\\u003c\\u002fextra\\u003e\",\"legendgroup\":\"Iran\",\"marker\":{\"color\":\"#FECB52\",\"size\":[341013.0],\"sizemode\":\"area\",\"sizeref\":76268.0425,\"symbol\":\"circle\"},\"mode\":\"markers+text\",\"name\":\"Iran\",\"orientation\":\"v\",\"showlegend\":true,\"text\":[\"Iran\"],\"x\":[195528],\"xaxis\":\"x\",\"y\":[341013.0],\"yaxis\":\"y\",\"type\":\"scatter\",\"textposition\":\"top center\"},{\"hovertemplate\":\"Country=%{text}\\u003cbr\\u003e2020=%{x}\\u003cbr\\u003e2025=%{marker.size}\\u003cextra\\u003e\\u003c\\u002fextra\\u003e\",\"legendgroup\":\"Iraq\",\"marker\":{\"color\":\"#636efa\",\"size\":[258020.0],\"sizemode\":\"area\",\"sizeref\":76268.0425,\"symbol\":\"circle\"},\"mode\":\"markers+text\",\"name\":\"Iraq\",\"orientation\":\"v\",\"showlegend\":true,\"text\":[\"Iraq\"],\"x\":[182576],\"xaxis\":\"x\",\"y\":[258020.0],\"yaxis\":\"y\",\"type\":\"scatter\",\"textposition\":\"top center\"},{\"hovertemplate\":\"Country=%{text}\\u003cbr\\u003e2020=%{x}\\u003cbr\\u003e2025=%{marker.size}\\u003cextra\\u003e\\u003c\\u002fextra\\u003e\",\"legendgroup\":\"Ireland\",\"marker\":{\"color\":\"#EF553B\",\"size\":[598840.0],\"sizemode\":\"area\",\"sizeref\":76268.0425,\"symbol\":\"circle\"},\"mode\":\"markers+text\",\"name\":\"Ireland\",\"orientation\":\"v\",\"showlegend\":true,\"text\":[\"Ireland\"],\"x\":[436205],\"xaxis\":\"x\",\"y\":[598840.0],\"yaxis\":\"y\",\"type\":\"scatter\",\"textposition\":\"top center\"},{\"hovertemplate\":\"Country=%{text}\\u003cbr\\u003e2020=%{x}\\u003cbr\\u003e2025=%{marker.size}\\u003cextra\\u003e\\u003c\\u002fextra\\u003e\",\"legendgroup\":\"Israel\",\"marker\":{\"color\":\"#00cc96\",\"size\":[583361.0],\"sizemode\":\"area\",\"sizeref\":76268.0425,\"symbol\":\"circle\"},\"mode\":\"markers+text\",\"name\":\"Israel\",\"orientation\":\"v\",\"showlegend\":true,\"text\":[\"Israel\"],\"x\":[410771],\"xaxis\":\"x\",\"y\":[583361.0],\"yaxis\":\"y\",\"type\":\"scatter\",\"textposition\":\"top center\"},{\"hovertemplate\":\"Country=%{text}\\u003cbr\\u003e2020=%{x}\\u003cbr\\u003e2025=%{marker.size}\\u003cextra\\u003e\\u003c\\u002fextra\\u003e\",\"legendgroup\":\"Italy\",\"marker\":{\"color\":\"#ab63fa\",\"size\":[2422855.0],\"sizemode\":\"area\",\"sizeref\":76268.0425,\"symbol\":\"circle\"},\"mode\":\"markers+text\",\"name\":\"Italy\",\"orientation\":\"v\",\"showlegend\":true,\"text\":[\"Italy\"],\"x\":[1905956],\"xaxis\":\"x\",\"y\":[2422855.0],\"yaxis\":\"y\",\"type\":\"scatter\",\"textposition\":\"top center\"},{\"hovertemplate\":\"Country=%{text}\\u003cbr\\u003e2020=%{x}\\u003cbr\\u003e2025=%{marker.size}\\u003cextra\\u003e\\u003c\\u002fextra\\u003e\",\"legendgroup\":\"Jamaica\",\"marker\":{\"color\":\"#FFA15A\",\"size\":[21411.0],\"sizemode\":\"area\",\"sizeref\":76268.0425,\"symbol\":\"circle\"},\"mode\":\"markers+text\",\"name\":\"Jamaica\",\"orientation\":\"v\",\"showlegend\":true,\"text\":[\"Jamaica\"],\"x\":[13885],\"xaxis\":\"x\",\"y\":[21411.0],\"yaxis\":\"y\",\"type\":\"scatter\",\"textposition\":\"top center\"},{\"hovertemplate\":\"Country=%{text}\\u003cbr\\u003e2020=%{x}\\u003cbr\\u003e2025=%{marker.size}\\u003cextra\\u003e\\u003c\\u002fextra\\u003e\",\"legendgroup\":\"Japan\",\"marker\":{\"color\":\"#19d3f3\",\"size\":[4186431.0],\"sizemode\":\"area\",\"sizeref\":76268.0425,\"symbol\":\"circle\"},\"mode\":\"markers+text\",\"name\":\"Japan\",\"orientation\":\"v\",\"showlegend\":true,\"text\":[\"Japan\"],\"x\":[5054069],\"xaxis\":\"x\",\"y\":[4186431.0],\"yaxis\":\"y\",\"type\":\"scatter\",\"textposition\":\"top center\"},{\"hovertemplate\":\"Country=%{text}\\u003cbr\\u003e2020=%{x}\\u003cbr\\u003e2025=%{marker.size}\\u003cextra\\u003e\\u003c\\u002fextra\\u003e\",\"legendgroup\":\"Jordan\",\"marker\":{\"color\":\"#FF6692\",\"size\":[56102.0],\"sizemode\":\"area\",\"sizeref\":76268.0425,\"symbol\":\"circle\"},\"mode\":\"markers+text\",\"name\":\"Jordan\",\"orientation\":\"v\",\"showlegend\":true,\"text\":[\"Jordan\"],\"x\":[43762],\"xaxis\":\"x\",\"y\":[56102.0],\"yaxis\":\"y\",\"type\":\"scatter\",\"textposition\":\"top center\"},{\"hovertemplate\":\"Country=%{text}\\u003cbr\\u003e2020=%{x}\\u003cbr\\u003e2025=%{marker.size}\\u003cextra\\u003e\\u003c\\u002fextra\\u003e\",\"legendgroup\":\"Kazakhstan\",\"marker\":{\"color\":\"#B6E880\",\"size\":[300538.0],\"sizemode\":\"area\",\"sizeref\":76268.0425,\"symbol\":\"circle\"},\"mode\":\"markers+text\",\"name\":\"Kazakhstan\",\"orientation\":\"v\",\"showlegend\":true,\"text\":[\"Kazakhstan\"],\"x\":[171082],\"xaxis\":\"x\",\"y\":[300538.0],\"yaxis\":\"y\",\"type\":\"scatter\",\"textposition\":\"top center\"},{\"hovertemplate\":\"Country=%{text}\\u003cbr\\u003e2020=%{x}\\u003cbr\\u003e2025=%{marker.size}\\u003cextra\\u003e\\u003c\\u002fextra\\u003e\",\"legendgroup\":\"Kenya\",\"marker\":{\"color\":\"#FF97FF\",\"size\":[131673.0],\"sizemode\":\"area\",\"sizeref\":76268.0425,\"symbol\":\"circle\"},\"mode\":\"markers+text\",\"name\":\"Kenya\",\"orientation\":\"v\",\"showlegend\":true,\"text\":[\"Kenya\"],\"x\":[100912],\"xaxis\":\"x\",\"y\":[131673.0],\"yaxis\":\"y\",\"type\":\"scatter\",\"textposition\":\"top center\"},{\"hovertemplate\":\"Country=%{text}\\u003cbr\\u003e2020=%{x}\\u003cbr\\u003e2025=%{marker.size}\\u003cextra\\u003e\\u003c\\u002fextra\\u003e\",\"legendgroup\":\"Kiribati\",\"marker\":{\"color\":\"#FECB52\",\"size\":[312.0],\"sizemode\":\"area\",\"sizeref\":76268.0425,\"symbol\":\"circle\"},\"mode\":\"markers+text\",\"name\":\"Kiribati\",\"orientation\":\"v\",\"showlegend\":true,\"text\":[\"Kiribati\"],\"x\":[222],\"xaxis\":\"x\",\"y\":[312.0],\"yaxis\":\"y\",\"type\":\"scatter\",\"textposition\":\"top center\"},{\"hovertemplate\":\"Country=%{text}\\u003cbr\\u003e2020=%{x}\\u003cbr\\u003e2025=%{marker.size}\\u003cextra\\u003e\\u003c\\u002fextra\\u003e\",\"legendgroup\":\"South Korea\",\"marker\":{\"color\":\"#636efa\",\"size\":[1790322.0],\"sizemode\":\"area\",\"sizeref\":76268.0425,\"symbol\":\"circle\"},\"mode\":\"markers+text\",\"name\":\"South Korea\",\"orientation\":\"v\",\"showlegend\":true,\"text\":[\"South Korea\"],\"x\":[1744456],\"xaxis\":\"x\",\"y\":[1790322.0],\"yaxis\":\"y\",\"type\":\"scatter\",\"textposition\":\"top center\"},{\"hovertemplate\":\"Country=%{text}\\u003cbr\\u003e2020=%{x}\\u003cbr\\u003e2025=%{marker.size}\\u003cextra\\u003e\\u003c\\u002fextra\\u003e\",\"legendgroup\":\"Kosovo\",\"marker\":{\"color\":\"#EF553B\",\"size\":[11274.0],\"sizemode\":\"area\",\"sizeref\":76268.0425,\"symbol\":\"circle\"},\"mode\":\"markers+text\",\"name\":\"Kosovo\",\"orientation\":\"v\",\"showlegend\":true,\"text\":[\"Kosovo\"],\"x\":[7728],\"xaxis\":\"x\",\"y\":[11274.0],\"yaxis\":\"y\",\"type\":\"scatter\",\"textposition\":\"top center\"},{\"hovertemplate\":\"Country=%{text}\\u003cbr\\u003e2020=%{x}\\u003cbr\\u003e2025=%{marker.size}\\u003cextra\\u003e\\u003c\\u002fextra\\u003e\",\"legendgroup\":\"Kuwait\",\"marker\":{\"color\":\"#00cc96\",\"size\":[153101.0],\"sizemode\":\"area\",\"sizeref\":76268.0425,\"symbol\":\"circle\"},\"mode\":\"markers+text\",\"name\":\"Kuwait\",\"orientation\":\"v\",\"showlegend\":true,\"text\":[\"Kuwait\"],\"x\":[111048],\"xaxis\":\"x\",\"y\":[153101.0],\"yaxis\":\"y\",\"type\":\"scatter\",\"textposition\":\"top center\"},{\"hovertemplate\":\"Country=%{text}\\u003cbr\\u003e2020=%{x}\\u003cbr\\u003e2025=%{marker.size}\\u003cextra\\u003e\\u003c\\u002fextra\\u003e\",\"legendgroup\":\"Kyrgyzstan\",\"marker\":{\"color\":\"#ab63fa\",\"size\":[19849.0],\"sizemode\":\"area\",\"sizeref\":76268.0425,\"symbol\":\"circle\"},\"mode\":\"markers+text\",\"name\":\"Kyrgyzstan\",\"orientation\":\"v\",\"showlegend\":true,\"text\":[\"Kyrgyzstan\"],\"x\":[8283],\"xaxis\":\"x\",\"y\":[19849.0],\"yaxis\":\"y\",\"type\":\"scatter\",\"textposition\":\"top center\"},{\"hovertemplate\":\"Country=%{text}\\u003cbr\\u003e2020=%{x}\\u003cbr\\u003e2025=%{marker.size}\\u003cextra\\u003e\\u003c\\u002fextra\\u003e\",\"legendgroup\":\"Laos\",\"marker\":{\"color\":\"#FFA15A\",\"size\":[16322.0],\"sizemode\":\"area\",\"sizeref\":76268.0425,\"symbol\":\"circle\"},\"mode\":\"markers+text\",\"name\":\"Laos\",\"orientation\":\"v\",\"showlegend\":true,\"text\":[\"Laos\"],\"x\":[18511],\"xaxis\":\"x\",\"y\":[16322.0],\"yaxis\":\"y\",\"type\":\"scatter\",\"textposition\":\"top center\"},{\"hovertemplate\":\"Country=%{text}\\u003cbr\\u003e2020=%{x}\\u003cbr\\u003e2025=%{marker.size}\\u003cextra\\u003e\\u003c\\u002fextra\\u003e\",\"legendgroup\":\"Latvia\",\"marker\":{\"color\":\"#19d3f3\",\"size\":[45535.0],\"sizemode\":\"area\",\"sizeref\":76268.0425,\"symbol\":\"circle\"},\"mode\":\"markers+text\",\"name\":\"Latvia\",\"orientation\":\"v\",\"showlegend\":true,\"text\":[\"Latvia\"],\"x\":[33353],\"xaxis\":\"x\",\"y\":[45535.0],\"yaxis\":\"y\",\"type\":\"scatter\",\"textposition\":\"top center\"},{\"hovertemplate\":\"Country=%{text}\\u003cbr\\u003e2020=%{x}\\u003cbr\\u003e2025=%{marker.size}\\u003cextra\\u003e\\u003c\\u002fextra\\u003e\",\"legendgroup\":\"Lebanon\",\"marker\":{\"color\":\"#FF6692\",\"size\":[599141.4497354497],\"sizemode\":\"area\",\"sizeref\":76268.0425,\"symbol\":\"circle\"},\"mode\":\"markers+text\",\"name\":\"Lebanon\",\"orientation\":\"v\",\"showlegend\":true,\"text\":[\"Lebanon\"],\"x\":[24976],\"xaxis\":\"x\",\"y\":[599141.4497354497],\"yaxis\":\"y\",\"type\":\"scatter\",\"textposition\":\"top center\"},{\"hovertemplate\":\"Country=%{text}\\u003cbr\\u003e2020=%{x}\\u003cbr\\u003e2025=%{marker.size}\\u003cextra\\u003e\\u003c\\u002fextra\\u003e\",\"legendgroup\":\"Lesotho\",\"marker\":{\"color\":\"#B6E880\",\"size\":[2404.0],\"sizemode\":\"area\",\"sizeref\":76268.0425,\"symbol\":\"circle\"},\"mode\":\"markers+text\",\"name\":\"Lesotho\",\"orientation\":\"v\",\"showlegend\":true,\"text\":[\"Lesotho\"],\"x\":[2092],\"xaxis\":\"x\",\"y\":[2404.0],\"yaxis\":\"y\",\"type\":\"scatter\",\"textposition\":\"top center\"},{\"hovertemplate\":\"Country=%{text}\\u003cbr\\u003e2020=%{x}\\u003cbr\\u003e2025=%{marker.size}\\u003cextra\\u003e\\u003c\\u002fextra\\u003e\",\"legendgroup\":\"Liberia\",\"marker\":{\"color\":\"#FF97FF\",\"size\":[5166.0],\"sizemode\":\"area\",\"sizeref\":76268.0425,\"symbol\":\"circle\"},\"mode\":\"markers+text\",\"name\":\"Liberia\",\"orientation\":\"v\",\"showlegend\":true,\"text\":[\"Liberia\"],\"x\":[3037],\"xaxis\":\"x\",\"y\":[5166.0],\"yaxis\":\"y\",\"type\":\"scatter\",\"textposition\":\"top center\"},{\"hovertemplate\":\"Country=%{text}\\u003cbr\\u003e2020=%{x}\\u003cbr\\u003e2025=%{marker.size}\\u003cextra\\u003e\\u003c\\u002fextra\\u003e\",\"legendgroup\":\"Libya\",\"marker\":{\"color\":\"#FECB52\",\"size\":[47484.0],\"sizemode\":\"area\",\"sizeref\":76268.0425,\"symbol\":\"circle\"},\"mode\":\"markers+text\",\"name\":\"Libya\",\"orientation\":\"v\",\"showlegend\":true,\"text\":[\"Libya\"],\"x\":[46893],\"xaxis\":\"x\",\"y\":[47484.0],\"yaxis\":\"y\",\"type\":\"scatter\",\"textposition\":\"top center\"},{\"hovertemplate\":\"Country=%{text}\\u003cbr\\u003e2020=%{x}\\u003cbr\\u003e2025=%{marker.size}\\u003cextra\\u003e\\u003c\\u002fextra\\u003e\",\"legendgroup\":\"Lithuania\",\"marker\":{\"color\":\"#636efa\",\"size\":[89192.0],\"sizemode\":\"area\",\"sizeref\":76268.0425,\"symbol\":\"circle\"},\"mode\":\"markers+text\",\"name\":\"Lithuania\",\"orientation\":\"v\",\"showlegend\":true,\"text\":[\"Lithuania\"],\"x\":[57352],\"xaxis\":\"x\",\"y\":[89192.0],\"yaxis\":\"y\",\"type\":\"scatter\",\"textposition\":\"top center\"},{\"hovertemplate\":\"Country=%{text}\\u003cbr\\u003e2020=%{x}\\u003cbr\\u003e2025=%{marker.size}\\u003cextra\\u003e\\u003c\\u002fextra\\u003e\",\"legendgroup\":\"Luxembourg\",\"marker\":{\"color\":\"#EF553B\",\"size\":[96613.0],\"sizemode\":\"area\",\"sizeref\":76268.0425,\"symbol\":\"circle\"},\"mode\":\"markers+text\",\"name\":\"Luxembourg\",\"orientation\":\"v\",\"showlegend\":true,\"text\":[\"Luxembourg\"],\"x\":[73612],\"xaxis\":\"x\",\"y\":[96613.0],\"yaxis\":\"y\",\"type\":\"scatter\",\"textposition\":\"top center\"},{\"hovertemplate\":\"Country=%{text}\\u003cbr\\u003e2020=%{x}\\u003cbr\\u003e2025=%{marker.size}\\u003cextra\\u003e\\u003c\\u002fextra\\u003e\",\"legendgroup\":\"Macau\",\"marker\":{\"color\":\"#00cc96\",\"size\":[53354.0],\"sizemode\":\"area\",\"sizeref\":76268.0425,\"symbol\":\"circle\"},\"mode\":\"markers+text\",\"name\":\"Macau\",\"orientation\":\"v\",\"showlegend\":true,\"text\":[\"Macau\"],\"x\":[25344],\"xaxis\":\"x\",\"y\":[53354.0],\"yaxis\":\"y\",\"type\":\"scatter\",\"textposition\":\"top center\"},{\"hovertemplate\":\"Country=%{text}\\u003cbr\\u003e2020=%{x}\\u003cbr\\u003e2025=%{marker.size}\\u003cextra\\u003e\\u003c\\u002fextra\\u003e\",\"legendgroup\":\"Madagascar\",\"marker\":{\"color\":\"#ab63fa\",\"size\":[18708.0],\"sizemode\":\"area\",\"sizeref\":76268.0425,\"symbol\":\"circle\"},\"mode\":\"markers+text\",\"name\":\"Madagascar\",\"orientation\":\"v\",\"showlegend\":true,\"text\":[\"Madagascar\"],\"x\":[13051],\"xaxis\":\"x\",\"y\":[18708.0],\"yaxis\":\"y\",\"type\":\"scatter\",\"textposition\":\"top center\"},{\"hovertemplate\":\"Country=%{text}\\u003cbr\\u003e2020=%{x}\\u003cbr\\u003e2025=%{marker.size}\\u003cextra\\u003e\\u003c\\u002fextra\\u003e\",\"legendgroup\":\"Malawi\",\"marker\":{\"color\":\"#FFA15A\",\"size\":[13959.0],\"sizemode\":\"area\",\"sizeref\":76268.0425,\"symbol\":\"circle\"},\"mode\":\"markers+text\",\"name\":\"Malawi\",\"orientation\":\"v\",\"showlegend\":true,\"text\":[\"Malawi\"],\"x\":[11847],\"xaxis\":\"x\",\"y\":[13959.0],\"yaxis\":\"y\",\"type\":\"scatter\",\"textposition\":\"top center\"},{\"hovertemplate\":\"Country=%{text}\\u003cbr\\u003e2020=%{x}\\u003cbr\\u003e2025=%{marker.size}\\u003cextra\\u003e\\u003c\\u002fextra\\u003e\",\"legendgroup\":\"Malaysia\",\"marker\":{\"color\":\"#19d3f3\",\"size\":[444984.0],\"sizemode\":\"area\",\"sizeref\":76268.0425,\"symbol\":\"circle\"},\"mode\":\"markers+text\",\"name\":\"Malaysia\",\"orientation\":\"v\",\"showlegend\":true,\"text\":[\"Malaysia\"],\"x\":[337456],\"xaxis\":\"x\",\"y\":[444984.0],\"yaxis\":\"y\",\"type\":\"scatter\",\"textposition\":\"top center\"},{\"hovertemplate\":\"Country=%{text}\\u003cbr\\u003e2020=%{x}\\u003cbr\\u003e2025=%{marker.size}\\u003cextra\\u003e\\u003c\\u002fextra\\u003e\",\"legendgroup\":\"Maldives\",\"marker\":{\"color\":\"#FF6692\",\"size\":[7480.0],\"sizemode\":\"area\",\"sizeref\":76268.0425,\"symbol\":\"circle\"},\"mode\":\"markers+text\",\"name\":\"Maldives\",\"orientation\":\"v\",\"showlegend\":true,\"text\":[\"Maldives\"],\"x\":[3706],\"xaxis\":\"x\",\"y\":[7480.0],\"yaxis\":\"y\",\"type\":\"scatter\",\"textposition\":\"top center\"},{\"hovertemplate\":\"Country=%{text}\\u003cbr\\u003e2020=%{x}\\u003cbr\\u003e2025=%{marker.size}\\u003cextra\\u003e\\u003c\\u002fextra\\u003e\",\"legendgroup\":\"Mali\",\"marker\":{\"color\":\"#B6E880\",\"size\":[23208.0],\"sizemode\":\"area\",\"sizeref\":76268.0425,\"symbol\":\"circle\"},\"mode\":\"markers+text\",\"name\":\"Mali\",\"orientation\":\"v\",\"showlegend\":true,\"text\":[\"Mali\"],\"x\":[17491],\"xaxis\":\"x\",\"y\":[23208.0],\"yaxis\":\"y\",\"type\":\"scatter\",\"textposition\":\"top center\"},{\"hovertemplate\":\"Country=%{text}\\u003cbr\\u003e2020=%{x}\\u003cbr\\u003e2025=%{marker.size}\\u003cextra\\u003e\\u003c\\u002fextra\\u003e\",\"legendgroup\":\"Malta\",\"marker\":{\"color\":\"#FF97FF\",\"size\":[25750.0],\"sizemode\":\"area\",\"sizeref\":76268.0425,\"symbol\":\"circle\"},\"mode\":\"markers+text\",\"name\":\"Malta\",\"orientation\":\"v\",\"showlegend\":true,\"text\":[\"Malta\"],\"x\":[16397],\"xaxis\":\"x\",\"y\":[25750.0],\"yaxis\":\"y\",\"type\":\"scatter\",\"textposition\":\"top center\"},{\"hovertemplate\":\"Country=%{text}\\u003cbr\\u003e2020=%{x}\\u003cbr\\u003e2025=%{marker.size}\\u003cextra\\u003e\\u003c\\u002fextra\\u003e\",\"legendgroup\":\"Marshall Islands\",\"marker\":{\"color\":\"#FECB52\",\"size\":[297.0],\"sizemode\":\"area\",\"sizeref\":76268.0425,\"symbol\":\"circle\"},\"mode\":\"markers+text\",\"name\":\"Marshall Islands\",\"orientation\":\"v\",\"showlegend\":true,\"text\":[\"Marshall Islands\"],\"x\":[242],\"xaxis\":\"x\",\"y\":[297.0],\"yaxis\":\"y\",\"type\":\"scatter\",\"textposition\":\"top center\"},{\"hovertemplate\":\"Country=%{text}\\u003cbr\\u003e2020=%{x}\\u003cbr\\u003e2025=%{marker.size}\\u003cextra\\u003e\\u003c\\u002fextra\\u003e\",\"legendgroup\":\"Mauritania\",\"marker\":{\"color\":\"#636efa\",\"size\":[11470.0],\"sizemode\":\"area\",\"sizeref\":76268.0425,\"symbol\":\"circle\"},\"mode\":\"markers+text\",\"name\":\"Mauritania\",\"orientation\":\"v\",\"showlegend\":true,\"text\":[\"Mauritania\"],\"x\":[8464],\"xaxis\":\"x\",\"y\":[11470.0],\"yaxis\":\"y\",\"type\":\"scatter\",\"textposition\":\"top center\"},{\"hovertemplate\":\"Country=%{text}\\u003cbr\\u003e2020=%{x}\\u003cbr\\u003e2025=%{marker.size}\\u003cextra\\u003e\\u003c\\u002fextra\\u003e\",\"legendgroup\":\"Mauritius\",\"marker\":{\"color\":\"#EF553B\",\"size\":[15495.0],\"sizemode\":\"area\",\"sizeref\":76268.0425,\"symbol\":\"circle\"},\"mode\":\"markers+text\",\"name\":\"Mauritius\",\"orientation\":\"v\",\"showlegend\":true,\"text\":[\"Mauritius\"],\"x\":[11408],\"xaxis\":\"x\",\"y\":[15495.0],\"yaxis\":\"y\",\"type\":\"scatter\",\"textposition\":\"top center\"},{\"hovertemplate\":\"Country=%{text}\\u003cbr\\u003e2020=%{x}\\u003cbr\\u003e2025=%{marker.size}\\u003cextra\\u003e\\u003c\\u002fextra\\u003e\",\"legendgroup\":\"Mexico\",\"marker\":{\"color\":\"#00cc96\",\"size\":[1692640.0],\"sizemode\":\"area\",\"sizeref\":76268.0425,\"symbol\":\"circle\"},\"mode\":\"markers+text\",\"name\":\"Mexico\",\"orientation\":\"v\",\"showlegend\":true,\"text\":[\"Mexico\"],\"x\":[1121065],\"xaxis\":\"x\",\"y\":[1692640.0],\"yaxis\":\"y\",\"type\":\"scatter\",\"textposition\":\"top center\"},{\"hovertemplate\":\"Country=%{text}\\u003cbr\\u003e2020=%{x}\\u003cbr\\u003e2025=%{marker.size}\\u003cextra\\u003e\\u003c\\u002fextra\\u003e\",\"legendgroup\":\"Federated States of Micronesia\",\"marker\":{\"color\":\"#ab63fa\",\"size\":[500.0],\"sizemode\":\"area\",\"sizeref\":76268.0425,\"symbol\":\"circle\"},\"mode\":\"markers+text\",\"name\":\"Federated States of Micronesia\",\"orientation\":\"v\",\"showlegend\":true,\"text\":[\"Federated States of Micronesia\"],\"x\":[373],\"xaxis\":\"x\",\"y\":[500.0],\"yaxis\":\"y\",\"type\":\"scatter\",\"textposition\":\"top center\"},{\"hovertemplate\":\"Country=%{text}\\u003cbr\\u003e2020=%{x}\\u003cbr\\u003e2025=%{marker.size}\\u003cextra\\u003e\\u003c\\u002fextra\\u003e\",\"legendgroup\":\"Moldova\",\"marker\":{\"color\":\"#FFA15A\",\"size\":[19462.0],\"sizemode\":\"area\",\"sizeref\":76268.0425,\"symbol\":\"circle\"},\"mode\":\"markers+text\",\"name\":\"Moldova\",\"orientation\":\"v\",\"showlegend\":true,\"text\":[\"Moldova\"],\"x\":[11530],\"xaxis\":\"x\",\"y\":[19462.0],\"yaxis\":\"y\",\"type\":\"scatter\",\"textposition\":\"top center\"},{\"hovertemplate\":\"Country=%{text}\\u003cbr\\u003e2020=%{x}\\u003cbr\\u003e2025=%{marker.size}\\u003cextra\\u003e\\u003c\\u002fextra\\u003e\",\"legendgroup\":\"Mongolia\",\"marker\":{\"color\":\"#19d3f3\",\"size\":[25804.0],\"sizemode\":\"area\",\"sizeref\":76268.0425,\"symbol\":\"circle\"},\"mode\":\"markers+text\",\"name\":\"Mongolia\",\"orientation\":\"v\",\"showlegend\":true,\"text\":[\"Mongolia\"],\"x\":[13313],\"xaxis\":\"x\",\"y\":[25804.0],\"yaxis\":\"y\",\"type\":\"scatter\",\"textposition\":\"top center\"},{\"hovertemplate\":\"Country=%{text}\\u003cbr\\u003e2020=%{x}\\u003cbr\\u003e2025=%{marker.size}\\u003cextra\\u003e\\u003c\\u002fextra\\u003e\",\"legendgroup\":\"Montenegro\",\"marker\":{\"color\":\"#FF6692\",\"size\":[8562.0],\"sizemode\":\"area\",\"sizeref\":76268.0425,\"symbol\":\"circle\"},\"mode\":\"markers+text\",\"name\":\"Montenegro\",\"orientation\":\"v\",\"showlegend\":true,\"text\":[\"Montenegro\"],\"x\":[4777],\"xaxis\":\"x\",\"y\":[8562.0],\"yaxis\":\"y\",\"type\":\"scatter\",\"textposition\":\"top center\"},{\"hovertemplate\":\"Country=%{text}\\u003cbr\\u003e2020=%{x}\\u003cbr\\u003e2025=%{marker.size}\\u003cextra\\u003e\\u003c\\u002fextra\\u003e\",\"legendgroup\":\"Morocco\",\"marker\":{\"color\":\"#B6E880\",\"size\":[165835.0],\"sizemode\":\"area\",\"sizeref\":76268.0425,\"symbol\":\"circle\"},\"mode\":\"markers+text\",\"name\":\"Morocco\",\"orientation\":\"v\",\"showlegend\":true,\"text\":[\"Morocco\"],\"x\":[121354],\"xaxis\":\"x\",\"y\":[165835.0],\"yaxis\":\"y\",\"type\":\"scatter\",\"textposition\":\"top center\"},{\"hovertemplate\":\"Country=%{text}\\u003cbr\\u003e2020=%{x}\\u003cbr\\u003e2025=%{marker.size}\\u003cextra\\u003e\\u003c\\u002fextra\\u003e\",\"legendgroup\":\"Mozambique\",\"marker\":{\"color\":\"#FF97FF\",\"size\":[23771.0],\"sizemode\":\"area\",\"sizeref\":76268.0425,\"symbol\":\"circle\"},\"mode\":\"markers+text\",\"name\":\"Mozambique\",\"orientation\":\"v\",\"showlegend\":true,\"text\":[\"Mozambique\"],\"x\":[14235],\"xaxis\":\"x\",\"y\":[23771.0],\"yaxis\":\"y\",\"type\":\"scatter\",\"textposition\":\"top center\"},{\"hovertemplate\":\"Country=%{text}\\u003cbr\\u003e2020=%{x}\\u003cbr\\u003e2025=%{marker.size}\\u003cextra\\u003e\\u003c\\u002fextra\\u003e\",\"legendgroup\":\"Myanmar\",\"marker\":{\"color\":\"#FECB52\",\"size\":[64944.0],\"sizemode\":\"area\",\"sizeref\":76268.0425,\"symbol\":\"circle\"},\"mode\":\"markers+text\",\"name\":\"Myanmar\",\"orientation\":\"v\",\"showlegend\":true,\"text\":[\"Myanmar\"],\"x\":[65631],\"xaxis\":\"x\",\"y\":[64944.0],\"yaxis\":\"y\",\"type\":\"scatter\",\"textposition\":\"top center\"},{\"hovertemplate\":\"Country=%{text}\\u003cbr\\u003e2020=%{x}\\u003cbr\\u003e2025=%{marker.size}\\u003cextra\\u003e\\u003c\\u002fextra\\u003e\",\"legendgroup\":\"Namibia\",\"marker\":{\"color\":\"#636efa\",\"size\":[14214.0],\"sizemode\":\"area\",\"sizeref\":76268.0425,\"symbol\":\"circle\"},\"mode\":\"markers+text\",\"name\":\"Namibia\",\"orientation\":\"v\",\"showlegend\":true,\"text\":[\"Namibia\"],\"x\":[10583],\"xaxis\":\"x\",\"y\":[14214.0],\"yaxis\":\"y\",\"type\":\"scatter\",\"textposition\":\"top center\"},{\"hovertemplate\":\"Country=%{text}\\u003cbr\\u003e2020=%{x}\\u003cbr\\u003e2025=%{marker.size}\\u003cextra\\u003e\\u003c\\u002fextra\\u003e\",\"legendgroup\":\"Nauru\",\"marker\":{\"color\":\"#EF553B\",\"size\":[169.0],\"sizemode\":\"area\",\"sizeref\":76268.0425,\"symbol\":\"circle\"},\"mode\":\"markers+text\",\"name\":\"Nauru\",\"orientation\":\"v\",\"showlegend\":true,\"text\":[\"Nauru\"],\"x\":[125],\"xaxis\":\"x\",\"y\":[169.0],\"yaxis\":\"y\",\"type\":\"scatter\",\"textposition\":\"top center\"},{\"hovertemplate\":\"Country=%{text}\\u003cbr\\u003e2020=%{x}\\u003cbr\\u003e2025=%{marker.size}\\u003cextra\\u003e\\u003c\\u002fextra\\u003e\",\"legendgroup\":\"Nepal\",\"marker\":{\"color\":\"#00cc96\",\"size\":[46080.0],\"sizemode\":\"area\",\"sizeref\":76268.0425,\"symbol\":\"circle\"},\"mode\":\"markers+text\",\"name\":\"Nepal\",\"orientation\":\"v\",\"showlegend\":true,\"text\":[\"Nepal\"],\"x\":[33434],\"xaxis\":\"x\",\"y\":[46080.0],\"yaxis\":\"y\",\"type\":\"scatter\",\"textposition\":\"top center\"},{\"hovertemplate\":\"Country=%{text}\\u003cbr\\u003e2020=%{x}\\u003cbr\\u003e2025=%{marker.size}\\u003cextra\\u003e\\u003c\\u002fextra\\u003e\",\"legendgroup\":\"Netherlands\",\"marker\":{\"color\":\"#ab63fa\",\"size\":[1272011.0],\"sizemode\":\"area\",\"sizeref\":76268.0425,\"symbol\":\"circle\"},\"mode\":\"markers+text\",\"name\":\"Netherlands\",\"orientation\":\"v\",\"showlegend\":true,\"text\":[\"Netherlands\"],\"x\":[931814],\"xaxis\":\"x\",\"y\":[1272011.0],\"yaxis\":\"y\",\"type\":\"scatter\",\"textposition\":\"top center\"},{\"hovertemplate\":\"Country=%{text}\\u003cbr\\u003e2020=%{x}\\u003cbr\\u003e2025=%{marker.size}\\u003cextra\\u003e\\u003c\\u002fextra\\u003e\",\"legendgroup\":\"New Zealand\",\"marker\":{\"color\":\"#FFA15A\",\"size\":[248666.0],\"sizemode\":\"area\",\"sizeref\":76268.0425,\"symbol\":\"circle\"},\"mode\":\"markers+text\",\"name\":\"New Zealand\",\"orientation\":\"v\",\"showlegend\":true,\"text\":[\"New Zealand\"],\"x\":[210541],\"xaxis\":\"x\",\"y\":[248666.0],\"yaxis\":\"y\",\"type\":\"scatter\",\"textposition\":\"top center\"},{\"hovertemplate\":\"Country=%{text}\\u003cbr\\u003e2020=%{x}\\u003cbr\\u003e2025=%{marker.size}\\u003cextra\\u003e\\u003c\\u002fextra\\u003e\",\"legendgroup\":\"Nicaragua\",\"marker\":{\"color\":\"#19d3f3\",\"size\":[21155.0],\"sizemode\":\"area\",\"sizeref\":76268.0425,\"symbol\":\"circle\"},\"mode\":\"markers+text\",\"name\":\"Nicaragua\",\"orientation\":\"v\",\"showlegend\":true,\"text\":[\"Nicaragua\"],\"x\":[12730],\"xaxis\":\"x\",\"y\":[21155.0],\"yaxis\":\"y\",\"type\":\"scatter\",\"textposition\":\"top center\"},{\"hovertemplate\":\"Country=%{text}\\u003cbr\\u003e2020=%{x}\\u003cbr\\u003e2025=%{marker.size}\\u003cextra\\u003e\\u003c\\u002fextra\\u003e\",\"legendgroup\":\"Niger\",\"marker\":{\"color\":\"#FF6692\",\"size\":[21874.0],\"sizemode\":\"area\",\"sizeref\":76268.0425,\"symbol\":\"circle\"},\"mode\":\"markers+text\",\"name\":\"Niger\",\"orientation\":\"v\",\"showlegend\":true,\"text\":[\"Niger\"],\"x\":[13764],\"xaxis\":\"x\",\"y\":[21874.0],\"yaxis\":\"y\",\"type\":\"scatter\",\"textposition\":\"top center\"},{\"hovertemplate\":\"Country=%{text}\\u003cbr\\u003e2020=%{x}\\u003cbr\\u003e2025=%{marker.size}\\u003cextra\\u003e\\u003c\\u002fextra\\u003e\",\"legendgroup\":\"Nigeria\",\"marker\":{\"color\":\"#B6E880\",\"size\":[188271.0],\"sizemode\":\"area\",\"sizeref\":76268.0425,\"symbol\":\"circle\"},\"mode\":\"markers+text\",\"name\":\"Nigeria\",\"orientation\":\"v\",\"showlegend\":true,\"text\":[\"Nigeria\"],\"x\":[432299],\"xaxis\":\"x\",\"y\":[188271.0],\"yaxis\":\"y\",\"type\":\"scatter\",\"textposition\":\"top center\"},{\"hovertemplate\":\"Country=%{text}\\u003cbr\\u003e2020=%{x}\\u003cbr\\u003e2025=%{marker.size}\\u003cextra\\u003e\\u003c\\u002fextra\\u003e\",\"legendgroup\":\"North Macedonia\",\"marker\":{\"color\":\"#FF97FF\",\"size\":[17885.0],\"sizemode\":\"area\",\"sizeref\":76268.0425,\"symbol\":\"circle\"},\"mode\":\"markers+text\",\"name\":\"North Macedonia\",\"orientation\":\"v\",\"showlegend\":true,\"text\":[\"North Macedonia\"],\"x\":[12385],\"xaxis\":\"x\",\"y\":[17885.0],\"yaxis\":\"y\",\"type\":\"scatter\",\"textposition\":\"top center\"},{\"hovertemplate\":\"Country=%{text}\\u003cbr\\u003e2020=%{x}\\u003cbr\\u003e2025=%{marker.size}\\u003cextra\\u003e\\u003c\\u002fextra\\u003e\",\"legendgroup\":\"Norway\",\"marker\":{\"color\":\"#FECB52\",\"size\":[504276.0],\"sizemode\":\"area\",\"sizeref\":76268.0425,\"symbol\":\"circle\"},\"mode\":\"markers+text\",\"name\":\"Norway\",\"orientation\":\"v\",\"showlegend\":true,\"text\":[\"Norway\"],\"x\":[367633],\"xaxis\":\"x\",\"y\":[504276.0],\"yaxis\":\"y\",\"type\":\"scatter\",\"textposition\":\"top center\"},{\"hovertemplate\":\"Country=%{text}\\u003cbr\\u003e2020=%{x}\\u003cbr\\u003e2025=%{marker.size}\\u003cextra\\u003e\\u003c\\u002fextra\\u003e\",\"legendgroup\":\"Oman\",\"marker\":{\"color\":\"#636efa\",\"size\":[104351.0],\"sizemode\":\"area\",\"sizeref\":76268.0425,\"symbol\":\"circle\"},\"mode\":\"markers+text\",\"name\":\"Oman\",\"orientation\":\"v\",\"showlegend\":true,\"text\":[\"Oman\"],\"x\":[75909],\"xaxis\":\"x\",\"y\":[104351.0],\"yaxis\":\"y\",\"type\":\"scatter\",\"textposition\":\"top center\"},{\"hovertemplate\":\"Country=%{text}\\u003cbr\\u003e2020=%{x}\\u003cbr\\u003e2025=%{marker.size}\\u003cextra\\u003e\\u003c\\u002fextra\\u003e\",\"legendgroup\":\"Pakistan\",\"marker\":{\"color\":\"#EF553B\",\"size\":[599141.4497354497],\"sizemode\":\"area\",\"sizeref\":76268.0425,\"symbol\":\"circle\"},\"mode\":\"markers+text\",\"name\":\"Pakistan\",\"orientation\":\"v\",\"showlegend\":true,\"text\":[\"Pakistan\"],\"x\":[300410],\"xaxis\":\"x\",\"y\":[599141.4497354497],\"yaxis\":\"y\",\"type\":\"scatter\",\"textposition\":\"top center\"},{\"hovertemplate\":\"Country=%{text}\\u003cbr\\u003e2020=%{x}\\u003cbr\\u003e2025=%{marker.size}\\u003cextra\\u003e\\u003c\\u002fextra\\u003e\",\"legendgroup\":\"Palau\",\"marker\":{\"color\":\"#00cc96\",\"size\":[333.0],\"sizemode\":\"area\",\"sizeref\":76268.0425,\"symbol\":\"circle\"},\"mode\":\"markers+text\",\"name\":\"Palau\",\"orientation\":\"v\",\"showlegend\":true,\"text\":[\"Palau\"],\"x\":[259],\"xaxis\":\"x\",\"y\":[333.0],\"yaxis\":\"y\",\"type\":\"scatter\",\"textposition\":\"top center\"},{\"hovertemplate\":\"Country=%{text}\\u003cbr\\u003e2020=%{x}\\u003cbr\\u003e2025=%{marker.size}\\u003cextra\\u003e\\u003c\\u002fextra\\u003e\",\"legendgroup\":\"Panama\",\"marker\":{\"color\":\"#ab63fa\",\"size\":[91675.0],\"sizemode\":\"area\",\"sizeref\":76268.0425,\"symbol\":\"circle\"},\"mode\":\"markers+text\",\"name\":\"Panama\",\"orientation\":\"v\",\"showlegend\":true,\"text\":[\"Panama\"],\"x\":[57087],\"xaxis\":\"x\",\"y\":[91675.0],\"yaxis\":\"y\",\"type\":\"scatter\",\"textposition\":\"top center\"},{\"hovertemplate\":\"Country=%{text}\\u003cbr\\u003e2020=%{x}\\u003cbr\\u003e2025=%{marker.size}\\u003cextra\\u003e\\u003c\\u002fextra\\u003e\",\"legendgroup\":\"Papua New Guinea\",\"marker\":{\"color\":\"#FFA15A\",\"size\":[32835.0],\"sizemode\":\"area\",\"sizeref\":76268.0425,\"symbol\":\"circle\"},\"mode\":\"markers+text\",\"name\":\"Papua New Guinea\",\"orientation\":\"v\",\"showlegend\":true,\"text\":[\"Papua New Guinea\"],\"x\":[23848],\"xaxis\":\"x\",\"y\":[32835.0],\"yaxis\":\"y\",\"type\":\"scatter\",\"textposition\":\"top center\"},{\"hovertemplate\":\"Country=%{text}\\u003cbr\\u003e2020=%{x}\\u003cbr\\u003e2025=%{marker.size}\\u003cextra\\u003e\\u003c\\u002fextra\\u003e\",\"legendgroup\":\"Paraguay\",\"marker\":{\"color\":\"#19d3f3\",\"size\":[45465.0],\"sizemode\":\"area\",\"sizeref\":76268.0425,\"symbol\":\"circle\"},\"mode\":\"markers+text\",\"name\":\"Paraguay\",\"orientation\":\"v\",\"showlegend\":true,\"text\":[\"Paraguay\"],\"x\":[35432],\"xaxis\":\"x\",\"y\":[45465.0],\"yaxis\":\"y\",\"type\":\"scatter\",\"textposition\":\"top center\"},{\"hovertemplate\":\"Country=%{text}\\u003cbr\\u003e2020=%{x}\\u003cbr\\u003e2025=%{marker.size}\\u003cextra\\u003e\\u003c\\u002fextra\\u003e\",\"legendgroup\":\"Peru\",\"marker\":{\"color\":\"#FF6692\",\"size\":[303293.0],\"sizemode\":\"area\",\"sizeref\":76268.0425,\"symbol\":\"circle\"},\"mode\":\"markers+text\",\"name\":\"Peru\",\"orientation\":\"v\",\"showlegend\":true,\"text\":[\"Peru\"],\"x\":[206461],\"xaxis\":\"x\",\"y\":[303293.0],\"yaxis\":\"y\",\"type\":\"scatter\",\"textposition\":\"top center\"},{\"hovertemplate\":\"Country=%{text}\\u003cbr\\u003e2020=%{x}\\u003cbr\\u003e2025=%{marker.size}\\u003cextra\\u003e\\u003c\\u002fextra\\u003e\",\"legendgroup\":\"Philippines\",\"marker\":{\"color\":\"#B6E880\",\"size\":[497495.0],\"sizemode\":\"area\",\"sizeref\":76268.0425,\"symbol\":\"circle\"},\"mode\":\"markers+text\",\"name\":\"Philippines\",\"orientation\":\"v\",\"showlegend\":true,\"text\":[\"Philippines\"],\"x\":[361751],\"xaxis\":\"x\",\"y\":[497495.0],\"yaxis\":\"y\",\"type\":\"scatter\",\"textposition\":\"top center\"},{\"hovertemplate\":\"Country=%{text}\\u003cbr\\u003e2020=%{x}\\u003cbr\\u003e2025=%{marker.size}\\u003cextra\\u003e\\u003c\\u002fextra\\u003e\",\"legendgroup\":\"Poland\",\"marker\":{\"color\":\"#FF97FF\",\"size\":[979960.0],\"sizemode\":\"area\",\"sizeref\":76268.0425,\"symbol\":\"circle\"},\"mode\":\"markers+text\",\"name\":\"Poland\",\"orientation\":\"v\",\"showlegend\":true,\"text\":[\"Poland\"],\"x\":[605930],\"xaxis\":\"x\",\"y\":[979960.0],\"yaxis\":\"y\",\"type\":\"scatter\",\"textposition\":\"top center\"},{\"hovertemplate\":\"Country=%{text}\\u003cbr\\u003e2020=%{x}\\u003cbr\\u003e2025=%{marker.size}\\u003cextra\\u003e\\u003c\\u002fextra\\u003e\",\"legendgroup\":\"Portugal\",\"marker\":{\"color\":\"#FECB52\",\"size\":[321440.0],\"sizemode\":\"area\",\"sizeref\":76268.0425,\"symbol\":\"circle\"},\"mode\":\"markers+text\",\"name\":\"Portugal\",\"orientation\":\"v\",\"showlegend\":true,\"text\":[\"Portugal\"],\"x\":[229435],\"xaxis\":\"x\",\"y\":[321440.0],\"yaxis\":\"y\",\"type\":\"scatter\",\"textposition\":\"top center\"},{\"hovertemplate\":\"Country=%{text}\\u003cbr\\u003e2020=%{x}\\u003cbr\\u003e2025=%{marker.size}\\u003cextra\\u003e\\u003c\\u002fextra\\u003e\",\"legendgroup\":\"Puerto Rico\",\"marker\":{\"color\":\"#636efa\",\"size\":[122522.0],\"sizemode\":\"area\",\"sizeref\":76268.0425,\"symbol\":\"circle\"},\"mode\":\"markers+text\",\"name\":\"Puerto Rico\",\"orientation\":\"v\",\"showlegend\":true,\"text\":[\"Puerto Rico\"],\"x\":[103131],\"xaxis\":\"x\",\"y\":[122522.0],\"yaxis\":\"y\",\"type\":\"scatter\",\"textposition\":\"top center\"},{\"hovertemplate\":\"Country=%{text}\\u003cbr\\u003e2020=%{x}\\u003cbr\\u003e2025=%{marker.size}\\u003cextra\\u003e\\u003c\\u002fextra\\u003e\",\"legendgroup\":\"Qatar\",\"marker\":{\"color\":\"#EF553B\",\"size\":[222776.0],\"sizemode\":\"area\",\"sizeref\":76268.0425,\"symbol\":\"circle\"},\"mode\":\"markers+text\",\"name\":\"Qatar\",\"orientation\":\"v\",\"showlegend\":true,\"text\":[\"Qatar\"],\"x\":[144411],\"xaxis\":\"x\",\"y\":[222776.0],\"yaxis\":\"y\",\"type\":\"scatter\",\"textposition\":\"top center\"},{\"hovertemplate\":\"Country=%{text}\\u003cbr\\u003e2020=%{x}\\u003cbr\\u003e2025=%{marker.size}\\u003cextra\\u003e\\u003c\\u002fextra\\u003e\",\"legendgroup\":\"Romania\",\"marker\":{\"color\":\"#00cc96\",\"size\":[403395.0],\"sizemode\":\"area\",\"sizeref\":76268.0425,\"symbol\":\"circle\"},\"mode\":\"markers+text\",\"name\":\"Romania\",\"orientation\":\"v\",\"showlegend\":true,\"text\":[\"Romania\"],\"x\":[252372],\"xaxis\":\"x\",\"y\":[403395.0],\"yaxis\":\"y\",\"type\":\"scatter\",\"textposition\":\"top center\"},{\"hovertemplate\":\"Country=%{text}\\u003cbr\\u003e2020=%{x}\\u003cbr\\u003e2025=%{marker.size}\\u003cextra\\u003e\\u003c\\u002fextra\\u003e\",\"legendgroup\":\"Russia\",\"marker\":{\"color\":\"#ab63fa\",\"size\":[2076396.0],\"sizemode\":\"area\",\"sizeref\":76268.0425,\"symbol\":\"circle\"},\"mode\":\"markers+text\",\"name\":\"Russia\",\"orientation\":\"v\",\"showlegend\":true,\"text\":[\"Russia\"],\"x\":[1488118],\"xaxis\":\"x\",\"y\":[2076396.0],\"yaxis\":\"y\",\"type\":\"scatter\",\"textposition\":\"top center\"},{\"hovertemplate\":\"Country=%{text}\\u003cbr\\u003e2020=%{x}\\u003cbr\\u003e2025=%{marker.size}\\u003cextra\\u003e\\u003c\\u002fextra\\u003e\",\"legendgroup\":\"Rwanda\",\"marker\":{\"color\":\"#FFA15A\",\"size\":[14771.0],\"sizemode\":\"area\",\"sizeref\":76268.0425,\"symbol\":\"circle\"},\"mode\":\"markers+text\",\"name\":\"Rwanda\",\"orientation\":\"v\",\"showlegend\":true,\"text\":[\"Rwanda\"],\"x\":[10174],\"xaxis\":\"x\",\"y\":[14771.0],\"yaxis\":\"y\",\"type\":\"scatter\",\"textposition\":\"top center\"},{\"hovertemplate\":\"Country=%{text}\\u003cbr\\u003e2020=%{x}\\u003cbr\\u003e2025=%{marker.size}\\u003cextra\\u003e\\u003c\\u002fextra\\u003e\",\"legendgroup\":\"Samoa\",\"marker\":{\"color\":\"#19d3f3\",\"size\":[1160.0],\"sizemode\":\"area\",\"sizeref\":76268.0425,\"symbol\":\"circle\"},\"mode\":\"markers+text\",\"name\":\"Samoa\",\"orientation\":\"v\",\"showlegend\":true,\"text\":[\"Samoa\"],\"x\":[869],\"xaxis\":\"x\",\"y\":[1160.0],\"yaxis\":\"y\",\"type\":\"scatter\",\"textposition\":\"top center\"},{\"hovertemplate\":\"Country=%{text}\\u003cbr\\u003e2020=%{x}\\u003cbr\\u003e2025=%{marker.size}\\u003cextra\\u003e\\u003c\\u002fextra\\u003e\",\"legendgroup\":\"San Marino\",\"marker\":{\"color\":\"#FF6692\",\"size\":[2047.0],\"sizemode\":\"area\",\"sizeref\":76268.0425,\"symbol\":\"circle\"},\"mode\":\"markers+text\",\"name\":\"San Marino\",\"orientation\":\"v\",\"showlegend\":true,\"text\":[\"San Marino\"],\"x\":[1543],\"xaxis\":\"x\",\"y\":[2047.0],\"yaxis\":\"y\",\"type\":\"scatter\",\"textposition\":\"top center\"},{\"hovertemplate\":\"Country=%{text}\\u003cbr\\u003e2020=%{x}\\u003cbr\\u003e2025=%{marker.size}\\u003cextra\\u003e\\u003c\\u002fextra\\u003e\",\"legendgroup\":\"São Tomé and Príncipe\",\"marker\":{\"color\":\"#B6E880\",\"size\":[864.0],\"sizemode\":\"area\",\"sizeref\":76268.0425,\"symbol\":\"circle\"},\"mode\":\"markers+text\",\"name\":\"São Tomé and Príncipe\",\"orientation\":\"v\",\"showlegend\":true,\"text\":[\"São Tomé and Príncipe\"],\"x\":[476],\"xaxis\":\"x\",\"y\":[864.0],\"yaxis\":\"y\",\"type\":\"scatter\",\"textposition\":\"top center\"},{\"hovertemplate\":\"Country=%{text}\\u003cbr\\u003e2020=%{x}\\u003cbr\\u003e2025=%{marker.size}\\u003cextra\\u003e\\u003c\\u002fextra\\u003e\",\"legendgroup\":\"Saudi Arabia\",\"marker\":{\"color\":\"#FF97FF\",\"size\":[1083749.0],\"sizemode\":\"area\",\"sizeref\":76268.0425,\"symbol\":\"circle\"},\"mode\":\"markers+text\",\"name\":\"Saudi Arabia\",\"orientation\":\"v\",\"showlegend\":true,\"text\":[\"Saudi Arabia\"],\"x\":[734271],\"xaxis\":\"x\",\"y\":[1083749.0],\"yaxis\":\"y\",\"type\":\"scatter\",\"textposition\":\"top center\"},{\"hovertemplate\":\"Country=%{text}\\u003cbr\\u003e2020=%{x}\\u003cbr\\u003e2025=%{marker.size}\\u003cextra\\u003e\\u003c\\u002fextra\\u003e\",\"legendgroup\":\"Senegal\",\"marker\":{\"color\":\"#FECB52\",\"size\":[34728.0],\"sizemode\":\"area\",\"sizeref\":76268.0425,\"symbol\":\"circle\"},\"mode\":\"markers+text\",\"name\":\"Senegal\",\"orientation\":\"v\",\"showlegend\":true,\"text\":[\"Senegal\"],\"x\":[24534],\"xaxis\":\"x\",\"y\":[34728.0],\"yaxis\":\"y\",\"type\":\"scatter\",\"textposition\":\"top center\"},{\"hovertemplate\":\"Country=%{text}\\u003cbr\\u003e2020=%{x}\\u003cbr\\u003e2025=%{marker.size}\\u003cextra\\u003e\\u003c\\u002fextra\\u003e\",\"legendgroup\":\"Serbia\",\"marker\":{\"color\":\"#636efa\",\"size\":[92549.0],\"sizemode\":\"area\",\"sizeref\":76268.0425,\"symbol\":\"circle\"},\"mode\":\"markers+text\",\"name\":\"Serbia\",\"orientation\":\"v\",\"showlegend\":true,\"text\":[\"Serbia\"],\"x\":[55874],\"xaxis\":\"x\",\"y\":[92549.0],\"yaxis\":\"y\",\"type\":\"scatter\",\"textposition\":\"top center\"},{\"hovertemplate\":\"Country=%{text}\\u003cbr\\u003e2020=%{x}\\u003cbr\\u003e2025=%{marker.size}\\u003cextra\\u003e\\u003c\\u002fextra\\u003e\",\"legendgroup\":\"Seychelles\",\"marker\":{\"color\":\"#EF553B\",\"size\":[2198.0],\"sizemode\":\"area\",\"sizeref\":76268.0425,\"symbol\":\"circle\"},\"mode\":\"markers+text\",\"name\":\"Seychelles\",\"orientation\":\"v\",\"showlegend\":true,\"text\":[\"Seychelles\"],\"x\":[1384],\"xaxis\":\"x\",\"y\":[2198.0],\"yaxis\":\"y\",\"type\":\"scatter\",\"textposition\":\"top center\"},{\"hovertemplate\":\"Country=%{text}\\u003cbr\\u003e2020=%{x}\\u003cbr\\u003e2025=%{marker.size}\\u003cextra\\u003e\\u003c\\u002fextra\\u003e\",\"legendgroup\":\"Sierra Leone\",\"marker\":{\"color\":\"#00cc96\",\"size\":[8386.0],\"sizemode\":\"area\",\"sizeref\":76268.0425,\"symbol\":\"circle\"},\"mode\":\"markers+text\",\"name\":\"Sierra Leone\",\"orientation\":\"v\",\"showlegend\":true,\"text\":[\"Sierra Leone\"],\"x\":[6682],\"xaxis\":\"x\",\"y\":[8386.0],\"yaxis\":\"y\",\"type\":\"scatter\",\"textposition\":\"top center\"},{\"hovertemplate\":\"Country=%{text}\\u003cbr\\u003e2020=%{x}\\u003cbr\\u003e2025=%{marker.size}\\u003cextra\\u003e\\u003c\\u002fextra\\u003e\",\"legendgroup\":\"Singapore\",\"marker\":{\"color\":\"#ab63fa\",\"size\":[564774.0],\"sizemode\":\"area\",\"sizeref\":76268.0425,\"symbol\":\"circle\"},\"mode\":\"markers+text\",\"name\":\"Singapore\",\"orientation\":\"v\",\"showlegend\":true,\"text\":[\"Singapore\"],\"x\":[349166],\"xaxis\":\"x\",\"y\":[564774.0],\"yaxis\":\"y\",\"type\":\"scatter\",\"textposition\":\"top center\"},{\"hovertemplate\":\"Country=%{text}\\u003cbr\\u003e2020=%{x}\\u003cbr\\u003e2025=%{marker.size}\\u003cextra\\u003e\\u003c\\u002fextra\\u003e\",\"legendgroup\":\"Slovakia\",\"marker\":{\"color\":\"#FFA15A\",\"size\":[147031.0],\"sizemode\":\"area\",\"sizeref\":76268.0425,\"symbol\":\"circle\"},\"mode\":\"markers+text\",\"name\":\"Slovakia\",\"orientation\":\"v\",\"showlegend\":true,\"text\":[\"Slovakia\"],\"x\":[107646],\"xaxis\":\"x\",\"y\":[147031.0],\"yaxis\":\"y\",\"type\":\"scatter\",\"textposition\":\"top center\"},{\"hovertemplate\":\"Country=%{text}\\u003cbr\\u003e2020=%{x}\\u003cbr\\u003e2025=%{marker.size}\\u003cextra\\u003e\\u003c\\u002fextra\\u003e\",\"legendgroup\":\"Slovenia\",\"marker\":{\"color\":\"#19d3f3\",\"size\":[75224.0],\"sizemode\":\"area\",\"sizeref\":76268.0425,\"symbol\":\"circle\"},\"mode\":\"markers+text\",\"name\":\"Slovenia\",\"orientation\":\"v\",\"showlegend\":true,\"text\":[\"Slovenia\"],\"x\":[53342],\"xaxis\":\"x\",\"y\":[75224.0],\"yaxis\":\"y\",\"type\":\"scatter\",\"textposition\":\"top center\"},{\"hovertemplate\":\"Country=%{text}\\u003cbr\\u003e2020=%{x}\\u003cbr\\u003e2025=%{marker.size}\\u003cextra\\u003e\\u003c\\u002fextra\\u003e\",\"legendgroup\":\"Solomon Islands\",\"marker\":{\"color\":\"#FF6692\",\"size\":[1898.0],\"sizemode\":\"area\",\"sizeref\":76268.0425,\"symbol\":\"circle\"},\"mode\":\"markers+text\",\"name\":\"Solomon Islands\",\"orientation\":\"v\",\"showlegend\":true,\"text\":[\"Solomon Islands\"],\"x\":[1536],\"xaxis\":\"x\",\"y\":[1898.0],\"yaxis\":\"y\",\"type\":\"scatter\",\"textposition\":\"top center\"},{\"hovertemplate\":\"Country=%{text}\\u003cbr\\u003e2020=%{x}\\u003cbr\\u003e2025=%{marker.size}\\u003cextra\\u003e\\u003c\\u002fextra\\u003e\",\"legendgroup\":\"Somalia\",\"marker\":{\"color\":\"#B6E880\",\"size\":[12994.0],\"sizemode\":\"area\",\"sizeref\":76268.0425,\"symbol\":\"circle\"},\"mode\":\"markers+text\",\"name\":\"Somalia\",\"orientation\":\"v\",\"showlegend\":true,\"text\":[\"Somalia\"],\"x\":[8628],\"xaxis\":\"x\",\"y\":[12994.0],\"yaxis\":\"y\",\"type\":\"scatter\",\"textposition\":\"top center\"},{\"hovertemplate\":\"Country=%{text}\\u003cbr\\u003e2020=%{x}\\u003cbr\\u003e2025=%{marker.size}\\u003cextra\\u003e\\u003c\\u002fextra\\u003e\",\"legendgroup\":\"South Africa\",\"marker\":{\"color\":\"#FF97FF\",\"size\":[410338.0],\"sizemode\":\"area\",\"sizeref\":76268.0425,\"symbol\":\"circle\"},\"mode\":\"markers+text\",\"name\":\"South Africa\",\"orientation\":\"v\",\"showlegend\":true,\"text\":[\"South Africa\"],\"x\":[337876],\"xaxis\":\"x\",\"y\":[410338.0],\"yaxis\":\"y\",\"type\":\"scatter\",\"textposition\":\"top center\"},{\"hovertemplate\":\"Country=%{text}\\u003cbr\\u003e2020=%{x}\\u003cbr\\u003e2025=%{marker.size}\\u003cextra\\u003e\\u003c\\u002fextra\\u003e\",\"legendgroup\":\"South Sudan\",\"marker\":{\"color\":\"#FECB52\",\"size\":[3998.0],\"sizemode\":\"area\",\"sizeref\":76268.0425,\"symbol\":\"circle\"},\"mode\":\"markers+text\",\"name\":\"South Sudan\",\"orientation\":\"v\",\"showlegend\":true,\"text\":[\"South Sudan\"],\"x\":[5423],\"xaxis\":\"x\",\"y\":[3998.0],\"yaxis\":\"y\",\"type\":\"scatter\",\"textposition\":\"top center\"},{\"hovertemplate\":\"Country=%{text}\\u003cbr\\u003e2020=%{x}\\u003cbr\\u003e2025=%{marker.size}\\u003cextra\\u003e\\u003c\\u002fextra\\u003e\",\"legendgroup\":\"Spain\",\"marker\":{\"color\":\"#636efa\",\"size\":[1799511.0],\"sizemode\":\"area\",\"sizeref\":76268.0425,\"symbol\":\"circle\"},\"mode\":\"markers+text\",\"name\":\"Spain\",\"orientation\":\"v\",\"showlegend\":true,\"text\":[\"Spain\"],\"x\":[1288751],\"xaxis\":\"x\",\"y\":[1799511.0],\"yaxis\":\"y\",\"type\":\"scatter\",\"textposition\":\"top center\"},{\"hovertemplate\":\"Country=%{text}\\u003cbr\\u003e2020=%{x}\\u003cbr\\u003e2025=%{marker.size}\\u003cextra\\u003e\\u003c\\u002fextra\\u003e\",\"legendgroup\":\"Sri Lanka\",\"marker\":{\"color\":\"#EF553B\",\"size\":[599141.4497354497],\"sizemode\":\"area\",\"sizeref\":76268.0425,\"symbol\":\"circle\"},\"mode\":\"markers+text\",\"name\":\"Sri Lanka\",\"orientation\":\"v\",\"showlegend\":true,\"text\":[\"Sri Lanka\"],\"x\":[84304],\"xaxis\":\"x\",\"y\":[599141.4497354497],\"yaxis\":\"y\",\"type\":\"scatter\",\"textposition\":\"top center\"},{\"hovertemplate\":\"Country=%{text}\\u003cbr\\u003e2020=%{x}\\u003cbr\\u003e2025=%{marker.size}\\u003cextra\\u003e\\u003c\\u002fextra\\u003e\",\"legendgroup\":\"Saint Kitts and Nevis\",\"marker\":{\"color\":\"#00cc96\",\"size\":[1129.0],\"sizemode\":\"area\",\"sizeref\":76268.0425,\"symbol\":\"circle\"},\"mode\":\"markers+text\",\"name\":\"Saint Kitts and Nevis\",\"orientation\":\"v\",\"showlegend\":true,\"text\":[\"Saint Kitts and Nevis\"],\"x\":[884],\"xaxis\":\"x\",\"y\":[1129.0],\"yaxis\":\"y\",\"type\":\"scatter\",\"textposition\":\"top center\"},{\"hovertemplate\":\"Country=%{text}\\u003cbr\\u003e2020=%{x}\\u003cbr\\u003e2025=%{marker.size}\\u003cextra\\u003e\\u003c\\u002fextra\\u003e\",\"legendgroup\":\"Saint Lucia\",\"marker\":{\"color\":\"#ab63fa\",\"size\":[2632.0],\"sizemode\":\"area\",\"sizeref\":76268.0425,\"symbol\":\"circle\"},\"mode\":\"markers+text\",\"name\":\"Saint Lucia\",\"orientation\":\"v\",\"showlegend\":true,\"text\":[\"Saint Lucia\"],\"x\":[1499],\"xaxis\":\"x\",\"y\":[2632.0],\"yaxis\":\"y\",\"type\":\"scatter\",\"textposition\":\"top center\"},{\"hovertemplate\":\"Country=%{text}\\u003cbr\\u003e2020=%{x}\\u003cbr\\u003e2025=%{marker.size}\\u003cextra\\u003e\\u003c\\u002fextra\\u003e\",\"legendgroup\":\"Saint Vincent and the Grenadines\",\"marker\":{\"color\":\"#FFA15A\",\"size\":[1242.0],\"sizemode\":\"area\",\"sizeref\":76268.0425,\"symbol\":\"circle\"},\"mode\":\"markers+text\",\"name\":\"Saint Vincent and the Grenadines\",\"orientation\":\"v\",\"showlegend\":true,\"text\":[\"Saint Vincent and the Grenadines\"],\"x\":[864],\"xaxis\":\"x\",\"y\":[1242.0],\"yaxis\":\"y\",\"type\":\"scatter\",\"textposition\":\"top center\"},{\"hovertemplate\":\"Country=%{text}\\u003cbr\\u003e2020=%{x}\\u003cbr\\u003e2025=%{marker.size}\\u003cextra\\u003e\\u003c\\u002fextra\\u003e\",\"legendgroup\":\"Sudan\",\"marker\":{\"color\":\"#19d3f3\",\"size\":[31506.0],\"sizemode\":\"area\",\"sizeref\":76268.0425,\"symbol\":\"circle\"},\"mode\":\"markers+text\",\"name\":\"Sudan\",\"orientation\":\"v\",\"showlegend\":true,\"text\":[\"Sudan\"],\"x\":[35237],\"xaxis\":\"x\",\"y\":[31506.0],\"yaxis\":\"y\",\"type\":\"scatter\",\"textposition\":\"top center\"},{\"hovertemplate\":\"Country=%{text}\\u003cbr\\u003e2020=%{x}\\u003cbr\\u003e2025=%{marker.size}\\u003cextra\\u003e\\u003c\\u002fextra\\u003e\",\"legendgroup\":\"Suriname\",\"marker\":{\"color\":\"#FF6692\",\"size\":[4506.0],\"sizemode\":\"area\",\"sizeref\":76268.0425,\"symbol\":\"circle\"},\"mode\":\"markers+text\",\"name\":\"Suriname\",\"orientation\":\"v\",\"showlegend\":true,\"text\":[\"Suriname\"],\"x\":[2912],\"xaxis\":\"x\",\"y\":[4506.0],\"yaxis\":\"y\",\"type\":\"scatter\",\"textposition\":\"top center\"},{\"hovertemplate\":\"Country=%{text}\\u003cbr\\u003e2020=%{x}\\u003cbr\\u003e2025=%{marker.size}\\u003cextra\\u003e\\u003c\\u002fextra\\u003e\",\"legendgroup\":\"Sweden\",\"marker\":{\"color\":\"#B6E880\",\"size\":[620297.0],\"sizemode\":\"area\",\"sizeref\":76268.0425,\"symbol\":\"circle\"},\"mode\":\"markers+text\",\"name\":\"Sweden\",\"orientation\":\"v\",\"showlegend\":true,\"text\":[\"Sweden\"],\"x\":[545148],\"xaxis\":\"x\",\"y\":[620297.0],\"yaxis\":\"y\",\"type\":\"scatter\",\"textposition\":\"top center\"},{\"hovertemplate\":\"Country=%{text}\\u003cbr\\u003e2020=%{x}\\u003cbr\\u003e2025=%{marker.size}\\u003cextra\\u003e\\u003c\\u002fextra\\u003e\",\"legendgroup\":\"Switzerland\",\"marker\":{\"color\":\"#FF97FF\",\"size\":[947125.0],\"sizemode\":\"area\",\"sizeref\":76268.0425,\"symbol\":\"circle\"},\"mode\":\"markers+text\",\"name\":\"Switzerland\",\"orientation\":\"v\",\"showlegend\":true,\"text\":[\"Switzerland\"],\"x\":[741288],\"xaxis\":\"x\",\"y\":[947125.0],\"yaxis\":\"y\",\"type\":\"scatter\",\"textposition\":\"top center\"},{\"hovertemplate\":\"Country=%{text}\\u003cbr\\u003e2020=%{x}\\u003cbr\\u003e2025=%{marker.size}\\u003cextra\\u003e\\u003c\\u002fextra\\u003e\",\"legendgroup\":\"Syria\",\"marker\":{\"color\":\"#FECB52\",\"size\":[599141.4497354497],\"sizemode\":\"area\",\"sizeref\":76268.0425,\"symbol\":\"circle\"},\"mode\":\"markers+text\",\"name\":\"Syria\",\"orientation\":\"v\",\"showlegend\":true,\"text\":[\"Syria\"],\"x\":[60043],\"xaxis\":\"x\",\"y\":[599141.4497354497],\"yaxis\":\"y\",\"type\":\"scatter\",\"textposition\":\"top center\"},{\"hovertemplate\":\"Country=%{text}\\u003cbr\\u003e2020=%{x}\\u003cbr\\u003e2025=%{marker.size}\\u003cextra\\u003e\\u003c\\u002fextra\\u003e\",\"legendgroup\":\"Taiwan\",\"marker\":{\"color\":\"#636efa\",\"size\":[804889.0],\"sizemode\":\"area\",\"sizeref\":76268.0425,\"symbol\":\"circle\"},\"mode\":\"markers+text\",\"name\":\"Taiwan\",\"orientation\":\"v\",\"showlegend\":true,\"text\":[\"Taiwan\"],\"x\":[676861],\"xaxis\":\"x\",\"y\":[804889.0],\"yaxis\":\"y\",\"type\":\"scatter\",\"textposition\":\"top center\"},{\"hovertemplate\":\"Country=%{text}\\u003cbr\\u003e2020=%{x}\\u003cbr\\u003e2025=%{marker.size}\\u003cextra\\u003e\\u003c\\u002fextra\\u003e\",\"legendgroup\":\"Tajikistan\",\"marker\":{\"color\":\"#EF553B\",\"size\":[14836.0],\"sizemode\":\"area\",\"sizeref\":76268.0425,\"symbol\":\"circle\"},\"mode\":\"markers+text\",\"name\":\"Tajikistan\",\"orientation\":\"v\",\"showlegend\":true,\"text\":[\"Tajikistan\"],\"x\":[8134],\"xaxis\":\"x\",\"y\":[14836.0],\"yaxis\":\"y\",\"type\":\"scatter\",\"textposition\":\"top center\"},{\"hovertemplate\":\"Country=%{text}\\u003cbr\\u003e2020=%{x}\\u003cbr\\u003e2025=%{marker.size}\\u003cextra\\u003e\\u003c\\u002fextra\\u003e\",\"legendgroup\":\"Tanzania\",\"marker\":{\"color\":\"#00cc96\",\"size\":[85977.0],\"sizemode\":\"area\",\"sizeref\":76268.0425,\"symbol\":\"circle\"},\"mode\":\"markers+text\",\"name\":\"Tanzania\",\"orientation\":\"v\",\"showlegend\":true,\"text\":[\"Tanzania\"],\"x\":[63373],\"xaxis\":\"x\",\"y\":[85977.0],\"yaxis\":\"y\",\"type\":\"scatter\",\"textposition\":\"top center\"},{\"hovertemplate\":\"Country=%{text}\\u003cbr\\u003e2020=%{x}\\u003cbr\\u003e2025=%{marker.size}\\u003cextra\\u003e\\u003c\\u002fextra\\u003e\",\"legendgroup\":\"Thailand\",\"marker\":{\"color\":\"#ab63fa\",\"size\":[546224.0],\"sizemode\":\"area\",\"sizeref\":76268.0425,\"symbol\":\"circle\"},\"mode\":\"markers+text\",\"name\":\"Thailand\",\"orientation\":\"v\",\"showlegend\":true,\"text\":[\"Thailand\"],\"x\":[500462],\"xaxis\":\"x\",\"y\":[546224.0],\"yaxis\":\"y\",\"type\":\"scatter\",\"textposition\":\"top center\"},{\"hovertemplate\":\"Country=%{text}\\u003cbr\\u003e2020=%{x}\\u003cbr\\u003e2025=%{marker.size}\\u003cextra\\u003e\\u003c\\u002fextra\\u003e\",\"legendgroup\":\"Timor-Leste\",\"marker\":{\"color\":\"#FFA15A\",\"size\":[2115.0],\"sizemode\":\"area\",\"sizeref\":76268.0425,\"symbol\":\"circle\"},\"mode\":\"markers+text\",\"name\":\"Timor-Leste\",\"orientation\":\"v\",\"showlegend\":true,\"text\":[\"Timor-Leste\"],\"x\":[2163],\"xaxis\":\"x\",\"y\":[2115.0],\"yaxis\":\"y\",\"type\":\"scatter\",\"textposition\":\"top center\"},{\"hovertemplate\":\"Country=%{text}\\u003cbr\\u003e2020=%{x}\\u003cbr\\u003e2025=%{marker.size}\\u003cextra\\u003e\\u003c\\u002fextra\\u003e\",\"legendgroup\":\"Togo\",\"marker\":{\"color\":\"#19d3f3\",\"size\":[10023.0],\"sizemode\":\"area\",\"sizeref\":76268.0425,\"symbol\":\"circle\"},\"mode\":\"markers+text\",\"name\":\"Togo\",\"orientation\":\"v\",\"showlegend\":true,\"text\":[\"Togo\"],\"x\":[7400],\"xaxis\":\"x\",\"y\":[10023.0],\"yaxis\":\"y\",\"type\":\"scatter\",\"textposition\":\"top center\"},{\"hovertemplate\":\"Country=%{text}\\u003cbr\\u003e2020=%{x}\\u003cbr\\u003e2025=%{marker.size}\\u003cextra\\u003e\\u003c\\u002fextra\\u003e\",\"legendgroup\":\"Tonga\",\"marker\":{\"color\":\"#FF6692\",\"size\":[568.0],\"sizemode\":\"area\",\"sizeref\":76268.0425,\"symbol\":\"circle\"},\"mode\":\"markers+text\",\"name\":\"Tonga\",\"orientation\":\"v\",\"showlegend\":true,\"text\":[\"Tonga\"],\"x\":[503],\"xaxis\":\"x\",\"y\":[568.0],\"yaxis\":\"y\",\"type\":\"scatter\",\"textposition\":\"top center\"},{\"hovertemplate\":\"Country=%{text}\\u003cbr\\u003e2020=%{x}\\u003cbr\\u003e2025=%{marker.size}\\u003cextra\\u003e\\u003c\\u002fextra\\u003e\",\"legendgroup\":\"Trinidad and Tobago\",\"marker\":{\"color\":\"#B6E880\",\"size\":[26467.0],\"sizemode\":\"area\",\"sizeref\":76268.0425,\"symbol\":\"circle\"},\"mode\":\"markers+text\",\"name\":\"Trinidad and Tobago\",\"orientation\":\"v\",\"showlegend\":true,\"text\":[\"Trinidad and Tobago\"],\"x\":[20991],\"xaxis\":\"x\",\"y\":[26467.0],\"yaxis\":\"y\",\"type\":\"scatter\",\"textposition\":\"top center\"},{\"hovertemplate\":\"Country=%{text}\\u003cbr\\u003e2020=%{x}\\u003cbr\\u003e2025=%{marker.size}\\u003cextra\\u003e\\u003c\\u002fextra\\u003e\",\"legendgroup\":\"Tunisia\",\"marker\":{\"color\":\"#FF97FF\",\"size\":[56291.0],\"sizemode\":\"area\",\"sizeref\":76268.0425,\"symbol\":\"circle\"},\"mode\":\"markers+text\",\"name\":\"Tunisia\",\"orientation\":\"v\",\"showlegend\":true,\"text\":[\"Tunisia\"],\"x\":[42494],\"xaxis\":\"x\",\"y\":[56291.0],\"yaxis\":\"y\",\"type\":\"scatter\",\"textposition\":\"top center\"},{\"hovertemplate\":\"Country=%{text}\\u003cbr\\u003e2020=%{x}\\u003cbr\\u003e2025=%{marker.size}\\u003cextra\\u003e\\u003c\\u002fextra\\u003e\",\"legendgroup\":\"Turkey\",\"marker\":{\"color\":\"#FECB52\",\"size\":[1437406.0],\"sizemode\":\"area\",\"sizeref\":76268.0425,\"symbol\":\"circle\"},\"mode\":\"markers+text\",\"name\":\"Turkey\",\"orientation\":\"v\",\"showlegend\":true,\"text\":[\"Turkey\"],\"x\":[717114],\"xaxis\":\"x\",\"y\":[1437406.0],\"yaxis\":\"y\",\"type\":\"scatter\",\"textposition\":\"top center\"},{\"hovertemplate\":\"Country=%{text}\\u003cbr\\u003e2020=%{x}\\u003cbr\\u003e2025=%{marker.size}\\u003cextra\\u003e\\u003c\\u002fextra\\u003e\",\"legendgroup\":\"Turkmenistan\",\"marker\":{\"color\":\"#636efa\",\"size\":[89054.0],\"sizemode\":\"area\",\"sizeref\":76268.0425,\"symbol\":\"circle\"},\"mode\":\"markers+text\",\"name\":\"Turkmenistan\",\"orientation\":\"v\",\"showlegend\":true,\"text\":[\"Turkmenistan\"],\"x\":[52385],\"xaxis\":\"x\",\"y\":[89054.0],\"yaxis\":\"y\",\"type\":\"scatter\",\"textposition\":\"top center\"},{\"hovertemplate\":\"Country=%{text}\\u003cbr\\u003e2020=%{x}\\u003cbr\\u003e2025=%{marker.size}\\u003cextra\\u003e\\u003c\\u002fextra\\u003e\",\"legendgroup\":\"Tuvalu\",\"marker\":{\"color\":\"#EF553B\",\"size\":[65.0],\"sizemode\":\"area\",\"sizeref\":76268.0425,\"symbol\":\"circle\"},\"mode\":\"markers+text\",\"name\":\"Tuvalu\",\"orientation\":\"v\",\"showlegend\":true,\"text\":[\"Tuvalu\"],\"x\":[52],\"xaxis\":\"x\",\"y\":[65.0],\"yaxis\":\"y\",\"type\":\"scatter\",\"textposition\":\"top center\"},{\"hovertemplate\":\"Country=%{text}\\u003cbr\\u003e2020=%{x}\\u003cbr\\u003e2025=%{marker.size}\\u003cextra\\u003e\\u003c\\u002fextra\\u003e\",\"legendgroup\":\"Uganda\",\"marker\":{\"color\":\"#00cc96\",\"size\":[64277.0],\"sizemode\":\"area\",\"sizeref\":76268.0425,\"symbol\":\"circle\"},\"mode\":\"markers+text\",\"name\":\"Uganda\",\"orientation\":\"v\",\"showlegend\":true,\"text\":[\"Uganda\"],\"x\":[37889],\"xaxis\":\"x\",\"y\":[64277.0],\"yaxis\":\"y\",\"type\":\"scatter\",\"textposition\":\"top center\"},{\"hovertemplate\":\"Country=%{text}\\u003cbr\\u003e2020=%{x}\\u003cbr\\u003e2025=%{marker.size}\\u003cextra\\u003e\\u003c\\u002fextra\\u003e\",\"legendgroup\":\"Ukraine\",\"marker\":{\"color\":\"#ab63fa\",\"size\":[205742.0],\"sizemode\":\"area\",\"sizeref\":76268.0425,\"symbol\":\"circle\"},\"mode\":\"markers+text\",\"name\":\"Ukraine\",\"orientation\":\"v\",\"showlegend\":true,\"text\":[\"Ukraine\"],\"x\":[156566],\"xaxis\":\"x\",\"y\":[205742.0],\"yaxis\":\"y\",\"type\":\"scatter\",\"textposition\":\"top center\"},{\"hovertemplate\":\"Country=%{text}\\u003cbr\\u003e2020=%{x}\\u003cbr\\u003e2025=%{marker.size}\\u003cextra\\u003e\\u003c\\u002fextra\\u003e\",\"legendgroup\":\"United Arab Emirates\",\"marker\":{\"color\":\"#FFA15A\",\"size\":[548598.0],\"sizemode\":\"area\",\"sizeref\":76268.0425,\"symbol\":\"circle\"},\"mode\":\"markers+text\",\"name\":\"United Arab Emirates\",\"orientation\":\"v\",\"showlegend\":true,\"text\":[\"United Arab Emirates\"],\"x\":[349473],\"xaxis\":\"x\",\"y\":[548598.0],\"yaxis\":\"y\",\"type\":\"scatter\",\"textposition\":\"top center\"},{\"hovertemplate\":\"Country=%{text}\\u003cbr\\u003e2020=%{x}\\u003cbr\\u003e2025=%{marker.size}\\u003cextra\\u003e\\u003c\\u002fextra\\u003e\",\"legendgroup\":\"United Kingdom\",\"marker\":{\"color\":\"#19d3f3\",\"size\":[3839180.0],\"sizemode\":\"area\",\"sizeref\":76268.0425,\"symbol\":\"circle\"},\"mode\":\"markers+text\",\"name\":\"United Kingdom\",\"orientation\":\"v\",\"showlegend\":true,\"text\":[\"United Kingdom\"],\"x\":[2698705],\"xaxis\":\"x\",\"y\":[3839180.0],\"yaxis\":\"y\",\"type\":\"scatter\",\"textposition\":\"top center\"},{\"hovertemplate\":\"Country=%{text}\\u003cbr\\u003e2020=%{x}\\u003cbr\\u003e2025=%{marker.size}\\u003cextra\\u003e\\u003c\\u002fextra\\u003e\",\"legendgroup\":\"United States\",\"marker\":{\"color\":\"#FF6692\",\"size\":[30507217.0],\"sizemode\":\"area\",\"sizeref\":76268.0425,\"symbol\":\"circle\"},\"mode\":\"markers+text\",\"name\":\"United States\",\"orientation\":\"v\",\"showlegend\":true,\"text\":[\"United States\"],\"x\":[21354125],\"xaxis\":\"x\",\"y\":[30507217.0],\"yaxis\":\"y\",\"type\":\"scatter\",\"textposition\":\"top center\"},{\"hovertemplate\":\"Country=%{text}\\u003cbr\\u003e2020=%{x}\\u003cbr\\u003e2025=%{marker.size}\\u003cextra\\u003e\\u003c\\u002fextra\\u003e\",\"legendgroup\":\"Uruguay\",\"marker\":{\"color\":\"#B6E880\",\"size\":[79731.0],\"sizemode\":\"area\",\"sizeref\":76268.0425,\"symbol\":\"circle\"},\"mode\":\"markers+text\",\"name\":\"Uruguay\",\"orientation\":\"v\",\"showlegend\":true,\"text\":[\"Uruguay\"],\"x\":[53557],\"xaxis\":\"x\",\"y\":[79731.0],\"yaxis\":\"y\",\"type\":\"scatter\",\"textposition\":\"top center\"},{\"hovertemplate\":\"Country=%{text}\\u003cbr\\u003e2020=%{x}\\u003cbr\\u003e2025=%{marker.size}\\u003cextra\\u003e\\u003c\\u002fextra\\u003e\",\"legendgroup\":\"Uzbekistan\",\"marker\":{\"color\":\"#FF97FF\",\"size\":[132484.0],\"sizemode\":\"area\",\"sizeref\":76268.0425,\"symbol\":\"circle\"},\"mode\":\"markers+text\",\"name\":\"Uzbekistan\",\"orientation\":\"v\",\"showlegend\":true,\"text\":[\"Uzbekistan\"],\"x\":[66443],\"xaxis\":\"x\",\"y\":[132484.0],\"yaxis\":\"y\",\"type\":\"scatter\",\"textposition\":\"top center\"},{\"hovertemplate\":\"Country=%{text}\\u003cbr\\u003e2020=%{x}\\u003cbr\\u003e2025=%{marker.size}\\u003cextra\\u003e\\u003c\\u002fextra\\u003e\",\"legendgroup\":\"Vanuatu\",\"marker\":{\"color\":\"#FECB52\",\"size\":[1267.0],\"sizemode\":\"area\",\"sizeref\":76268.0425,\"symbol\":\"circle\"},\"mode\":\"markers+text\",\"name\":\"Vanuatu\",\"orientation\":\"v\",\"showlegend\":true,\"text\":[\"Vanuatu\"],\"x\":[1008],\"xaxis\":\"x\",\"y\":[1267.0],\"yaxis\":\"y\",\"type\":\"scatter\",\"textposition\":\"top center\"},{\"hovertemplate\":\"Country=%{text}\\u003cbr\\u003e2020=%{x}\\u003cbr\\u003e2025=%{marker.size}\\u003cextra\\u003e\\u003c\\u002fextra\\u003e\",\"legendgroup\":\"Venezuela\",\"marker\":{\"color\":\"#636efa\",\"size\":[108511.0],\"sizemode\":\"area\",\"sizeref\":76268.0425,\"symbol\":\"circle\"},\"mode\":\"markers+text\",\"name\":\"Venezuela\",\"orientation\":\"v\",\"showlegend\":true,\"text\":[\"Venezuela\"],\"x\":[42838],\"xaxis\":\"x\",\"y\":[108511.0],\"yaxis\":\"y\",\"type\":\"scatter\",\"textposition\":\"top center\"},{\"hovertemplate\":\"Country=%{text}\\u003cbr\\u003e2020=%{x}\\u003cbr\\u003e2025=%{marker.size}\\u003cextra\\u003e\\u003c\\u002fextra\\u003e\",\"legendgroup\":\"Vietnam\",\"marker\":{\"color\":\"#EF553B\",\"size\":[490970.0],\"sizemode\":\"area\",\"sizeref\":76268.0425,\"symbol\":\"circle\"},\"mode\":\"markers+text\",\"name\":\"Vietnam\",\"orientation\":\"v\",\"showlegend\":true,\"text\":[\"Vietnam\"],\"x\":[346310],\"xaxis\":\"x\",\"y\":[490970.0],\"yaxis\":\"y\",\"type\":\"scatter\",\"textposition\":\"top center\"},{\"hovertemplate\":\"Country=%{text}\\u003cbr\\u003e2020=%{x}\\u003cbr\\u003e2025=%{marker.size}\\u003cextra\\u003e\\u003c\\u002fextra\\u003e\",\"legendgroup\":\"Palestine\",\"marker\":{\"color\":\"#00cc96\",\"size\":[599141.4497354497],\"sizemode\":\"area\",\"sizeref\":76268.0425,\"symbol\":\"circle\"},\"mode\":\"markers+text\",\"name\":\"Palestine\",\"orientation\":\"v\",\"showlegend\":true,\"text\":[\"Palestine\"],\"x\":[15532],\"xaxis\":\"x\",\"y\":[599141.4497354497],\"yaxis\":\"y\",\"type\":\"scatter\",\"textposition\":\"top center\"},{\"hovertemplate\":\"Country=%{text}\\u003cbr\\u003e2020=%{x}\\u003cbr\\u003e2025=%{marker.size}\\u003cextra\\u003e\\u003c\\u002fextra\\u003e\",\"legendgroup\":\"Yemen\",\"marker\":{\"color\":\"#ab63fa\",\"size\":[17401.0],\"sizemode\":\"area\",\"sizeref\":76268.0425,\"symbol\":\"circle\"},\"mode\":\"markers+text\",\"name\":\"Yemen\",\"orientation\":\"v\",\"showlegend\":true,\"text\":[\"Yemen\"],\"x\":[20220],\"xaxis\":\"x\",\"y\":[17401.0],\"yaxis\":\"y\",\"type\":\"scatter\",\"textposition\":\"top center\"},{\"hovertemplate\":\"Country=%{text}\\u003cbr\\u003e2020=%{x}\\u003cbr\\u003e2025=%{marker.size}\\u003cextra\\u003e\\u003c\\u002fextra\\u003e\",\"legendgroup\":\"Zambia\",\"marker\":{\"color\":\"#FFA15A\",\"size\":[28910.0],\"sizemode\":\"area\",\"sizeref\":76268.0425,\"symbol\":\"circle\"},\"mode\":\"markers+text\",\"name\":\"Zambia\",\"orientation\":\"v\",\"showlegend\":true,\"text\":[\"Zambia\"],\"x\":[18138],\"xaxis\":\"x\",\"y\":[28910.0],\"yaxis\":\"y\",\"type\":\"scatter\",\"textposition\":\"top center\"},{\"hovertemplate\":\"Country=%{text}\\u003cbr\\u003e2020=%{x}\\u003cbr\\u003e2025=%{marker.size}\\u003cextra\\u003e\\u003c\\u002fextra\\u003e\",\"legendgroup\":\"Zimbabwe\",\"marker\":{\"color\":\"#19d3f3\",\"size\":[38172.0],\"sizemode\":\"area\",\"sizeref\":76268.0425,\"symbol\":\"circle\"},\"mode\":\"markers+text\",\"name\":\"Zimbabwe\",\"orientation\":\"v\",\"showlegend\":true,\"text\":[\"Zimbabwe\"],\"x\":[26878],\"xaxis\":\"x\",\"y\":[38172.0],\"yaxis\":\"y\",\"type\":\"scatter\",\"textposition\":\"top center\"}],                        {\"template\":{\"data\":{\"histogram2dcontour\":[{\"type\":\"histogram2dcontour\",\"colorbar\":{\"outlinewidth\":0,\"ticks\":\"\"},\"colorscale\":[[0.0,\"#0d0887\"],[0.1111111111111111,\"#46039f\"],[0.2222222222222222,\"#7201a8\"],[0.3333333333333333,\"#9c179e\"],[0.4444444444444444,\"#bd3786\"],[0.5555555555555556,\"#d8576b\"],[0.6666666666666666,\"#ed7953\"],[0.7777777777777778,\"#fb9f3a\"],[0.8888888888888888,\"#fdca26\"],[1.0,\"#f0f921\"]]}],\"choropleth\":[{\"type\":\"choropleth\",\"colorbar\":{\"outlinewidth\":0,\"ticks\":\"\"}}],\"histogram2d\":[{\"type\":\"histogram2d\",\"colorbar\":{\"outlinewidth\":0,\"ticks\":\"\"},\"colorscale\":[[0.0,\"#0d0887\"],[0.1111111111111111,\"#46039f\"],[0.2222222222222222,\"#7201a8\"],[0.3333333333333333,\"#9c179e\"],[0.4444444444444444,\"#bd3786\"],[0.5555555555555556,\"#d8576b\"],[0.6666666666666666,\"#ed7953\"],[0.7777777777777778,\"#fb9f3a\"],[0.8888888888888888,\"#fdca26\"],[1.0,\"#f0f921\"]]}],\"heatmap\":[{\"type\":\"heatmap\",\"colorbar\":{\"outlinewidth\":0,\"ticks\":\"\"},\"colorscale\":[[0.0,\"#0d0887\"],[0.1111111111111111,\"#46039f\"],[0.2222222222222222,\"#7201a8\"],[0.3333333333333333,\"#9c179e\"],[0.4444444444444444,\"#bd3786\"],[0.5555555555555556,\"#d8576b\"],[0.6666666666666666,\"#ed7953\"],[0.7777777777777778,\"#fb9f3a\"],[0.8888888888888888,\"#fdca26\"],[1.0,\"#f0f921\"]]}],\"heatmapgl\":[{\"type\":\"heatmapgl\",\"colorbar\":{\"outlinewidth\":0,\"ticks\":\"\"},\"colorscale\":[[0.0,\"#0d0887\"],[0.1111111111111111,\"#46039f\"],[0.2222222222222222,\"#7201a8\"],[0.3333333333333333,\"#9c179e\"],[0.4444444444444444,\"#bd3786\"],[0.5555555555555556,\"#d8576b\"],[0.6666666666666666,\"#ed7953\"],[0.7777777777777778,\"#fb9f3a\"],[0.8888888888888888,\"#fdca26\"],[1.0,\"#f0f921\"]]}],\"contourcarpet\":[{\"type\":\"contourcarpet\",\"colorbar\":{\"outlinewidth\":0,\"ticks\":\"\"}}],\"contour\":[{\"type\":\"contour\",\"colorbar\":{\"outlinewidth\":0,\"ticks\":\"\"},\"colorscale\":[[0.0,\"#0d0887\"],[0.1111111111111111,\"#46039f\"],[0.2222222222222222,\"#7201a8\"],[0.3333333333333333,\"#9c179e\"],[0.4444444444444444,\"#bd3786\"],[0.5555555555555556,\"#d8576b\"],[0.6666666666666666,\"#ed7953\"],[0.7777777777777778,\"#fb9f3a\"],[0.8888888888888888,\"#fdca26\"],[1.0,\"#f0f921\"]]}],\"surface\":[{\"type\":\"surface\",\"colorbar\":{\"outlinewidth\":0,\"ticks\":\"\"},\"colorscale\":[[0.0,\"#0d0887\"],[0.1111111111111111,\"#46039f\"],[0.2222222222222222,\"#7201a8\"],[0.3333333333333333,\"#9c179e\"],[0.4444444444444444,\"#bd3786\"],[0.5555555555555556,\"#d8576b\"],[0.6666666666666666,\"#ed7953\"],[0.7777777777777778,\"#fb9f3a\"],[0.8888888888888888,\"#fdca26\"],[1.0,\"#f0f921\"]]}],\"mesh3d\":[{\"type\":\"mesh3d\",\"colorbar\":{\"outlinewidth\":0,\"ticks\":\"\"}}],\"scatter\":[{\"fillpattern\":{\"fillmode\":\"overlay\",\"size\":10,\"solidity\":0.2},\"type\":\"scatter\"}],\"parcoords\":[{\"type\":\"parcoords\",\"line\":{\"colorbar\":{\"outlinewidth\":0,\"ticks\":\"\"}}}],\"scatterpolargl\":[{\"type\":\"scatterpolargl\",\"marker\":{\"colorbar\":{\"outlinewidth\":0,\"ticks\":\"\"}}}],\"bar\":[{\"error_x\":{\"color\":\"#2a3f5f\"},\"error_y\":{\"color\":\"#2a3f5f\"},\"marker\":{\"line\":{\"color\":\"#E5ECF6\",\"width\":0.5},\"pattern\":{\"fillmode\":\"overlay\",\"size\":10,\"solidity\":0.2}},\"type\":\"bar\"}],\"scattergeo\":[{\"type\":\"scattergeo\",\"marker\":{\"colorbar\":{\"outlinewidth\":0,\"ticks\":\"\"}}}],\"scatterpolar\":[{\"type\":\"scatterpolar\",\"marker\":{\"colorbar\":{\"outlinewidth\":0,\"ticks\":\"\"}}}],\"histogram\":[{\"marker\":{\"pattern\":{\"fillmode\":\"overlay\",\"size\":10,\"solidity\":0.2}},\"type\":\"histogram\"}],\"scattergl\":[{\"type\":\"scattergl\",\"marker\":{\"colorbar\":{\"outlinewidth\":0,\"ticks\":\"\"}}}],\"scatter3d\":[{\"type\":\"scatter3d\",\"line\":{\"colorbar\":{\"outlinewidth\":0,\"ticks\":\"\"}},\"marker\":{\"colorbar\":{\"outlinewidth\":0,\"ticks\":\"\"}}}],\"scattermapbox\":[{\"type\":\"scattermapbox\",\"marker\":{\"colorbar\":{\"outlinewidth\":0,\"ticks\":\"\"}}}],\"scatterternary\":[{\"type\":\"scatterternary\",\"marker\":{\"colorbar\":{\"outlinewidth\":0,\"ticks\":\"\"}}}],\"scattercarpet\":[{\"type\":\"scattercarpet\",\"marker\":{\"colorbar\":{\"outlinewidth\":0,\"ticks\":\"\"}}}],\"carpet\":[{\"aaxis\":{\"endlinecolor\":\"#2a3f5f\",\"gridcolor\":\"white\",\"linecolor\":\"white\",\"minorgridcolor\":\"white\",\"startlinecolor\":\"#2a3f5f\"},\"baxis\":{\"endlinecolor\":\"#2a3f5f\",\"gridcolor\":\"white\",\"linecolor\":\"white\",\"minorgridcolor\":\"white\",\"startlinecolor\":\"#2a3f5f\"},\"type\":\"carpet\"}],\"table\":[{\"cells\":{\"fill\":{\"color\":\"#EBF0F8\"},\"line\":{\"color\":\"white\"}},\"header\":{\"fill\":{\"color\":\"#C8D4E3\"},\"line\":{\"color\":\"white\"}},\"type\":\"table\"}],\"barpolar\":[{\"marker\":{\"line\":{\"color\":\"#E5ECF6\",\"width\":0.5},\"pattern\":{\"fillmode\":\"overlay\",\"size\":10,\"solidity\":0.2}},\"type\":\"barpolar\"}],\"pie\":[{\"automargin\":true,\"type\":\"pie\"}]},\"layout\":{\"autotypenumbers\":\"strict\",\"colorway\":[\"#636efa\",\"#EF553B\",\"#00cc96\",\"#ab63fa\",\"#FFA15A\",\"#19d3f3\",\"#FF6692\",\"#B6E880\",\"#FF97FF\",\"#FECB52\"],\"font\":{\"color\":\"#2a3f5f\"},\"hovermode\":\"closest\",\"hoverlabel\":{\"align\":\"left\"},\"paper_bgcolor\":\"white\",\"plot_bgcolor\":\"#E5ECF6\",\"polar\":{\"bgcolor\":\"#E5ECF6\",\"angularaxis\":{\"gridcolor\":\"white\",\"linecolor\":\"white\",\"ticks\":\"\"},\"radialaxis\":{\"gridcolor\":\"white\",\"linecolor\":\"white\",\"ticks\":\"\"}},\"ternary\":{\"bgcolor\":\"#E5ECF6\",\"aaxis\":{\"gridcolor\":\"white\",\"linecolor\":\"white\",\"ticks\":\"\"},\"baxis\":{\"gridcolor\":\"white\",\"linecolor\":\"white\",\"ticks\":\"\"},\"caxis\":{\"gridcolor\":\"white\",\"linecolor\":\"white\",\"ticks\":\"\"}},\"coloraxis\":{\"colorbar\":{\"outlinewidth\":0,\"ticks\":\"\"}},\"colorscale\":{\"sequential\":[[0.0,\"#0d0887\"],[0.1111111111111111,\"#46039f\"],[0.2222222222222222,\"#7201a8\"],[0.3333333333333333,\"#9c179e\"],[0.4444444444444444,\"#bd3786\"],[0.5555555555555556,\"#d8576b\"],[0.6666666666666666,\"#ed7953\"],[0.7777777777777778,\"#fb9f3a\"],[0.8888888888888888,\"#fdca26\"],[1.0,\"#f0f921\"]],\"sequentialminus\":[[0.0,\"#0d0887\"],[0.1111111111111111,\"#46039f\"],[0.2222222222222222,\"#7201a8\"],[0.3333333333333333,\"#9c179e\"],[0.4444444444444444,\"#bd3786\"],[0.5555555555555556,\"#d8576b\"],[0.6666666666666666,\"#ed7953\"],[0.7777777777777778,\"#fb9f3a\"],[0.8888888888888888,\"#fdca26\"],[1.0,\"#f0f921\"]],\"diverging\":[[0,\"#8e0152\"],[0.1,\"#c51b7d\"],[0.2,\"#de77ae\"],[0.3,\"#f1b6da\"],[0.4,\"#fde0ef\"],[0.5,\"#f7f7f7\"],[0.6,\"#e6f5d0\"],[0.7,\"#b8e186\"],[0.8,\"#7fbc41\"],[0.9,\"#4d9221\"],[1,\"#276419\"]]},\"xaxis\":{\"gridcolor\":\"white\",\"linecolor\":\"white\",\"ticks\":\"\",\"title\":{\"standoff\":15},\"zerolinecolor\":\"white\",\"automargin\":true,\"zerolinewidth\":2},\"yaxis\":{\"gridcolor\":\"white\",\"linecolor\":\"white\",\"ticks\":\"\",\"title\":{\"standoff\":15},\"zerolinecolor\":\"white\",\"automargin\":true,\"zerolinewidth\":2},\"scene\":{\"xaxis\":{\"backgroundcolor\":\"#E5ECF6\",\"gridcolor\":\"white\",\"linecolor\":\"white\",\"showbackground\":true,\"ticks\":\"\",\"zerolinecolor\":\"white\",\"gridwidth\":2},\"yaxis\":{\"backgroundcolor\":\"#E5ECF6\",\"gridcolor\":\"white\",\"linecolor\":\"white\",\"showbackground\":true,\"ticks\":\"\",\"zerolinecolor\":\"white\",\"gridwidth\":2},\"zaxis\":{\"backgroundcolor\":\"#E5ECF6\",\"gridcolor\":\"white\",\"linecolor\":\"white\",\"showbackground\":true,\"ticks\":\"\",\"zerolinecolor\":\"white\",\"gridwidth\":2}},\"shapedefaults\":{\"line\":{\"color\":\"#2a3f5f\"}},\"annotationdefaults\":{\"arrowcolor\":\"#2a3f5f\",\"arrowhead\":0,\"arrowwidth\":1},\"geo\":{\"bgcolor\":\"white\",\"landcolor\":\"#E5ECF6\",\"subunitcolor\":\"white\",\"showland\":true,\"showlakes\":true,\"lakecolor\":\"white\"},\"title\":{\"x\":0.05},\"mapbox\":{\"style\":\"light\"}}},\"xaxis\":{\"anchor\":\"y\",\"domain\":[0.0,1.0],\"title\":{\"text\":\"2020\"}},\"yaxis\":{\"anchor\":\"x\",\"domain\":[0.0,1.0],\"title\":{\"text\":\"2025\"}},\"legend\":{\"title\":{\"text\":\"Country\"},\"tracegroupgap\":0,\"itemsizing\":\"constant\"},\"title\":{\"text\":\"GDP: 2020 vs 2025 Growth\"}},                        {\"responsive\": true}                    ).then(function(){\n",
       "                            \n",
       "var gd = document.getElementById('9cc7686b-85b1-49d9-b48b-6abcb70dbc57');\n",
       "var x = new MutationObserver(function (mutations, observer) {{\n",
       "        var display = window.getComputedStyle(gd).display;\n",
       "        if (!display || display === 'none') {{\n",
       "            console.log([gd, 'removed!']);\n",
       "            Plotly.purge(gd);\n",
       "            observer.disconnect();\n",
       "        }}\n",
       "}});\n",
       "\n",
       "// Listen for the removal of the full notebook cells\n",
       "var notebookContainer = gd.closest('#notebook-container');\n",
       "if (notebookContainer) {{\n",
       "    x.observe(notebookContainer, {childList: true});\n",
       "}}\n",
       "\n",
       "// Listen for the clearing of the current output cell\n",
       "var outputEl = gd.closest('.output');\n",
       "if (outputEl) {{\n",
       "    x.observe(outputEl, {childList: true});\n",
       "}}\n",
       "\n",
       "                        })                };                            </script>        </div>\n",
       "</body>\n",
       "</html>"
      ]
     },
     "metadata": {},
     "output_type": "display_data"
    }
   ],
   "source": [
    "#  Scatter Plot – 2020 vs 2025\n",
    "fig_scatter = px.scatter(df, x='2020', y='2025', text='Country',\n",
    "                         size='2025', color='Country',\n",
    "                         title='GDP: 2020 vs 2025 Growth')\n",
    "fig_scatter.update_traces(textposition='top center')\n",
    "fig_scatter.show()"
   ]
  },
  {
   "cell_type": "code",
   "execution_count": 15,
   "id": "7edc8e59",
   "metadata": {
    "execution": {
     "iopub.execute_input": "2025-09-19T14:29:59.021541Z",
     "iopub.status.busy": "2025-09-19T14:29:59.021225Z",
     "iopub.status.idle": "2025-09-19T14:29:59.086457Z",
     "shell.execute_reply": "2025-09-19T14:29:59.085700Z"
    },
    "papermill": {
     "duration": 0.078869,
     "end_time": "2025-09-19T14:29:59.087777",
     "exception": false,
     "start_time": "2025-09-19T14:29:59.008908",
     "status": "completed"
    },
    "tags": []
   },
   "outputs": [
    {
     "data": {
      "text/html": [
       "<html>\n",
       "<head><meta charset=\"utf-8\" /></head>\n",
       "<body>\n",
       "    <div>            <script src=\"https://cdnjs.cloudflare.com/ajax/libs/mathjax/2.7.5/MathJax.js?config=TeX-AMS-MML_SVG\"></script><script type=\"text/javascript\">if (window.MathJax && window.MathJax.Hub && window.MathJax.Hub.Config) {window.MathJax.Hub.Config({SVG: {font: \"STIX-Web\"}});}</script>                <script type=\"text/javascript\">window.PlotlyConfig = {MathJaxConfig: 'local'};</script>\n",
       "        <script charset=\"utf-8\" src=\"https://cdn.plot.ly/plotly-2.35.2.min.js\"></script>                <div id=\"7e0b2a63-54b5-4ef6-9737-21c3faf92dd3\" class=\"plotly-graph-div\" style=\"height:525px; width:100%;\"></div>            <script type=\"text/javascript\">                                    window.PLOTLYENV=window.PLOTLYENV || {};                                    if (document.getElementById(\"7e0b2a63-54b5-4ef6-9737-21c3faf92dd3\")) {                    Plotly.newPlot(                        \"7e0b2a63-54b5-4ef6-9737-21c3faf92dd3\",                        [{\"coloraxis\":\"coloraxis\",\"name\":\"0\",\"texttemplate\":\"%{z}\",\"x\":[\"2020\",\"2021\",\"2022\",\"2023\",\"2024\",\"2025\"],\"y\":[\"2020\",\"2021\",\"2022\",\"2023\",\"2024\",\"2025\"],\"z\":[[1.0,0.9987096458270541,0.9976046983800387,0.9968234367340534,0.9952976830277477,0.9945685809386906],[0.9987096458270541,1.0,0.9982749321609479,0.9964400855522358,0.994747013271369,0.9936728439474767],[0.9976046983800387,0.9982749321609479,1.0,0.9993330277028284,0.9984523496127712,0.9976984779176102],[0.9968234367340534,0.9964400855522358,0.9993330277028284,1.0,0.999584767765157,0.999088323538924],[0.9952976830277477,0.994747013271369,0.9984523496127712,0.999584767765157,1.0,0.9996664345991871],[0.9945685809386906,0.9936728439474767,0.9976984779176102,0.999088323538924,0.9996664345991871,1.0]],\"type\":\"heatmap\",\"xaxis\":\"x\",\"yaxis\":\"y\",\"hovertemplate\":\"x: %{x}\\u003cbr\\u003ey: %{y}\\u003cbr\\u003ecolor: %{z}\\u003cextra\\u003e\\u003c\\u002fextra\\u003e\"}],                        {\"template\":{\"data\":{\"histogram2dcontour\":[{\"type\":\"histogram2dcontour\",\"colorbar\":{\"outlinewidth\":0,\"ticks\":\"\"},\"colorscale\":[[0.0,\"#0d0887\"],[0.1111111111111111,\"#46039f\"],[0.2222222222222222,\"#7201a8\"],[0.3333333333333333,\"#9c179e\"],[0.4444444444444444,\"#bd3786\"],[0.5555555555555556,\"#d8576b\"],[0.6666666666666666,\"#ed7953\"],[0.7777777777777778,\"#fb9f3a\"],[0.8888888888888888,\"#fdca26\"],[1.0,\"#f0f921\"]]}],\"choropleth\":[{\"type\":\"choropleth\",\"colorbar\":{\"outlinewidth\":0,\"ticks\":\"\"}}],\"histogram2d\":[{\"type\":\"histogram2d\",\"colorbar\":{\"outlinewidth\":0,\"ticks\":\"\"},\"colorscale\":[[0.0,\"#0d0887\"],[0.1111111111111111,\"#46039f\"],[0.2222222222222222,\"#7201a8\"],[0.3333333333333333,\"#9c179e\"],[0.4444444444444444,\"#bd3786\"],[0.5555555555555556,\"#d8576b\"],[0.6666666666666666,\"#ed7953\"],[0.7777777777777778,\"#fb9f3a\"],[0.8888888888888888,\"#fdca26\"],[1.0,\"#f0f921\"]]}],\"heatmap\":[{\"type\":\"heatmap\",\"colorbar\":{\"outlinewidth\":0,\"ticks\":\"\"},\"colorscale\":[[0.0,\"#0d0887\"],[0.1111111111111111,\"#46039f\"],[0.2222222222222222,\"#7201a8\"],[0.3333333333333333,\"#9c179e\"],[0.4444444444444444,\"#bd3786\"],[0.5555555555555556,\"#d8576b\"],[0.6666666666666666,\"#ed7953\"],[0.7777777777777778,\"#fb9f3a\"],[0.8888888888888888,\"#fdca26\"],[1.0,\"#f0f921\"]]}],\"heatmapgl\":[{\"type\":\"heatmapgl\",\"colorbar\":{\"outlinewidth\":0,\"ticks\":\"\"},\"colorscale\":[[0.0,\"#0d0887\"],[0.1111111111111111,\"#46039f\"],[0.2222222222222222,\"#7201a8\"],[0.3333333333333333,\"#9c179e\"],[0.4444444444444444,\"#bd3786\"],[0.5555555555555556,\"#d8576b\"],[0.6666666666666666,\"#ed7953\"],[0.7777777777777778,\"#fb9f3a\"],[0.8888888888888888,\"#fdca26\"],[1.0,\"#f0f921\"]]}],\"contourcarpet\":[{\"type\":\"contourcarpet\",\"colorbar\":{\"outlinewidth\":0,\"ticks\":\"\"}}],\"contour\":[{\"type\":\"contour\",\"colorbar\":{\"outlinewidth\":0,\"ticks\":\"\"},\"colorscale\":[[0.0,\"#0d0887\"],[0.1111111111111111,\"#46039f\"],[0.2222222222222222,\"#7201a8\"],[0.3333333333333333,\"#9c179e\"],[0.4444444444444444,\"#bd3786\"],[0.5555555555555556,\"#d8576b\"],[0.6666666666666666,\"#ed7953\"],[0.7777777777777778,\"#fb9f3a\"],[0.8888888888888888,\"#fdca26\"],[1.0,\"#f0f921\"]]}],\"surface\":[{\"type\":\"surface\",\"colorbar\":{\"outlinewidth\":0,\"ticks\":\"\"},\"colorscale\":[[0.0,\"#0d0887\"],[0.1111111111111111,\"#46039f\"],[0.2222222222222222,\"#7201a8\"],[0.3333333333333333,\"#9c179e\"],[0.4444444444444444,\"#bd3786\"],[0.5555555555555556,\"#d8576b\"],[0.6666666666666666,\"#ed7953\"],[0.7777777777777778,\"#fb9f3a\"],[0.8888888888888888,\"#fdca26\"],[1.0,\"#f0f921\"]]}],\"mesh3d\":[{\"type\":\"mesh3d\",\"colorbar\":{\"outlinewidth\":0,\"ticks\":\"\"}}],\"scatter\":[{\"fillpattern\":{\"fillmode\":\"overlay\",\"size\":10,\"solidity\":0.2},\"type\":\"scatter\"}],\"parcoords\":[{\"type\":\"parcoords\",\"line\":{\"colorbar\":{\"outlinewidth\":0,\"ticks\":\"\"}}}],\"scatterpolargl\":[{\"type\":\"scatterpolargl\",\"marker\":{\"colorbar\":{\"outlinewidth\":0,\"ticks\":\"\"}}}],\"bar\":[{\"error_x\":{\"color\":\"#2a3f5f\"},\"error_y\":{\"color\":\"#2a3f5f\"},\"marker\":{\"line\":{\"color\":\"#E5ECF6\",\"width\":0.5},\"pattern\":{\"fillmode\":\"overlay\",\"size\":10,\"solidity\":0.2}},\"type\":\"bar\"}],\"scattergeo\":[{\"type\":\"scattergeo\",\"marker\":{\"colorbar\":{\"outlinewidth\":0,\"ticks\":\"\"}}}],\"scatterpolar\":[{\"type\":\"scatterpolar\",\"marker\":{\"colorbar\":{\"outlinewidth\":0,\"ticks\":\"\"}}}],\"histogram\":[{\"marker\":{\"pattern\":{\"fillmode\":\"overlay\",\"size\":10,\"solidity\":0.2}},\"type\":\"histogram\"}],\"scattergl\":[{\"type\":\"scattergl\",\"marker\":{\"colorbar\":{\"outlinewidth\":0,\"ticks\":\"\"}}}],\"scatter3d\":[{\"type\":\"scatter3d\",\"line\":{\"colorbar\":{\"outlinewidth\":0,\"ticks\":\"\"}},\"marker\":{\"colorbar\":{\"outlinewidth\":0,\"ticks\":\"\"}}}],\"scattermapbox\":[{\"type\":\"scattermapbox\",\"marker\":{\"colorbar\":{\"outlinewidth\":0,\"ticks\":\"\"}}}],\"scatterternary\":[{\"type\":\"scatterternary\",\"marker\":{\"colorbar\":{\"outlinewidth\":0,\"ticks\":\"\"}}}],\"scattercarpet\":[{\"type\":\"scattercarpet\",\"marker\":{\"colorbar\":{\"outlinewidth\":0,\"ticks\":\"\"}}}],\"carpet\":[{\"aaxis\":{\"endlinecolor\":\"#2a3f5f\",\"gridcolor\":\"white\",\"linecolor\":\"white\",\"minorgridcolor\":\"white\",\"startlinecolor\":\"#2a3f5f\"},\"baxis\":{\"endlinecolor\":\"#2a3f5f\",\"gridcolor\":\"white\",\"linecolor\":\"white\",\"minorgridcolor\":\"white\",\"startlinecolor\":\"#2a3f5f\"},\"type\":\"carpet\"}],\"table\":[{\"cells\":{\"fill\":{\"color\":\"#EBF0F8\"},\"line\":{\"color\":\"white\"}},\"header\":{\"fill\":{\"color\":\"#C8D4E3\"},\"line\":{\"color\":\"white\"}},\"type\":\"table\"}],\"barpolar\":[{\"marker\":{\"line\":{\"color\":\"#E5ECF6\",\"width\":0.5},\"pattern\":{\"fillmode\":\"overlay\",\"size\":10,\"solidity\":0.2}},\"type\":\"barpolar\"}],\"pie\":[{\"automargin\":true,\"type\":\"pie\"}]},\"layout\":{\"autotypenumbers\":\"strict\",\"colorway\":[\"#636efa\",\"#EF553B\",\"#00cc96\",\"#ab63fa\",\"#FFA15A\",\"#19d3f3\",\"#FF6692\",\"#B6E880\",\"#FF97FF\",\"#FECB52\"],\"font\":{\"color\":\"#2a3f5f\"},\"hovermode\":\"closest\",\"hoverlabel\":{\"align\":\"left\"},\"paper_bgcolor\":\"white\",\"plot_bgcolor\":\"#E5ECF6\",\"polar\":{\"bgcolor\":\"#E5ECF6\",\"angularaxis\":{\"gridcolor\":\"white\",\"linecolor\":\"white\",\"ticks\":\"\"},\"radialaxis\":{\"gridcolor\":\"white\",\"linecolor\":\"white\",\"ticks\":\"\"}},\"ternary\":{\"bgcolor\":\"#E5ECF6\",\"aaxis\":{\"gridcolor\":\"white\",\"linecolor\":\"white\",\"ticks\":\"\"},\"baxis\":{\"gridcolor\":\"white\",\"linecolor\":\"white\",\"ticks\":\"\"},\"caxis\":{\"gridcolor\":\"white\",\"linecolor\":\"white\",\"ticks\":\"\"}},\"coloraxis\":{\"colorbar\":{\"outlinewidth\":0,\"ticks\":\"\"}},\"colorscale\":{\"sequential\":[[0.0,\"#0d0887\"],[0.1111111111111111,\"#46039f\"],[0.2222222222222222,\"#7201a8\"],[0.3333333333333333,\"#9c179e\"],[0.4444444444444444,\"#bd3786\"],[0.5555555555555556,\"#d8576b\"],[0.6666666666666666,\"#ed7953\"],[0.7777777777777778,\"#fb9f3a\"],[0.8888888888888888,\"#fdca26\"],[1.0,\"#f0f921\"]],\"sequentialminus\":[[0.0,\"#0d0887\"],[0.1111111111111111,\"#46039f\"],[0.2222222222222222,\"#7201a8\"],[0.3333333333333333,\"#9c179e\"],[0.4444444444444444,\"#bd3786\"],[0.5555555555555556,\"#d8576b\"],[0.6666666666666666,\"#ed7953\"],[0.7777777777777778,\"#fb9f3a\"],[0.8888888888888888,\"#fdca26\"],[1.0,\"#f0f921\"]],\"diverging\":[[0,\"#8e0152\"],[0.1,\"#c51b7d\"],[0.2,\"#de77ae\"],[0.3,\"#f1b6da\"],[0.4,\"#fde0ef\"],[0.5,\"#f7f7f7\"],[0.6,\"#e6f5d0\"],[0.7,\"#b8e186\"],[0.8,\"#7fbc41\"],[0.9,\"#4d9221\"],[1,\"#276419\"]]},\"xaxis\":{\"gridcolor\":\"white\",\"linecolor\":\"white\",\"ticks\":\"\",\"title\":{\"standoff\":15},\"zerolinecolor\":\"white\",\"automargin\":true,\"zerolinewidth\":2},\"yaxis\":{\"gridcolor\":\"white\",\"linecolor\":\"white\",\"ticks\":\"\",\"title\":{\"standoff\":15},\"zerolinecolor\":\"white\",\"automargin\":true,\"zerolinewidth\":2},\"scene\":{\"xaxis\":{\"backgroundcolor\":\"#E5ECF6\",\"gridcolor\":\"white\",\"linecolor\":\"white\",\"showbackground\":true,\"ticks\":\"\",\"zerolinecolor\":\"white\",\"gridwidth\":2},\"yaxis\":{\"backgroundcolor\":\"#E5ECF6\",\"gridcolor\":\"white\",\"linecolor\":\"white\",\"showbackground\":true,\"ticks\":\"\",\"zerolinecolor\":\"white\",\"gridwidth\":2},\"zaxis\":{\"backgroundcolor\":\"#E5ECF6\",\"gridcolor\":\"white\",\"linecolor\":\"white\",\"showbackground\":true,\"ticks\":\"\",\"zerolinecolor\":\"white\",\"gridwidth\":2}},\"shapedefaults\":{\"line\":{\"color\":\"#2a3f5f\"}},\"annotationdefaults\":{\"arrowcolor\":\"#2a3f5f\",\"arrowhead\":0,\"arrowwidth\":1},\"geo\":{\"bgcolor\":\"white\",\"landcolor\":\"#E5ECF6\",\"subunitcolor\":\"white\",\"showland\":true,\"showlakes\":true,\"lakecolor\":\"white\"},\"title\":{\"x\":0.05},\"mapbox\":{\"style\":\"light\"}}},\"xaxis\":{\"anchor\":\"y\",\"domain\":[0.0,1.0],\"scaleanchor\":\"y\",\"constrain\":\"domain\"},\"yaxis\":{\"anchor\":\"x\",\"domain\":[0.0,1.0],\"autorange\":\"reversed\",\"constrain\":\"domain\"},\"coloraxis\":{\"colorscale\":[[0.0,\"rgb(5,48,97)\"],[0.1,\"rgb(33,102,172)\"],[0.2,\"rgb(67,147,195)\"],[0.3,\"rgb(146,197,222)\"],[0.4,\"rgb(209,229,240)\"],[0.5,\"rgb(247,247,247)\"],[0.6,\"rgb(253,219,199)\"],[0.7,\"rgb(244,165,130)\"],[0.8,\"rgb(214,96,77)\"],[0.9,\"rgb(178,24,43)\"],[1.0,\"rgb(103,0,31)\"]]},\"title\":{\"text\":\"Correlation Between Years\"}},                        {\"responsive\": true}                    ).then(function(){\n",
       "                            \n",
       "var gd = document.getElementById('7e0b2a63-54b5-4ef6-9737-21c3faf92dd3');\n",
       "var x = new MutationObserver(function (mutations, observer) {{\n",
       "        var display = window.getComputedStyle(gd).display;\n",
       "        if (!display || display === 'none') {{\n",
       "            console.log([gd, 'removed!']);\n",
       "            Plotly.purge(gd);\n",
       "            observer.disconnect();\n",
       "        }}\n",
       "}});\n",
       "\n",
       "// Listen for the removal of the full notebook cells\n",
       "var notebookContainer = gd.closest('#notebook-container');\n",
       "if (notebookContainer) {{\n",
       "    x.observe(notebookContainer, {childList: true});\n",
       "}}\n",
       "\n",
       "// Listen for the clearing of the current output cell\n",
       "var outputEl = gd.closest('.output');\n",
       "if (outputEl) {{\n",
       "    x.observe(outputEl, {childList: true});\n",
       "}}\n",
       "\n",
       "                        })                };                            </script>        </div>\n",
       "</body>\n",
       "</html>"
      ]
     },
     "metadata": {},
     "output_type": "display_data"
    }
   ],
   "source": [
    "#Heatmap – Correlation\n",
    "df_corr = df.drop(columns='Country').corr()\n",
    "\n",
    "fig_heatmap = px.imshow(df_corr, text_auto=True, color_continuous_scale='RdBu_r', title='Correlation Between Years')\n",
    "fig_heatmap.show()"
   ]
  },
  {
   "cell_type": "markdown",
   "id": "0d3e5b48",
   "metadata": {
    "papermill": {
     "duration": 0.011406,
     "end_time": "2025-09-19T14:29:59.110807",
     "exception": false,
     "start_time": "2025-09-19T14:29:59.099401",
     "status": "completed"
    },
    "tags": []
   },
   "source": [
    "# Data Preprocessing Techniques\n",
    "#### Because the model become working fast"
   ]
  },
  {
   "cell_type": "code",
   "execution_count": 16,
   "id": "838e96cc",
   "metadata": {
    "execution": {
     "iopub.execute_input": "2025-09-19T14:29:59.135041Z",
     "iopub.status.busy": "2025-09-19T14:29:59.134745Z",
     "iopub.status.idle": "2025-09-19T14:29:59.145344Z",
     "shell.execute_reply": "2025-09-19T14:29:59.144649Z"
    },
    "papermill": {
     "duration": 0.024359,
     "end_time": "2025-09-19T14:29:59.146684",
     "exception": false,
     "start_time": "2025-09-19T14:29:59.122325",
     "status": "completed"
    },
    "tags": []
   },
   "outputs": [],
   "source": [
    "numeric_cols = df.select_dtypes(include=[np.number]).columns.tolist()\n",
    "imputer = SimpleImputer(strategy='median')\n",
    "df[numeric_cols] = imputer.fit_transform(df[numeric_cols])"
   ]
  },
  {
   "cell_type": "code",
   "execution_count": 17,
   "id": "5a5e09f1",
   "metadata": {
    "execution": {
     "iopub.execute_input": "2025-09-19T14:29:59.170802Z",
     "iopub.status.busy": "2025-09-19T14:29:59.170486Z",
     "iopub.status.idle": "2025-09-19T14:29:59.176175Z",
     "shell.execute_reply": "2025-09-19T14:29:59.175364Z"
    },
    "papermill": {
     "duration": 0.01911,
     "end_time": "2025-09-19T14:29:59.177436",
     "exception": false,
     "start_time": "2025-09-19T14:29:59.158326",
     "status": "completed"
    },
    "tags": []
   },
   "outputs": [],
   "source": [
    "# convert country data into numerical format\n",
    "label_encoder = LabelEncoder()\n",
    "df['Country_encoded'] = label_encoder.fit_transform(df['Country'])"
   ]
  },
  {
   "cell_type": "code",
   "execution_count": 18,
   "id": "a5536933",
   "metadata": {
    "execution": {
     "iopub.execute_input": "2025-09-19T14:29:59.202236Z",
     "iopub.status.busy": "2025-09-19T14:29:59.201463Z",
     "iopub.status.idle": "2025-09-19T14:29:59.210054Z",
     "shell.execute_reply": "2025-09-19T14:29:59.209239Z"
    },
    "papermill": {
     "duration": 0.022358,
     "end_time": "2025-09-19T14:29:59.211426",
     "exception": false,
     "start_time": "2025-09-19T14:29:59.189068",
     "status": "completed"
    },
    "tags": []
   },
   "outputs": [],
   "source": [
    "# Apply Standard Scaling or MinMax Scaling to numeric features\n",
    "scaler = StandardScaler()\n",
    "scaled_features = scaler.fit_transform(df[numeric_cols])"
   ]
  },
  {
   "cell_type": "code",
   "execution_count": 19,
   "id": "f4ec3caa",
   "metadata": {
    "execution": {
     "iopub.execute_input": "2025-09-19T14:29:59.236282Z",
     "iopub.status.busy": "2025-09-19T14:29:59.235614Z",
     "iopub.status.idle": "2025-09-19T14:29:59.247313Z",
     "shell.execute_reply": "2025-09-19T14:29:59.246529Z"
    },
    "papermill": {
     "duration": 0.025524,
     "end_time": "2025-09-19T14:29:59.248745",
     "exception": false,
     "start_time": "2025-09-19T14:29:59.223221",
     "status": "completed"
    },
    "tags": []
   },
   "outputs": [
    {
     "data": {
      "text/html": [
       "<div>\n",
       "<style scoped>\n",
       "    .dataframe tbody tr th:only-of-type {\n",
       "        vertical-align: middle;\n",
       "    }\n",
       "\n",
       "    .dataframe tbody tr th {\n",
       "        vertical-align: top;\n",
       "    }\n",
       "\n",
       "    .dataframe thead th {\n",
       "        text-align: right;\n",
       "    }\n",
       "</style>\n",
       "<table border=\"1\" class=\"dataframe\">\n",
       "  <thead>\n",
       "    <tr style=\"text-align: right;\">\n",
       "      <th></th>\n",
       "      <th>2020_scaled</th>\n",
       "      <th>2021_scaled</th>\n",
       "      <th>2022_scaled</th>\n",
       "      <th>2023_scaled</th>\n",
       "      <th>2024_scaled</th>\n",
       "      <th>2025_scaled</th>\n",
       "    </tr>\n",
       "  </thead>\n",
       "  <tbody>\n",
       "    <tr>\n",
       "      <th>0</th>\n",
       "      <td>-0.215562</td>\n",
       "      <td>-0.222376</td>\n",
       "      <td>-0.219330</td>\n",
       "      <td>-0.218294</td>\n",
       "      <td>0.000000</td>\n",
       "      <td>0.000000</td>\n",
       "    </tr>\n",
       "    <tr>\n",
       "      <th>1</th>\n",
       "      <td>-0.218072</td>\n",
       "      <td>-0.220648</td>\n",
       "      <td>-0.217320</td>\n",
       "      <td>-0.215771</td>\n",
       "      <td>-0.215903</td>\n",
       "      <td>-0.216374</td>\n",
       "    </tr>\n",
       "    <tr>\n",
       "      <th>2</th>\n",
       "      <td>-0.140928</td>\n",
       "      <td>-0.144523</td>\n",
       "      <td>-0.128677</td>\n",
       "      <td>-0.123584</td>\n",
       "      <td>-0.122345</td>\n",
       "      <td>-0.125198</td>\n",
       "    </tr>\n",
       "    <tr>\n",
       "      <th>3</th>\n",
       "      <td>-0.224463</td>\n",
       "      <td>-0.227346</td>\n",
       "      <td>-0.224105</td>\n",
       "      <td>-0.223824</td>\n",
       "      <td>-0.225045</td>\n",
       "      <td>-0.225600</td>\n",
       "    </tr>\n",
       "    <tr>\n",
       "      <th>4</th>\n",
       "      <td>-0.191627</td>\n",
       "      <td>-0.190569</td>\n",
       "      <td>-0.164416</td>\n",
       "      <td>-0.180287</td>\n",
       "      <td>-0.180989</td>\n",
       "      <td>-0.184162</td>\n",
       "    </tr>\n",
       "  </tbody>\n",
       "</table>\n",
       "</div>"
      ],
      "text/plain": [
       "   2020_scaled  2021_scaled  2022_scaled  2023_scaled  2024_scaled  \\\n",
       "0    -0.215562    -0.222376    -0.219330    -0.218294     0.000000   \n",
       "1    -0.218072    -0.220648    -0.217320    -0.215771    -0.215903   \n",
       "2    -0.140928    -0.144523    -0.128677    -0.123584    -0.122345   \n",
       "3    -0.224463    -0.227346    -0.224105    -0.223824    -0.225045   \n",
       "4    -0.191627    -0.190569    -0.164416    -0.180287    -0.180989   \n",
       "\n",
       "   2025_scaled  \n",
       "0     0.000000  \n",
       "1    -0.216374  \n",
       "2    -0.125198  \n",
       "3    -0.225600  \n",
       "4    -0.184162  "
      ]
     },
     "execution_count": 19,
     "metadata": {},
     "output_type": "execute_result"
    }
   ],
   "source": [
    "# Convert scaled features to DataFrame\n",
    "scaled_df = pd.DataFrame(scaled_features, columns=[f\"{col}_scaled\" for col in numeric_cols])\n",
    "scaled_df.head()"
   ]
  },
  {
   "cell_type": "markdown",
   "id": "c5989307",
   "metadata": {
    "papermill": {
     "duration": 0.011386,
     "end_time": "2025-09-19T14:29:59.272236",
     "exception": false,
     "start_time": "2025-09-19T14:29:59.260850",
     "status": "completed"
    },
    "tags": []
   },
   "source": [
    "# Data Splitting process"
   ]
  },
  {
   "cell_type": "code",
   "execution_count": 20,
   "id": "2f8b9616",
   "metadata": {
    "execution": {
     "iopub.execute_input": "2025-09-19T14:29:59.364167Z",
     "iopub.status.busy": "2025-09-19T14:29:59.363417Z",
     "iopub.status.idle": "2025-09-19T14:29:59.368084Z",
     "shell.execute_reply": "2025-09-19T14:29:59.367353Z"
    },
    "papermill": {
     "duration": 0.02179,
     "end_time": "2025-09-19T14:29:59.369529",
     "exception": false,
     "start_time": "2025-09-19T14:29:59.347739",
     "status": "completed"
    },
    "tags": []
   },
   "outputs": [],
   "source": [
    "X=scaled_df.iloc[:,:-1]\n",
    "y=scaled_df['2025_scaled']\n"
   ]
  },
  {
   "cell_type": "code",
   "execution_count": 21,
   "id": "37530949",
   "metadata": {
    "execution": {
     "iopub.execute_input": "2025-09-19T14:29:59.395303Z",
     "iopub.status.busy": "2025-09-19T14:29:59.395024Z",
     "iopub.status.idle": "2025-09-19T14:29:59.403155Z",
     "shell.execute_reply": "2025-09-19T14:29:59.402353Z"
    },
    "papermill": {
     "duration": 0.022508,
     "end_time": "2025-09-19T14:29:59.404472",
     "exception": false,
     "start_time": "2025-09-19T14:29:59.381964",
     "status": "completed"
    },
    "tags": []
   },
   "outputs": [
    {
     "data": {
      "text/plain": [
       "((156, 5), (40, 5), (156,), (40,))"
      ]
     },
     "execution_count": 21,
     "metadata": {},
     "output_type": "execute_result"
    }
   ],
   "source": [
    "x_train,x_test,y_train,y_test=train_test_split(X,y,test_size=0.2,random_state=42)\n",
    "x_train.shape,x_test.shape,y_train.shape,y_test.shape"
   ]
  },
  {
   "cell_type": "code",
   "execution_count": 22,
   "id": "efd513ae",
   "metadata": {
    "execution": {
     "iopub.execute_input": "2025-09-19T14:29:59.430307Z",
     "iopub.status.busy": "2025-09-19T14:29:59.430037Z",
     "iopub.status.idle": "2025-09-19T14:29:59.440230Z",
     "shell.execute_reply": "2025-09-19T14:29:59.439403Z"
    },
    "papermill": {
     "duration": 0.024493,
     "end_time": "2025-09-19T14:29:59.441576",
     "exception": false,
     "start_time": "2025-09-19T14:29:59.417083",
     "status": "completed"
    },
    "tags": []
   },
   "outputs": [
    {
     "name": "stdout",
     "output_type": "stream",
     "text": [
      "LinearRegression()\n",
      "RandomForestRegressor(random_state=42)\n"
     ]
    }
   ],
   "source": [
    "lin_reg = LinearRegression()\n",
    "rf_reg = RandomForestRegressor(n_estimators=100, random_state=42)\n",
    "print(lin_reg)\n",
    "print(rf_reg)"
   ]
  },
  {
   "cell_type": "code",
   "execution_count": 23,
   "id": "53443f96",
   "metadata": {
    "execution": {
     "iopub.execute_input": "2025-09-19T14:29:59.468315Z",
     "iopub.status.busy": "2025-09-19T14:29:59.467475Z",
     "iopub.status.idle": "2025-09-19T14:29:59.665536Z",
     "shell.execute_reply": "2025-09-19T14:29:59.664706Z"
    },
    "papermill": {
     "duration": 0.212917,
     "end_time": "2025-09-19T14:29:59.667307",
     "exception": false,
     "start_time": "2025-09-19T14:29:59.454390",
     "status": "completed"
    },
    "tags": []
   },
   "outputs": [
    {
     "data": {
      "text/html": [
       "<style>#sk-container-id-1 {color: black;background-color: white;}#sk-container-id-1 pre{padding: 0;}#sk-container-id-1 div.sk-toggleable {background-color: white;}#sk-container-id-1 label.sk-toggleable__label {cursor: pointer;display: block;width: 100%;margin-bottom: 0;padding: 0.3em;box-sizing: border-box;text-align: center;}#sk-container-id-1 label.sk-toggleable__label-arrow:before {content: \"▸\";float: left;margin-right: 0.25em;color: #696969;}#sk-container-id-1 label.sk-toggleable__label-arrow:hover:before {color: black;}#sk-container-id-1 div.sk-estimator:hover label.sk-toggleable__label-arrow:before {color: black;}#sk-container-id-1 div.sk-toggleable__content {max-height: 0;max-width: 0;overflow: hidden;text-align: left;background-color: #f0f8ff;}#sk-container-id-1 div.sk-toggleable__content pre {margin: 0.2em;color: black;border-radius: 0.25em;background-color: #f0f8ff;}#sk-container-id-1 input.sk-toggleable__control:checked~div.sk-toggleable__content {max-height: 200px;max-width: 100%;overflow: auto;}#sk-container-id-1 input.sk-toggleable__control:checked~label.sk-toggleable__label-arrow:before {content: \"▾\";}#sk-container-id-1 div.sk-estimator input.sk-toggleable__control:checked~label.sk-toggleable__label {background-color: #d4ebff;}#sk-container-id-1 div.sk-label input.sk-toggleable__control:checked~label.sk-toggleable__label {background-color: #d4ebff;}#sk-container-id-1 input.sk-hidden--visually {border: 0;clip: rect(1px 1px 1px 1px);clip: rect(1px, 1px, 1px, 1px);height: 1px;margin: -1px;overflow: hidden;padding: 0;position: absolute;width: 1px;}#sk-container-id-1 div.sk-estimator {font-family: monospace;background-color: #f0f8ff;border: 1px dotted black;border-radius: 0.25em;box-sizing: border-box;margin-bottom: 0.5em;}#sk-container-id-1 div.sk-estimator:hover {background-color: #d4ebff;}#sk-container-id-1 div.sk-parallel-item::after {content: \"\";width: 100%;border-bottom: 1px solid gray;flex-grow: 1;}#sk-container-id-1 div.sk-label:hover label.sk-toggleable__label {background-color: #d4ebff;}#sk-container-id-1 div.sk-serial::before {content: \"\";position: absolute;border-left: 1px solid gray;box-sizing: border-box;top: 0;bottom: 0;left: 50%;z-index: 0;}#sk-container-id-1 div.sk-serial {display: flex;flex-direction: column;align-items: center;background-color: white;padding-right: 0.2em;padding-left: 0.2em;position: relative;}#sk-container-id-1 div.sk-item {position: relative;z-index: 1;}#sk-container-id-1 div.sk-parallel {display: flex;align-items: stretch;justify-content: center;background-color: white;position: relative;}#sk-container-id-1 div.sk-item::before, #sk-container-id-1 div.sk-parallel-item::before {content: \"\";position: absolute;border-left: 1px solid gray;box-sizing: border-box;top: 0;bottom: 0;left: 50%;z-index: -1;}#sk-container-id-1 div.sk-parallel-item {display: flex;flex-direction: column;z-index: 1;position: relative;background-color: white;}#sk-container-id-1 div.sk-parallel-item:first-child::after {align-self: flex-end;width: 50%;}#sk-container-id-1 div.sk-parallel-item:last-child::after {align-self: flex-start;width: 50%;}#sk-container-id-1 div.sk-parallel-item:only-child::after {width: 0;}#sk-container-id-1 div.sk-dashed-wrapped {border: 1px dashed gray;margin: 0 0.4em 0.5em 0.4em;box-sizing: border-box;padding-bottom: 0.4em;background-color: white;}#sk-container-id-1 div.sk-label label {font-family: monospace;font-weight: bold;display: inline-block;line-height: 1.2em;}#sk-container-id-1 div.sk-label-container {text-align: center;}#sk-container-id-1 div.sk-container {/* jupyter's `normalize.less` sets `[hidden] { display: none; }` but bootstrap.min.css set `[hidden] { display: none !important; }` so we also need the `!important` here to be able to override the default hidden behavior on the sphinx rendered scikit-learn.org. See: https://github.com/scikit-learn/scikit-learn/issues/21755 */display: inline-block !important;position: relative;}#sk-container-id-1 div.sk-text-repr-fallback {display: none;}</style><div id=\"sk-container-id-1\" class=\"sk-top-container\"><div class=\"sk-text-repr-fallback\"><pre>RandomForestRegressor(random_state=42)</pre><b>In a Jupyter environment, please rerun this cell to show the HTML representation or trust the notebook. <br />On GitHub, the HTML representation is unable to render, please try loading this page with nbviewer.org.</b></div><div class=\"sk-container\" hidden><div class=\"sk-item\"><div class=\"sk-estimator sk-toggleable\"><input class=\"sk-toggleable__control sk-hidden--visually\" id=\"sk-estimator-id-1\" type=\"checkbox\" checked><label for=\"sk-estimator-id-1\" class=\"sk-toggleable__label sk-toggleable__label-arrow\">RandomForestRegressor</label><div class=\"sk-toggleable__content\"><pre>RandomForestRegressor(random_state=42)</pre></div></div></div></div></div>"
      ],
      "text/plain": [
       "RandomForestRegressor(random_state=42)"
      ]
     },
     "execution_count": 23,
     "metadata": {},
     "output_type": "execute_result"
    }
   ],
   "source": [
    "lin_reg.fit(x_train, y_train)\n",
    "rf_reg.fit(x_train, y_train)"
   ]
  },
  {
   "cell_type": "code",
   "execution_count": 24,
   "id": "2993f3ea",
   "metadata": {
    "execution": {
     "iopub.execute_input": "2025-09-19T14:29:59.693679Z",
     "iopub.status.busy": "2025-09-19T14:29:59.693357Z",
     "iopub.status.idle": "2025-09-19T14:29:59.704447Z",
     "shell.execute_reply": "2025-09-19T14:29:59.703569Z"
    },
    "papermill": {
     "duration": 0.025916,
     "end_time": "2025-09-19T14:29:59.705915",
     "exception": false,
     "start_time": "2025-09-19T14:29:59.679999",
     "status": "completed"
    },
    "tags": []
   },
   "outputs": [],
   "source": [
    "y_pred_lin = lin_reg.predict(x_test)\n",
    "y_pred_rf = rf_reg.predict(x_test)"
   ]
  },
  {
   "cell_type": "code",
   "execution_count": 25,
   "id": "6195b938",
   "metadata": {
    "execution": {
     "iopub.execute_input": "2025-09-19T14:29:59.732154Z",
     "iopub.status.busy": "2025-09-19T14:29:59.731821Z",
     "iopub.status.idle": "2025-09-19T14:29:59.738809Z",
     "shell.execute_reply": "2025-09-19T14:29:59.737765Z"
    },
    "papermill": {
     "duration": 0.024109,
     "end_time": "2025-09-19T14:29:59.742597",
     "exception": false,
     "start_time": "2025-09-19T14:29:59.718488",
     "status": "completed"
    },
    "tags": []
   },
   "outputs": [
    {
     "name": "stdout",
     "output_type": "stream",
     "text": [
      "Prediction by use of Linear Regression Model:\n"
     ]
    },
    {
     "data": {
      "text/plain": [
       "array([-0.10347209, -0.22638416, -0.19914557, -0.13631737, -0.17043165,\n",
       "        1.21474271, -0.21608302, -0.20963252, -0.22519663,  0.01171196,\n",
       "       -0.22587532, -0.2237217 , -0.18778961,  1.01826892, -0.21697364,\n",
       "       -0.21924451, -0.22614759,  0.47573073, -0.21174207, -0.19404946,\n",
       "        0.53384333, -0.21933725,  0.13913072, -0.08807658,  1.27094217,\n",
       "       -0.22601803, -0.21991143, -0.02293949, -0.20779836, -0.18166999,\n",
       "       -0.01693358, -0.20330191, -0.15174673,  0.64915055, -0.04427406,\n",
       "       -0.20923504, -0.22454201, -0.21809658, -0.20966224, -0.21315833])"
      ]
     },
     "execution_count": 25,
     "metadata": {},
     "output_type": "execute_result"
    }
   ],
   "source": [
    "print('Prediction by use of Linear Regression Model:')\n",
    "y_pred_lin"
   ]
  },
  {
   "cell_type": "code",
   "execution_count": 26,
   "id": "144a81fe",
   "metadata": {
    "execution": {
     "iopub.execute_input": "2025-09-19T14:29:59.770141Z",
     "iopub.status.busy": "2025-09-19T14:29:59.769846Z",
     "iopub.status.idle": "2025-09-19T14:29:59.776115Z",
     "shell.execute_reply": "2025-09-19T14:29:59.775288Z"
    },
    "papermill": {
     "duration": 0.02121,
     "end_time": "2025-09-19T14:29:59.777610",
     "exception": false,
     "start_time": "2025-09-19T14:29:59.756400",
     "status": "completed"
    },
    "tags": []
   },
   "outputs": [
    {
     "name": "stdout",
     "output_type": "stream",
     "text": [
      "Prediction by use of Random Forest Model:\n"
     ]
    },
    {
     "data": {
      "text/plain": [
       "array([-1.06432564e-01, -2.26942533e-01, -1.96385019e-01, -1.38949216e-01,\n",
       "       -1.76400518e-01,  1.12841835e+00, -2.16998289e-01, -2.09993200e-01,\n",
       "       -2.25898877e-01,  1.70919990e-04, -2.26367276e-01, -2.24260918e-01,\n",
       "       -1.89578066e-01,  1.03935446e+00, -2.17321276e-01, -2.20162575e-01,\n",
       "       -2.26690664e-01,  4.69730024e-01, -2.13487899e-01, -1.93948282e-01,\n",
       "        4.10466747e-01, -2.21001313e-01,  6.49605928e-02, -7.20015521e-02,\n",
       "        1.37359343e+00, -2.26599386e-01, -2.20529521e-01, -1.83895886e-02,\n",
       "       -2.09280044e-01, -1.80684260e-01, -1.50522881e-02, -1.97926070e-01,\n",
       "       -1.54829487e-01,  5.65122386e-01, -4.47878198e-02, -2.09934168e-01,\n",
       "       -2.24978703e-01, -2.19065418e-01, -2.09907021e-01, -2.14088465e-01])"
      ]
     },
     "execution_count": 26,
     "metadata": {},
     "output_type": "execute_result"
    }
   ],
   "source": [
    "print('Prediction by use of Random Forest Model:')\n",
    "y_pred_rf"
   ]
  },
  {
   "cell_type": "code",
   "execution_count": 27,
   "id": "737fe86f",
   "metadata": {
    "execution": {
     "iopub.execute_input": "2025-09-19T14:29:59.805075Z",
     "iopub.status.busy": "2025-09-19T14:29:59.804771Z",
     "iopub.status.idle": "2025-09-19T14:29:59.809897Z",
     "shell.execute_reply": "2025-09-19T14:29:59.808858Z"
    },
    "papermill": {
     "duration": 0.020657,
     "end_time": "2025-09-19T14:29:59.811353",
     "exception": false,
     "start_time": "2025-09-19T14:29:59.790696",
     "status": "completed"
    },
    "tags": []
   },
   "outputs": [],
   "source": [
    "def evaluate_model(name, y_true, y_pred):\n",
    "    mae = mean_absolute_error(y_true, y_pred)\n",
    "    rmse = np.sqrt(mean_squared_error(y_true, y_pred))\n",
    "    r2 = r2_score(y_true, y_pred)\n",
    "    print(f\"📈 {name} Performance:\")\n",
    "    print(f\"   - MAE : {mae:.4f}\")\n",
    "    print(f\"   - RMSE: {rmse:.4f}\")\n",
    "    print(f\"   - R²  : {r2:.4f}\\n\")\n",
    "    return mae, rmse, r2"
   ]
  },
  {
   "cell_type": "code",
   "execution_count": 28,
   "id": "a79eccac",
   "metadata": {
    "execution": {
     "iopub.execute_input": "2025-09-19T14:29:59.839191Z",
     "iopub.status.busy": "2025-09-19T14:29:59.838900Z",
     "iopub.status.idle": "2025-09-19T14:29:59.847039Z",
     "shell.execute_reply": "2025-09-19T14:29:59.846266Z"
    },
    "papermill": {
     "duration": 0.02327,
     "end_time": "2025-09-19T14:29:59.848258",
     "exception": false,
     "start_time": "2025-09-19T14:29:59.824988",
     "status": "completed"
    },
    "tags": []
   },
   "outputs": [
    {
     "name": "stdout",
     "output_type": "stream",
     "text": [
      "📈 Linear Regression Performance:\n",
      "   - MAE : 0.0150\n",
      "   - RMSE: 0.0402\n",
      "   - R²  : 0.9896\n",
      "\n",
      "📈 Random Forest Performance:\n",
      "   - MAE : 0.0136\n",
      "   - RMSE: 0.0375\n",
      "   - R²  : 0.9909\n",
      "\n"
     ]
    }
   ],
   "source": [
    "mae_lin, rmse_lin, r2_lin = evaluate_model(\"Linear Regression\", y_test, y_pred_lin)\n",
    "mae_rf, rmse_rf, r2_rf = evaluate_model(\"Random Forest\", y_test, y_pred_rf)"
   ]
  },
  {
   "cell_type": "code",
   "execution_count": 29,
   "id": "c1742589",
   "metadata": {
    "execution": {
     "iopub.execute_input": "2025-09-19T14:29:59.875226Z",
     "iopub.status.busy": "2025-09-19T14:29:59.874959Z",
     "iopub.status.idle": "2025-09-19T14:30:00.254921Z",
     "shell.execute_reply": "2025-09-19T14:30:00.254030Z"
    },
    "papermill": {
     "duration": 0.395985,
     "end_time": "2025-09-19T14:30:00.257144",
     "exception": false,
     "start_time": "2025-09-19T14:29:59.861159",
     "status": "completed"
    },
    "tags": []
   },
   "outputs": [
    {
     "name": "stderr",
     "output_type": "stream",
     "text": [
      "/tmp/ipykernel_13/1634140587.py:11: UserWarning:\n",
      "\n",
      "Glyph 128269 (\\N{LEFT-POINTING MAGNIFYING GLASS}) missing from current font.\n",
      "\n",
      "/usr/local/lib/python3.11/dist-packages/IPython/core/pylabtools.py:151: UserWarning:\n",
      "\n",
      "Glyph 128269 (\\N{LEFT-POINTING MAGNIFYING GLASS}) missing from current font.\n",
      "\n"
     ]
    },
    {
     "data": {
      "image/png": "[encoded data removed]",
      "text/plain": [
       "<Figure size 1000x500 with 1 Axes>"
      ]
     },
     "metadata": {},
     "output_type": "display_data"
    }
   ],
   "source": [
    "# Plot Predictions vs Actuals\n",
    "plt.figure(figsize=(10, 5))\n",
    "plt.plot(y_test.values, label=\"Actual\", marker='o', linestyle='--', color='black')\n",
    "plt.plot(y_pred_lin, label=\"Linear Regression\", marker='s', color='blue')\n",
    "plt.plot(y_pred_rf, label=\"Random Forest\", marker='^', color='green')\n",
    "plt.title(\"🔍 Model Predictions vs Actual\")\n",
    "plt.xlabel(\"Test Sample Index\")\n",
    "plt.ylabel(\"Scaled Rank (Target)\")\n",
    "plt.legend()\n",
    "plt.grid(True)\n",
    "plt.tight_layout()\n",
    "plt.show()"
   ]
  },
  {
   "cell_type": "code",
   "execution_count": null,
   "id": "ac61903b",
   "metadata": {
    "papermill": {
     "duration": 0.015202,
     "end_time": "2025-09-19T14:30:00.288081",
     "exception": false,
     "start_time": "2025-09-19T14:30:00.272879",
     "status": "completed"
    },
    "tags": []
   },
   "outputs": [],
   "source": []
  },
  {
   "cell_type": "code",
   "execution_count": null,
   "id": "c5011d23",
   "metadata": {
    "papermill": {
     "duration": 0.015306,
     "end_time": "2025-09-19T14:30:00.318897",
     "exception": false,
     "start_time": "2025-09-19T14:30:00.303591",
     "status": "completed"
    },
    "tags": []
   },
   "outputs": [],
   "source": []
  },
  {
   "cell_type": "code",
   "execution_count": null,
   "id": "afc78cd8",
   "metadata": {
    "papermill": {
     "duration": 0.015762,
     "end_time": "2025-09-19T14:30:00.349992",
     "exception": false,
     "start_time": "2025-09-19T14:30:00.334230",
     "status": "completed"
    },
    "tags": []
   },
   "outputs": [],
   "source": []
  },
  {
   "cell_type": "code",
   "execution_count": null,
   "id": "9aa4aeed",
   "metadata": {
    "papermill": {
     "duration": 0.015165,
     "end_time": "2025-09-19T14:30:00.380536",
     "exception": false,
     "start_time": "2025-09-19T14:30:00.365371",
     "status": "completed"
    },
    "tags": []
   },
   "outputs": [],
   "source": []
  },
  {
   "cell_type": "code",
   "execution_count": null,
   "id": "7c0cff2f",
   "metadata": {
    "papermill": {
     "duration": 0.016107,
     "end_time": "2025-09-19T14:30:00.411951",
     "exception": false,
     "start_time": "2025-09-19T14:30:00.395844",
     "status": "completed"
    },
    "tags": []
   },
   "outputs": [],
   "source": []
  },
  {
   "cell_type": "code",
   "execution_count": null,
   "id": "82626f8d",
   "metadata": {
    "papermill": {
     "duration": 0.017207,
     "end_time": "2025-09-19T14:30:00.445382",
     "exception": false,
     "start_time": "2025-09-19T14:30:00.428175",
     "status": "completed"
    },
    "tags": []
   },
   "outputs": [],
   "source": []
  },
  {
   "cell_type": "code",
   "execution_count": null,
   "id": "f986a8d6",
   "metadata": {
    "papermill": {
     "duration": 0.015245,
     "end_time": "2025-09-19T14:30:00.477684",
     "exception": false,
     "start_time": "2025-09-19T14:30:00.462439",
     "status": "completed"
    },
    "tags": []
   },
   "outputs": [],
   "source": []
  },
  {
   "cell_type": "code",
   "execution_count": null,
   "id": "645d87e1",
   "metadata": {
    "papermill": {
     "duration": 0.015032,
     "end_time": "2025-09-19T14:30:00.508166",
     "exception": false,
     "start_time": "2025-09-19T14:30:00.493134",
     "status": "completed"
    },
    "tags": []
   },
   "outputs": [],
   "source": []
  },
  {
   "cell_type": "code",
   "execution_count": null,
   "id": "dfa1d3bc",
   "metadata": {
    "papermill": {
     "duration": 0.015942,
     "end_time": "2025-09-19T14:30:00.539510",
     "exception": false,
     "start_time": "2025-09-19T14:30:00.523568",
     "status": "completed"
    },
    "tags": []
   },
   "outputs": [],
   "source": []
  },
  {
   "cell_type": "code",
   "execution_count": null,
   "id": "2ac80dee",
   "metadata": {
    "papermill": {
     "duration": 0.015457,
     "end_time": "2025-09-19T14:30:00.570432",
     "exception": false,
     "start_time": "2025-09-19T14:30:00.554975",
     "status": "completed"
    },
    "tags": []
   },
   "outputs": [],
   "source": []
  },
  {
   "cell_type": "code",
   "execution_count": null,
   "id": "b6c70dfb",
   "metadata": {
    "papermill": {
     "duration": 0.01523,
     "end_time": "2025-09-19T14:30:00.601435",
     "exception": false,
     "start_time": "2025-09-19T14:30:00.586205",
     "status": "completed"
    },
    "tags": []
   },
   "outputs": [],
   "source": []
  }
 ],
 "metadata": {
  "kaggle": {
   "accelerator": "none",
   "dataSources": [
    {
     "datasetId": 8203078,
     "sourceId": 12961420,
     "sourceType": "datasetVersion"
    }
   ],
   "dockerImageVersionId": 31089,
   "isGpuEnabled": false,
   "isInternetEnabled": false,
   "language": "python",
   "sourceType": "notebook"
  },
  "kernelspec": {
   "display_name": "Python 3",
   "language": "python",
   "name": "python3"
  },
  "language_info": {
   "codemirror_mode": {
    "name": "ipython",
    "version": 3
   },
   "file_extension": ".py",
   "mimetype": "text/x-python",
   "name": "python",
   "nbconvert_exporter": "python",
   "pygments_lexer": "ipython3",
   "version": "3.11.13"
  },
  "papermill": {
   "default_parameters": {},
   "duration": 16.449717,
   "end_time": "2025-09-19T14:30:01.437217",
   "environment_variables": {},
   "exception": null,
   "input_path": "__notebook__.ipynb",
   "output_path": "__notebook__.ipynb",
   "parameters": {},
   "start_time": "2025-09-19T14:29:44.987500",
   "version": "2.6.0"
  }
 },
 "nbformat": 4,
 "nbformat_minor": 5
}
